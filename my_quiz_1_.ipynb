{
 "cells": [
  {
   "cell_type": "markdown",
   "id": "d6a894ad-715f-4c75-8460-d066e59449db",
   "metadata": {},
   "source": [
    "My Quiz"
   ]
  },
  {
   "cell_type": "code",
   "execution_count": 4,
   "id": "71f64006-839a-4612-ab8e-2045f95e3ef4",
   "metadata": {},
   "outputs": [],
   "source": [
    "#1. What is the purpose of the math module in Python?\n",
    "#ans-mathematical operations"
   ]
  },
  {
   "cell_type": "code",
   "execution_count": 6,
   "id": "16bca0e0-4479-44ea-987c-bf19b0e1ba24",
   "metadata": {},
   "outputs": [],
   "source": [
    "#2. Which of the following is a built-in function in Python?\n",
    "#ans-print()"
   ]
  },
  {
   "cell_type": "code",
   "execution_count": 8,
   "id": "5d70d6b8-6d8a-4d87-a5c0-8f6676b305df",
   "metadata": {},
   "outputs": [],
   "source": [
    "#3. What will be the output of type(10) in Python?\n",
    "#ans-int"
   ]
  },
  {
   "cell_type": "code",
   "execution_count": 10,
   "id": "f0cbbf2f-c036-4677-ace5-db651a859d4c",
   "metadata": {},
   "outputs": [],
   "source": [
    "#4. What is the result of 5 // 2?\n",
    "#ans-2"
   ]
  },
  {
   "cell_type": "code",
   "execution_count": 12,
   "id": "486db516-1d29-43b0-a93c-fea833f7d256",
   "metadata": {},
   "outputs": [],
   "source": [
    "#5. Which operator is used for exponentiation in Python?\n",
    "#ans-**"
   ]
  },
  {
   "cell_type": "code",
   "execution_count": 34,
   "id": "bc4ed202-3a08-4adb-a635-424ff7c0d44e",
   "metadata": {},
   "outputs": [],
   "source": [
    "#6. Which function is used to get the length of a string in Python?\n",
    "#ans-len()\n"
   ]
  },
  {
   "cell_type": "code",
   "execution_count": 16,
   "id": "e85e401a-bd1a-446f-b046-571b9af46f71",
   "metadata": {},
   "outputs": [],
   "source": [
    "#7. What will bool([]) return?\n",
    "#ans-false"
   ]
  },
  {
   "cell_type": "code",
   "execution_count": 18,
   "id": "0875a5b3-2704-43ac-b1b7-5293a2487de6",
   "metadata": {},
   "outputs": [],
   "source": [
    "#8. Which of the following is an immutable data type in Python?\n",
    "#ans-tuple"
   ]
  },
  {
   "cell_type": "code",
   "execution_count": 20,
   "id": "ef8582be-d041-49cd-9ab2-599f58f6b775",
   "metadata": {},
   "outputs": [],
   "source": [
    "#9. What is the output of bool(0) in Python?\n",
    "#ans-false"
   ]
  },
  {
   "cell_type": "code",
   "execution_count": 22,
   "id": "dbcc2ef7-d63b-4c46-a769-6ee127014e7e",
   "metadata": {},
   "outputs": [],
   "source": [
    "#10. What will type(\"Hello\") return?\n",
    "#ans-str"
   ]
  },
  {
   "cell_type": "code",
   "execution_count": 24,
   "id": "b8b01ce4-4e14-425d-92f5-2bd8f95e6db2",
   "metadata": {},
   "outputs": [],
   "source": [
    "#11. What does the input() function return in Python?\n",
    "#ans-string"
   ]
  },
  {
   "cell_type": "code",
   "execution_count": 26,
   "id": "cbbfd95f-831f-4b68-b8d0-5dcf17bfc8d9",
   "metadata": {},
   "outputs": [],
   "source": [
    "#12. Which operator is used to check equality in Python?\n",
    "#ans-=="
   ]
  },
  {
   "cell_type": "code",
   "execution_count": 56,
   "id": "604fb7b9-ee3a-4daf-8360-83d3c2e16d74",
   "metadata": {},
   "outputs": [],
   "source": [
    "#13. What is the result of 10 % 3?\n",
    "#ans-3"
   ]
  },
  {
   "cell_type": "code",
   "execution_count": 36,
   "id": "1967c0d5-43f4-4730-9f1b-7900cb155dca",
   "metadata": {},
   "outputs": [],
   "source": [
    "#14. What will max([1, 5, 3, 9, 2]) return?\n",
    "#ans-9"
   ]
  },
  {
   "cell_type": "code",
   "execution_count": null,
   "id": "f55bd191-5195-418c-8d91-0014c8d36c42",
   "metadata": {},
   "outputs": [],
   "source": [
    "#15. Which method is used to convert a string to lowercase in Python?\n",
    "#ans-lower()"
   ]
  },
  {
   "cell_type": "code",
   "execution_count": 38,
   "id": "1d55dd19-bf53-4e69-a627-636e20e8a581",
   "metadata": {},
   "outputs": [],
   "source": [
    "#16. What is the output of int(5.9)?\n",
    "#ans-5"
   ]
  },
  {
   "cell_type": "code",
   "execution_count": 40,
   "id": "b0005ee1-ff66-4437-b4cb-b0fa59d6882c",
   "metadata": {},
   "outputs": [],
   "source": [
    "#17. What will len([1, 2, 3, 4, 5]) return?\n",
    "#ans-5"
   ]
  },
  {
   "cell_type": "code",
   "execution_count": 42,
   "id": "f0e95193-ec6b-440b-9caf-15963dd4540f",
   "metadata": {},
   "outputs": [],
   "source": [
    "#18. What is the result of 3 * \"Python\"?\n",
    "#ans-[\"Python\", \"Python\", \"Python\"]"
   ]
  },
  {
   "cell_type": "code",
   "execution_count": 44,
   "id": "95efe630-e9a1-4458-a65b-07fdd4c7d7ee",
   "metadata": {},
   "outputs": [],
   "source": [
    "#19. What will round(3.75) return?\n",
    "#ans-3.7"
   ]
  },
  {
   "cell_type": "code",
   "execution_count": 46,
   "id": "6b2809cb-d239-4040-8dc5-0c8576b66ba6",
   "metadata": {},
   "outputs": [],
   "source": [
    "#20. What is the keyword used to define a function in Python?\n",
    "#ans-Def"
   ]
  },
  {
   "cell_type": "code",
   "execution_count": null,
   "id": "8f574973-bf39-42e0-8dfe-55cece177c4a",
   "metadata": {},
   "outputs": [],
   "source": []
  }
 ],
 "metadata": {
  "kernelspec": {
   "display_name": "Python [conda env:base] *",
   "language": "python",
   "name": "conda-base-py"
  },
  "language_info": {
   "codemirror_mode": {
    "name": "ipython",
    "version": 3
   },
   "file_extension": ".py",
   "mimetype": "text/x-python",
   "name": "python",
   "nbconvert_exporter": "python",
   "pygments_lexer": "ipython3",
   "version": "3.12.7"
  }
 },
 "nbformat": 4,
 "nbformat_minor": 5
}
