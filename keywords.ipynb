{
 "cells": [
  {
   "cell_type": "markdown",
   "id": "078f07f4-085f-43d4-8a59-ab544592aa84",
   "metadata": {},
   "source": [
    "Key Word\n"
   ]
  },
  {
   "cell_type": "code",
   "execution_count": 2,
   "id": "21561714-795c-4949-844a-2d8ff5cc854e",
   "metadata": {},
   "outputs": [],
   "source": [
    "name = 'rahul'\n"
   ]
  },
  {
   "cell_type": "code",
   "execution_count": 3,
   "id": "190d9a36-8936-4dde-8982-0894d29949c7",
   "metadata": {},
   "outputs": [
    {
     "ename": "SyntaxError",
     "evalue": "invalid syntax (1645396272.py, line 1)",
     "output_type": "error",
     "traceback": [
      "\u001b[1;36m  Cell \u001b[1;32mIn[3], line 1\u001b[1;36m\u001b[0m\n\u001b[1;33m    @=10\u001b[0m\n\u001b[1;37m    ^\u001b[0m\n\u001b[1;31mSyntaxError\u001b[0m\u001b[1;31m:\u001b[0m invalid syntax\n"
     ]
    }
   ],
   "source": [
    "@=10"
   ]
  },
  {
   "cell_type": "code",
   "execution_count": null,
   "id": "d3de68f7-f1b1-46e6-b5b6-c32ee46d070c",
   "metadata": {},
   "outputs": [],
   "source": [
    "for =10"
   ]
  },
  {
   "cell_type": "code",
   "execution_count": null,
   "id": "3ad069ee-e1b9-4af6-9111-27412fd6de65",
   "metadata": {},
   "outputs": [],
   "source": [
    "1 =50"
   ]
  },
  {
   "cell_type": "code",
   "execution_count": null,
   "id": "7ed59d36-d867-4597-9323-79987578b1d0",
   "metadata": {},
   "outputs": [],
   "source": [
    "var 1 =10"
   ]
  },
  {
   "cell_type": "code",
   "execution_count": null,
   "id": "05ffead0-1571-4d62-a970-bcafde181697",
   "metadata": {},
   "outputs": [],
   "source": [
    "var1 =10\n"
   ]
  },
  {
   "cell_type": "code",
   "execution_count": null,
   "id": "ba1388f1-7378-4dab-a315-356c3ef6d687",
   "metadata": {},
   "outputs": [],
   "source": [
    "1one =10"
   ]
  },
  {
   "cell_type": "code",
   "execution_count": null,
   "id": "61f32d72-72bf-4ffd-bc30-c827994f3735",
   "metadata": {},
   "outputs": [],
   "source": [
    "one1 =10"
   ]
  },
  {
   "cell_type": "code",
   "execution_count": null,
   "id": "d0cb8c74-75b1-4e4b-a6e4-d61ee2d59337",
   "metadata": {},
   "outputs": [],
   "source": [
    "two2 =20"
   ]
  },
  {
   "cell_type": "code",
   "execution_count": null,
   "id": "2f5ee55b-ba1e-4dd1-b71d-c9fae13cce25",
   "metadata": {},
   "outputs": [],
   "source": [
    "twentyfour24 =240"
   ]
  },
  {
   "cell_type": "code",
   "execution_count": null,
   "id": "c04738ba-d229-4433-bf67-adfce724d6e7",
   "metadata": {},
   "outputs": [],
   "source": [
    "eight8nine9 =890"
   ]
  },
  {
   "cell_type": "code",
   "execution_count": null,
   "id": "87d9ba45-dc6b-42df-b351-e32662b78d6d",
   "metadata": {},
   "outputs": [],
   "source": [
    "jupyter21class =2121"
   ]
  },
  {
   "cell_type": "code",
   "execution_count": null,
   "id": "e3f7f565-2354-44d2-9063-a144322025ca",
   "metadata": {},
   "outputs": [],
   "source": [
    "jupyter21class"
   ]
  },
  {
   "cell_type": "code",
   "execution_count": null,
   "id": "141ecc5d-aa50-447e-96a3-dbfe61d63e07",
   "metadata": {},
   "outputs": [],
   "source": [
    "red20blue30black40 =90"
   ]
  },
  {
   "cell_type": "code",
   "execution_count": null,
   "id": "329b8118-5d9f-4836-99d2-57af152e4913",
   "metadata": {},
   "outputs": [],
   "source": [
    "red20blue30black40"
   ]
  },
  {
   "cell_type": "code",
   "execution_count": null,
   "id": "00b07b7a-c47e-45a6-a563-329275c6edb8",
   "metadata": {},
   "outputs": [],
   "source": [
    "trucks2121cars3121bikes4432 =765432"
   ]
  },
  {
   "cell_type": "code",
   "execution_count": null,
   "id": "588e3d23-a6fc-459c-b408-83c76c25b0ab",
   "metadata": {},
   "outputs": [],
   "source": [
    "weekday =('sunday','monday','tuesday','wednesday','thursday','friday','saturday')"
   ]
  },
  {
   "cell_type": "code",
   "execution_count": null,
   "id": "beec4a36-9f92-42b5-a81c-7b83241adcf9",
   "metadata": {},
   "outputs": [],
   "source": [
    "print(weekday)"
   ]
  },
  {
   "cell_type": "code",
   "execution_count": null,
   "id": "5a7e4c32-af80-4f49-9f48-a517adbf7dbe",
   "metadata": {},
   "outputs": [],
   "source": [
    "room =('chairs','laptop',5,'bags')"
   ]
  },
  {
   "cell_type": "code",
   "execution_count": null,
   "id": "9115eb14-ce71-4220-b642-50b5ffb858a1",
   "metadata": {},
   "outputs": [],
   "source": [
    "print(room)"
   ]
  },
  {
   "cell_type": "code",
   "execution_count": null,
   "id": "00656d66-80e4-4000-a405-81383f247f43",
   "metadata": {},
   "outputs": [],
   "source": [
    "months =('january','februrary','march','april','may','june','july','august','september','october','nobember','december')"
   ]
  },
  {
   "cell_type": "code",
   "execution_count": null,
   "id": "c53b8897-ceaa-494f-8195-1e2171eb899d",
   "metadata": {},
   "outputs": [],
   "source": [
    "print(months)"
   ]
  },
  {
   "cell_type": "code",
   "execution_count": null,
   "id": "7e9bb17c-8745-4617-bf09-a1fb5a7b7706",
   "metadata": {},
   "outputs": [],
   "source": [
    "cars =('hyundai','maruti','ford','kia','mg hector','lexus','audi','bmw')"
   ]
  },
  {
   "cell_type": "code",
   "execution_count": null,
   "id": "41b6cbe6-c677-4a65-945f-87764bd251ae",
   "metadata": {},
   "outputs": [],
   "source": [
    "cars"
   ]
  },
  {
   "cell_type": "code",
   "execution_count": null,
   "id": "5a831141-efd7-4c90-b509-a5e55f7ea418",
   "metadata": {},
   "outputs": [],
   "source": [
    "company =('microsoft','google','WIPRO')"
   ]
  },
  {
   "cell_type": "markdown",
   "id": "6a5221e0-cb8e-4ba5-997f-260e0e4842c5",
   "metadata": {},
   "source": []
  },
  {
   "cell_type": "code",
   "execution_count": null,
   "id": "0b0eca67-7b80-4352-9ea3-cc7c10be2944",
   "metadata": {},
   "outputs": [],
   "source": [
    "print=(company)"
   ]
  },
  {
   "cell_type": "code",
   "execution_count": null,
   "id": "1fc71878-afd2-4db8-872b-2f2b10c2f712",
   "metadata": {},
   "outputs": [],
   "source": [
    "print"
   ]
  },
  {
   "cell_type": "code",
   "execution_count": null,
   "id": "83ddcb13-48e9-4812-9eea-774f01af0aa7",
   "metadata": {},
   "outputs": [],
   "source": [
    "company"
   ]
  },
  {
   "cell_type": "code",
   "execution_count": null,
   "id": "22688fd4-1a9a-4a4f-babd-0a759b473707",
   "metadata": {},
   "outputs": [],
   "source": [
    "phones =('vivo','apple','oppo','samsung','asus','infinix','poco',)"
   ]
  },
  {
   "cell_type": "code",
   "execution_count": null,
   "id": "e28a2857-8ed4-44eb-a873-df73a3f5ba9f",
   "metadata": {},
   "outputs": [],
   "source": [
    "phones"
   ]
  },
  {
   "cell_type": "code",
   "execution_count": null,
   "id": "fd328817-393e-4a21-8dd1-d69be312bdf2",
   "metadata": {},
   "outputs": [],
   "source": [
    "print(phones)"
   ]
  },
  {
   "cell_type": "code",
   "execution_count": null,
   "id": "41e732fd-6de3-4c3c-987d-6d5f4e4e8cd2",
   "metadata": {},
   "outputs": [],
   "source": [
    "company"
   ]
  },
  {
   "cell_type": "code",
   "execution_count": null,
   "id": "f5cc4d78-f303-406c-bfa2-f22b746ca9de",
   "metadata": {},
   "outputs": [],
   "source": []
  }
 ],
 "metadata": {
  "kernelspec": {
   "display_name": "Python [conda env:base] *",
   "language": "python",
   "name": "conda-base-py"
  },
  "language_info": {
   "codemirror_mode": {
    "name": "ipython",
    "version": 3
   },
   "file_extension": ".py",
   "mimetype": "text/x-python",
   "name": "python",
   "nbconvert_exporter": "python",
   "pygments_lexer": "ipython3",
   "version": "3.12.7"
  }
 },
 "nbformat": 4,
 "nbformat_minor": 5
}
