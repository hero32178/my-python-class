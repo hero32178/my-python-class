{
 "cells": [
  {
   "cell_type": "markdown",
   "id": "7c6d5b97-d0f9-4951-9e9d-6d3110215521",
   "metadata": {},
   "source": [
    "Input Function"
   ]
  },
  {
   "cell_type": "code",
   "execution_count": 2,
   "id": "90a6753b-aaf4-4931-81f8-c6a392867a8d",
   "metadata": {},
   "outputs": [
    {
     "name": "stdin",
     "output_type": "stream",
     "text": [
      "enter your name vishesh sangwan\n"
     ]
    },
    {
     "data": {
      "text/plain": [
       "'vishesh sangwan'"
      ]
     },
     "execution_count": 2,
     "metadata": {},
     "output_type": "execute_result"
    }
   ],
   "source": [
    "input('enter your name')"
   ]
  },
  {
   "cell_type": "code",
   "execution_count": 4,
   "id": "20e241ce-df52-49bb-ac73-4a2fd48015a5",
   "metadata": {},
   "outputs": [
    {
     "name": "stdin",
     "output_type": "stream",
     "text": [
      "Enter your age:  18\n"
     ]
    }
   ],
   "source": [
    "# Input from user\n",
    "age = input(\"Enter your age: \")"
   ]
  },
  {
   "cell_type": "code",
   "execution_count": 10,
   "id": "d42b1203-76f6-4dee-95f4-a9afe710b7be",
   "metadata": {},
   "outputs": [
    {
     "name": "stdin",
     "output_type": "stream",
     "text": [
      "Enter first number:  10\n",
      "Enter second number:  20\n"
     ]
    }
   ],
   "source": [
    "first_num = int(input(\"Enter first number: \"))\n",
    "second_num = int(input(\"Enter second number: \"))"
   ]
  },
  {
   "cell_type": "code",
   "execution_count": 12,
   "id": "a0309d7e-1cc7-4cca-8978-f4f8097e800e",
   "metadata": {},
   "outputs": [
    {
     "name": "stdout",
     "output_type": "stream",
     "text": [
      "30\n"
     ]
    }
   ],
   "source": [
    "result = first_num + second_num\n",
    "print(result)"
   ]
  },
  {
   "cell_type": "code",
   "execution_count": 14,
   "id": "1ae9aad3-c913-4410-b777-879906cc972b",
   "metadata": {},
   "outputs": [
    {
     "data": {
      "text/plain": [
       "int"
      ]
     },
     "execution_count": 14,
     "metadata": {},
     "output_type": "execute_result"
    }
   ],
   "source": [
    "# type() function\n",
    "type(4)"
   ]
  },
  {
   "cell_type": "code",
   "execution_count": 16,
   "id": "bbd8ab9d-a0fd-4364-a1a4-36f216bf40a4",
   "metadata": {},
   "outputs": [
    {
     "data": {
      "text/plain": [
       "float"
      ]
     },
     "execution_count": 16,
     "metadata": {},
     "output_type": "execute_result"
    }
   ],
   "source": [
    "# type() function\n",
    "type(2.5)"
   ]
  },
  {
   "cell_type": "code",
   "execution_count": 18,
   "id": "cd7223e9-1394-4d45-be09-16fba1896c9a",
   "metadata": {},
   "outputs": [
    {
     "data": {
      "text/plain": [
       "int"
      ]
     },
     "execution_count": 18,
     "metadata": {},
     "output_type": "execute_result"
    }
   ],
   "source": [
    "type(400)"
   ]
  },
  {
   "cell_type": "code",
   "execution_count": 20,
   "id": "8111bdcb-a90d-4d1b-9a4c-f8c55a027574",
   "metadata": {},
   "outputs": [
    {
     "data": {
      "text/plain": [
       "float"
      ]
     },
     "execution_count": 20,
     "metadata": {},
     "output_type": "execute_result"
    }
   ],
   "source": [
    "type(20.20)"
   ]
  },
  {
   "cell_type": "code",
   "execution_count": 24,
   "id": "780d200e-cd73-4f9e-9403-9e87c49c554a",
   "metadata": {},
   "outputs": [
    {
     "data": {
      "text/plain": [
       "int"
      ]
     },
     "execution_count": 24,
     "metadata": {},
     "output_type": "execute_result"
    }
   ],
   "source": [
    "type(2121)"
   ]
  },
  {
   "cell_type": "code",
   "execution_count": 26,
   "id": "64b4fa37-ee08-4144-a4c6-16f55b2ef7cd",
   "metadata": {},
   "outputs": [
    {
     "data": {
      "text/plain": [
       "float"
      ]
     },
     "execution_count": 26,
     "metadata": {},
     "output_type": "execute_result"
    }
   ],
   "source": [
    "type(660.2210)"
   ]
  },
  {
   "cell_type": "code",
   "execution_count": 28,
   "id": "7a046757-6c88-463f-8a17-f8fcb197ee55",
   "metadata": {},
   "outputs": [
    {
     "data": {
      "text/plain": [
       "int"
      ]
     },
     "execution_count": 28,
     "metadata": {},
     "output_type": "execute_result"
    }
   ],
   "source": [
    "type(first_num)"
   ]
  },
  {
   "cell_type": "code",
   "execution_count": 34,
   "id": "70a35012-ae2f-4456-b3a0-a306c6d582d5",
   "metadata": {},
   "outputs": [
    {
     "data": {
      "text/plain": [
       "10"
      ]
     },
     "execution_count": 34,
     "metadata": {},
     "output_type": "execute_result"
    }
   ],
   "source": [
    "first_num"
   ]
  },
  {
   "cell_type": "code",
   "execution_count": 36,
   "id": "151358fa-cf72-4565-9862-c5f0a3e5e4eb",
   "metadata": {},
   "outputs": [
    {
     "data": {
      "text/plain": [
       "11.7"
      ]
     },
     "execution_count": 36,
     "metadata": {},
     "output_type": "execute_result"
    }
   ],
   "source": [
    "4 + 7.7"
   ]
  },
  {
   "cell_type": "code",
   "execution_count": 38,
   "id": "c0475f77-197a-47fd-9623-2495a0f4eb62",
   "metadata": {},
   "outputs": [
    {
     "data": {
      "text/plain": [
       "42.21"
      ]
     },
     "execution_count": 38,
     "metadata": {},
     "output_type": "execute_result"
    }
   ],
   "source": [
    "21 + 21.21"
   ]
  },
  {
   "cell_type": "code",
   "execution_count": 40,
   "id": "b70c7d9d-db9c-4aac-906f-39760eeba9b3",
   "metadata": {},
   "outputs": [
    {
     "data": {
      "text/plain": [
       "6680600666090.234"
      ]
     },
     "execution_count": 40,
     "metadata": {},
     "output_type": "execute_result"
    }
   ],
   "source": [
    "20000000000.2345 + 6660600666090"
   ]
  },
  {
   "cell_type": "code",
   "execution_count": 42,
   "id": "f6a00522-3f50-4afe-8605-9086a91f4b43",
   "metadata": {},
   "outputs": [
    {
     "data": {
      "text/plain": [
       "(11+7j)"
      ]
     },
     "execution_count": 42,
     "metadata": {},
     "output_type": "execute_result"
    }
   ],
   "source": [
    "5 + 6+7j"
   ]
  },
  {
   "cell_type": "code",
   "execution_count": 46,
   "id": "a4132d00-81ba-4792-bfdd-4391987d0230",
   "metadata": {},
   "outputs": [
    {
     "data": {
      "text/plain": [
       "(233243+0j)"
      ]
     },
     "execution_count": 46,
     "metadata": {},
     "output_type": "execute_result"
    }
   ],
   "source": [
    "complex(233243)"
   ]
  },
  {
   "cell_type": "code",
   "execution_count": 50,
   "id": "fcc72d98-926d-433a-b2fc-7419074f3c6c",
   "metadata": {},
   "outputs": [
    {
     "data": {
      "text/plain": [
       "(1+0j)"
      ]
     },
     "execution_count": 50,
     "metadata": {},
     "output_type": "execute_result"
    }
   ],
   "source": [
    "complex(1)"
   ]
  },
  {
   "cell_type": "code",
   "execution_count": 52,
   "id": "4987fdc9-6480-4668-8d05-7fd7c9bb5726",
   "metadata": {},
   "outputs": [
    {
     "data": {
      "text/plain": [
       "True"
      ]
     },
     "execution_count": 52,
     "metadata": {},
     "output_type": "execute_result"
    }
   ],
   "source": [
    "bool(1)"
   ]
  },
  {
   "cell_type": "code",
   "execution_count": 54,
   "id": "5bb52d22-5ccd-4d5e-b1f4-783bba056da7",
   "metadata": {},
   "outputs": [],
   "source": [
    "a = 10\n",
    "b = 10\n",
    "c = a+b"
   ]
  },
  {
   "cell_type": "code",
   "execution_count": 56,
   "id": "5841a664-8b6e-41eb-9e15-82dac2de9f96",
   "metadata": {},
   "outputs": [
    {
     "data": {
      "text/plain": [
       "20"
      ]
     },
     "execution_count": 56,
     "metadata": {},
     "output_type": "execute_result"
    }
   ],
   "source": [
    "c"
   ]
  },
  {
   "cell_type": "code",
   "execution_count": 58,
   "id": "7b1d0bb6-4037-495b-974b-a5a23213174e",
   "metadata": {},
   "outputs": [],
   "source": [
    "a ,b,c=1,2,3"
   ]
  },
  {
   "cell_type": "code",
   "execution_count": 60,
   "id": "85a9ecdb-cc1b-4648-bb2e-96474a15ec1a",
   "metadata": {},
   "outputs": [
    {
     "data": {
      "text/plain": [
       "3"
      ]
     },
     "execution_count": 60,
     "metadata": {},
     "output_type": "execute_result"
    }
   ],
   "source": [
    "c"
   ]
  },
  {
   "cell_type": "code",
   "execution_count": 62,
   "id": "27503ecd-3ae6-4b0d-b6ec-e8cd465f6f82",
   "metadata": {},
   "outputs": [],
   "source": [
    "a = 10\n",
    "b = 20\n",
    "c = a+b+10"
   ]
  },
  {
   "cell_type": "code",
   "execution_count": 64,
   "id": "bc3bc173-61df-444b-a766-a0d4741266e4",
   "metadata": {},
   "outputs": [
    {
     "data": {
      "text/plain": [
       "40"
      ]
     },
     "execution_count": 64,
     "metadata": {},
     "output_type": "execute_result"
    }
   ],
   "source": [
    "c"
   ]
  },
  {
   "cell_type": "code",
   "execution_count": 66,
   "id": "98b17b00-29f9-4e5a-92d7-26136207b556",
   "metadata": {},
   "outputs": [],
   "source": [
    "#int\n",
    "#float\n",
    "#complex\n",
    "#bool\n",
    "#str"
   ]
  },
  {
   "cell_type": "code",
   "execution_count": 68,
   "id": "f702a826-541e-4894-b25e-54c74296f2f0",
   "metadata": {},
   "outputs": [],
   "source": [
    "#int means-numercal vaue ya whole number\n",
    "a = int(10)"
   ]
  },
  {
   "cell_type": "code",
   "execution_count": 70,
   "id": "3f16bd3b-9840-4350-a071-831c6de5cb45",
   "metadata": {},
   "outputs": [
    {
     "data": {
      "text/plain": [
       "10"
      ]
     },
     "execution_count": 70,
     "metadata": {},
     "output_type": "execute_result"
    }
   ],
   "source": [
    "a"
   ]
  },
  {
   "cell_type": "code",
   "execution_count": 72,
   "id": "71bf32cb-94db-4af7-bf80-70aa256497e5",
   "metadata": {},
   "outputs": [
    {
     "data": {
      "text/plain": [
       "2"
      ]
     },
     "execution_count": 72,
     "metadata": {},
     "output_type": "execute_result"
    }
   ],
   "source": [
    "int(2.5)"
   ]
  },
  {
   "cell_type": "code",
   "execution_count": 74,
   "id": "75127b41-b6e2-4253-8857-68142d9a9b59",
   "metadata": {},
   "outputs": [
    {
     "data": {
      "text/plain": [
       "2.0"
      ]
     },
     "execution_count": 74,
     "metadata": {},
     "output_type": "execute_result"
    }
   ],
   "source": [
    "float(2)"
   ]
  },
  {
   "cell_type": "code",
   "execution_count": 76,
   "id": "7a09f154-68ad-4114-b05e-92075b8b0170",
   "metadata": {},
   "outputs": [
    {
     "data": {
      "text/plain": [
       "(1+0j)"
      ]
     },
     "execution_count": 76,
     "metadata": {},
     "output_type": "execute_result"
    }
   ],
   "source": [
    "complex(1)"
   ]
  },
  {
   "cell_type": "code",
   "execution_count": 78,
   "id": "aaebefb6-e315-429f-9bc6-ed32e5c9b866",
   "metadata": {},
   "outputs": [
    {
     "data": {
      "text/plain": [
       "True"
      ]
     },
     "execution_count": 78,
     "metadata": {},
     "output_type": "execute_result"
    }
   ],
   "source": [
    "bool(1)"
   ]
  },
  {
   "cell_type": "code",
   "execution_count": 80,
   "id": "c305e485-22bb-4441-bb15-56041c62e0a9",
   "metadata": {},
   "outputs": [
    {
     "data": {
      "text/plain": [
       "False"
      ]
     },
     "execution_count": 80,
     "metadata": {},
     "output_type": "execute_result"
    }
   ],
   "source": [
    "bool(0)"
   ]
  },
  {
   "cell_type": "code",
   "execution_count": 84,
   "id": "a342709d-943d-44d2-a2ce-943c47c634ba",
   "metadata": {},
   "outputs": [
    {
     "data": {
      "text/plain": [
       "1"
      ]
     },
     "execution_count": 84,
     "metadata": {},
     "output_type": "execute_result"
    }
   ],
   "source": [
    "True+False#true 1,false 0"
   ]
  },
  {
   "cell_type": "code",
   "execution_count": 86,
   "id": "8bb70ea6-f14d-4a02-835e-01c9253f01a0",
   "metadata": {},
   "outputs": [
    {
     "data": {
      "text/plain": [
       "3"
      ]
     },
     "execution_count": 86,
     "metadata": {},
     "output_type": "execute_result"
    }
   ],
   "source": [
    "True+True+True"
   ]
  },
  {
   "cell_type": "code",
   "execution_count": 88,
   "id": "f6f21455-59c2-4dc5-8a77-9490705c663e",
   "metadata": {},
   "outputs": [],
   "source": [
    "#str-string\n",
    "a = 'vishesh'\n",
    "b = \"vishesh\"\n",
    "c = \"\"\"vishesh\"\"\""
   ]
  },
  {
   "cell_type": "code",
   "execution_count": 90,
   "id": "c580a8d3-8bbe-40d2-8158-444f4acd28a6",
   "metadata": {},
   "outputs": [
    {
     "data": {
      "text/plain": [
       "'vishesh'"
      ]
     },
     "execution_count": 90,
     "metadata": {},
     "output_type": "execute_result"
    }
   ],
   "source": [
    "c"
   ]
  },
  {
   "cell_type": "code",
   "execution_count": 92,
   "id": "dc096909-1c93-468a-997c-0ed23f0644f0",
   "metadata": {},
   "outputs": [
    {
     "data": {
      "text/plain": [
       "'vishesh'"
      ]
     },
     "execution_count": 92,
     "metadata": {},
     "output_type": "execute_result"
    }
   ],
   "source": [
    "b"
   ]
  },
  {
   "cell_type": "code",
   "execution_count": 94,
   "id": "a34fb9f4-5ec3-4b15-aa24-758a322114f0",
   "metadata": {},
   "outputs": [
    {
     "data": {
      "text/plain": [
       "'vishesh'"
      ]
     },
     "execution_count": 94,
     "metadata": {},
     "output_type": "execute_result"
    }
   ],
   "source": [
    "a"
   ]
  },
  {
   "cell_type": "code",
   "execution_count": 98,
   "id": "4ab22982-f586-4fbc-8b09-85a7036b6c48",
   "metadata": {},
   "outputs": [
    {
     "data": {
      "text/plain": [
       "str"
      ]
     },
     "execution_count": 98,
     "metadata": {},
     "output_type": "execute_result"
    }
   ],
   "source": [
    "type(c)"
   ]
  },
  {
   "cell_type": "code",
   "execution_count": null,
   "id": "49280d33-99e2-401e-9262-fd24c3685f83",
   "metadata": {},
   "outputs": [],
   "source": []
  },
  {
   "cell_type": "code",
   "execution_count": null,
   "id": "d13d6306-440e-4fae-b2a0-946460b27580",
   "metadata": {},
   "outputs": [],
   "source": []
  }
 ],
 "metadata": {
  "kernelspec": {
   "display_name": "Python [conda env:base] *",
   "language": "python",
   "name": "conda-base-py"
  },
  "language_info": {
   "codemirror_mode": {
    "name": "ipython",
    "version": 3
   },
   "file_extension": ".py",
   "mimetype": "text/x-python",
   "name": "python",
   "nbconvert_exporter": "python",
   "pygments_lexer": "ipython3",
   "version": "3.12.7"
  }
 },
 "nbformat": 4,
 "nbformat_minor": 5
}
