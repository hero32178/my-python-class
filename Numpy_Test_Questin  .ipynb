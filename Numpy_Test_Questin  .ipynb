{
 "cells": [
  {
   "cell_type": "markdown",
   "id": "7eee8b7c-4b1b-4f63-a41f-445c31ff93fe",
   "metadata": {},
   "source": [
    "1. ## what is numpy?"
   ]
  },
  {
   "cell_type": "markdown",
   "id": "1a0593c9-e96f-4360-92b7-cfb4969052fe",
   "metadata": {},
   "source": [
    " a powerful Python library primarily used for numerical and scientific computing."
   ]
  },
  {
   "cell_type": "markdown",
   "id": "dbdcc73e-4dea-4aed-a365-1e77f9fc56e7",
   "metadata": {},
   "source": [
    "2. ## how to install numpy?"
   ]
  },
  {
   "cell_type": "markdown",
   "id": "db0424ca-6e96-480e-927c-26db1afb3a77",
   "metadata": {},
   "source": [
    " pip install numpy"
   ]
  },
  {
   "cell_type": "markdown",
   "id": "d8864af0-4e6f-45a4-8996-372124002514",
   "metadata": {},
   "source": [
    "3. ## how to import numpy?"
   ]
  },
  {
   "cell_type": "markdown",
   "id": "eb0b0be6-d96f-4512-96f1-eec88b890ee5",
   "metadata": {},
   "source": [
    "import numpy as np"
   ]
  },
  {
   "cell_type": "markdown",
   "id": "da494d50-e42d-4212-bb3d-b59caeb42bbd",
   "metadata": {},
   "source": [
    "4. ## how to create 1d numpy array?"
   ]
  },
  {
   "cell_type": "code",
   "execution_count": 2,
   "id": "06e00462-366e-477c-8eaa-6424e90d5e3d",
   "metadata": {},
   "outputs": [
    {
     "name": "stdout",
     "output_type": "stream",
     "text": [
      "[1 2 3 4 5]\n"
     ]
    }
   ],
   "source": [
    "import numpy as np\n",
    "arr = np.array([1, 2, 3, 4, 5])\n",
    "print(arr)"
   ]
  },
  {
   "cell_type": "markdown",
   "id": "3d7b2e24-ace4-46a7-b17f-05257cd675b4",
   "metadata": {},
   "source": [
    "5. ## how to create 2d array?"
   ]
  },
  {
   "cell_type": "code",
   "execution_count": 3,
   "id": "7ec6c51d-b464-45aa-9457-d2cc32874261",
   "metadata": {},
   "outputs": [
    {
     "name": "stdout",
     "output_type": "stream",
     "text": [
      "[[1 2 3]\n",
      " [4 5 6]]\n"
     ]
    }
   ],
   "source": [
    "import numpy as np\n",
    "arr = np.array([[1, 2, 3],\n",
    "                [4, 5, 6]])\n",
    "print(arr)\n"
   ]
  },
  {
   "cell_type": "markdown",
   "id": "53e56dc6-b423-4cfd-bd5f-96f2f2392ac5",
   "metadata": {},
   "source": [
    "6. ## what is the shape of an array?"
   ]
  },
  {
   "cell_type": "markdown",
   "id": "6935dc02-f998-425b-84c2-69d7bca4dbfd",
   "metadata": {},
   "source": [
    "the number of elements in each dimension.\n",
    "NumPy array using the [.shape]"
   ]
  },
  {
   "cell_type": "code",
   "execution_count": 4,
   "id": "549215d1-a4c7-47d6-bb41-10b80a2e7610",
   "metadata": {},
   "outputs": [
    {
     "name": "stdout",
     "output_type": "stream",
     "text": [
      "(2, 3)\n"
     ]
    }
   ],
   "source": [
    "import numpy as np\n",
    "arr = np.array([[1, 2, 3],\n",
    "                [4, 5, 6]])\n",
    "print(arr.shape)\n"
   ]
  },
  {
   "cell_type": "markdown",
   "id": "631f4040-c11f-4119-b9ea-cbd82cda55ff",
   "metadata": {},
   "source": [
    "7. ## how to check the data type of numpy array?"
   ]
  },
  {
   "cell_type": "markdown",
   "id": "bee0c5a5-a0af-4b60-b1bc-1a79972409d9",
   "metadata": {},
   "source": [
    "NumPy array using the .dtype"
   ]
  },
  {
   "cell_type": "code",
   "execution_count": 5,
   "id": "4b41d021-8048-40a3-9069-c8bf67042799",
   "metadata": {},
   "outputs": [
    {
     "name": "stdout",
     "output_type": "stream",
     "text": [
      "int32\n"
     ]
    }
   ],
   "source": [
    "import numpy as np\n",
    "\n",
    "# Create a NumPy array\n",
    "arr = np.array([1, 2, 3, 4])\n",
    "\n",
    "# Check the data type\n",
    "print(arr.dtype)\n",
    "\n"
   ]
  },
  {
   "cell_type": "markdown",
   "id": "67a380b2-a4f0-4d4b-bd2a-b7ed631029ff",
   "metadata": {},
   "source": [
    "8. ## how to create an array of all zeroes?"
   ]
  },
  {
   "cell_type": "markdown",
   "id": "bcf3ae76-1198-460a-8a79-cbc222aea0fc",
   "metadata": {},
   "source": [
    "by using np.zeros()"
   ]
  },
  {
   "cell_type": "code",
   "execution_count": 6,
   "id": "9a704c5b-310e-4a42-8336-1551c0978ad0",
   "metadata": {},
   "outputs": [
    {
     "name": "stdout",
     "output_type": "stream",
     "text": [
      "[0. 0. 0. 0. 0.]\n",
      "[[0. 0. 0.]\n",
      " [0. 0. 0.]]\n"
     ]
    }
   ],
   "source": [
    "import numpy as np\n",
    "\n",
    "arr_1d = np.zeros(5)  \n",
    "print(arr_1d)\n",
    "\n",
    "\n",
    "arr_2d = np.zeros((2, 3))  \n",
    "print(arr_2d)\n"
   ]
  },
  {
   "cell_type": "markdown",
   "id": "6af53580-43d7-4d2a-9d7f-36c3aba06a8f",
   "metadata": {},
   "source": [
    "9. ## how to create an array of all ones?"
   ]
  },
  {
   "cell_type": "markdown",
   "id": "0947c0b9-01da-4b9b-b20c-b795717c0470",
   "metadata": {},
   "source": [
    "by using np.ones()"
   ]
  },
  {
   "cell_type": "code",
   "execution_count": 7,
   "id": "5cf73c3a-d030-4421-a982-a3c74f7efc89",
   "metadata": {},
   "outputs": [
    {
     "name": "stdout",
     "output_type": "stream",
     "text": [
      "[1. 1. 1. 1. 1.]\n",
      "[[1. 1. 1.]\n",
      " [1. 1. 1.]]\n"
     ]
    }
   ],
   "source": [
    "import numpy as np\n",
    "\n",
    "arr_1d = np.ones(5)  \n",
    "print(arr_1d)\n",
    "\n",
    "arr_2d = np.ones((2, 3))  \n",
    "print(arr_2d)\n"
   ]
  },
  {
   "cell_type": "markdown",
   "id": "9290fdfc-5595-422a-a7ab-447fc17e2155",
   "metadata": {},
   "source": [
    "10. ## how to create a range of numbers?"
   ]
  },
  {
   "cell_type": "code",
   "execution_count": null,
   "id": "fd9d2863-3526-452b-8351-e0c7ffb969cb",
   "metadata": {},
   "outputs": [],
   "source": []
  },
  {
   "cell_type": "markdown",
   "id": "f896eb93-9caf-4aa7-8745-eba02c759f0e",
   "metadata": {},
   "source": [
    "11. ## how to create random numbers?"
   ]
  },
  {
   "cell_type": "markdown",
   "id": "102b50b0-7b3f-46b7-aa32-33a66e5f414c",
   "metadata": {},
   "source": [
    "by using np.random"
   ]
  },
  {
   "cell_type": "code",
   "execution_count": 12,
   "id": "c871219e-cac8-4817-88cb-1565c38c90dd",
   "metadata": {},
   "outputs": [
    {
     "ename": "SyntaxError",
     "evalue": "unmatched ')' (3984829554.py, line 7)",
     "output_type": "error",
     "traceback": [
      "\u001b[1;36m  Cell \u001b[1;32mIn[12], line 7\u001b[1;36m\u001b[0m\n\u001b[1;33m    printrrand_arr)\u001b[0m\n\u001b[1;37m                  ^\u001b[0m\n\u001b[1;31mSyntaxError\u001b[0m\u001b[1;31m:\u001b[0m unmatched ')'\n"
     ]
    }
   ],
   "source": [
    "import numpy as np\n",
    "\n",
    "rand_num = np.random.random()\n",
    "print(rand_num)\n",
    "\n",
    "rand_arr = np.random.random(5)\n",
    "printrrandom_arr)\n"
   ]
  },
  {
   "cell_type": "code",
   "execution_count": null,
   "id": "dee8bd11-95d9-430b-ad54-51d71d70cf5a",
   "metadata": {},
   "outputs": [],
   "source": []
  }
 ],
 "metadata": {
  "kernelspec": {
   "display_name": "Python 3 (ipykernel)",
   "language": "python",
   "name": "python3"
  },
  "language_info": {
   "codemirror_mode": {
    "name": "ipython",
    "version": 3
   },
   "file_extension": ".py",
   "mimetype": "text/x-python",
   "name": "python",
   "nbconvert_exporter": "python",
   "pygments_lexer": "ipython3",
   "version": "3.12.7"
  }
 },
 "nbformat": 4,
 "nbformat_minor": 5
}
