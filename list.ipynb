{
 "cells": [
  {
   "cell_type": "markdown",
   "id": "440b087e-b259-4853-a8ae-7a8f7efc3db4",
   "metadata": {},
   "source": [
    "## 1. Lists\n",
    "\n",
    "- What are Lists?\n",
    "- Lists Vs Arrays\n",
    "- Characterstics of a List\n",
    "- How to create a list\n",
    "- Access items from a List\n",
    "- Editing items in a List\n",
    "- Deleting items from a List\n",
    "- Operations on Lists\n",
    "- Functions on Lists\n"
   ]
  },
  {
   "cell_type": "code",
   "execution_count": null,
   "id": "d150fa80-5f27-4b8a-b26e-668ec20bf9ec",
   "metadata": {},
   "outputs": [],
   "source": [
    "What are Lists\n",
    "List is a data type where you can store multiple items under 1 name. More technically, lists act like dynamic arrays which means you can add more items on the fly."
   ]
  },
  {
   "cell_type": "markdown",
   "id": "c2a78896-5ce7-4e2b-9244-9f2b576bea7a",
   "metadata": {},
   "source": [
    "Why Lists are required in programming?\n"
   ]
  },
  {
   "cell_type": "code",
   "execution_count": 27,
   "id": "49502d29-2470-493d-a74a-7e7ff279bc02",
   "metadata": {},
   "outputs": [
    {
     "name": "stdout",
     "output_type": "stream",
     "text": [
      "2517882235584\n",
      "140713566742968\n",
      "140713566743000\n",
      "140713566743032\n",
      "140713566742968\n",
      "140713566743000\n",
      "140713566743032\n"
     ]
    }
   ],
   "source": [
    "L = [1,2,3]\n",
    "\n",
    "print(id(L))\n",
    "print(id(L[0]))\n",
    "print(id(L[1]))\n",
    "print(id(L[2]))\n",
    "print(id(1))\n",
    "print(id(2))\n",
    "print(id(3))"
   ]
  },
  {
   "cell_type": "markdown",
   "id": "65088c0c-ff4d-410f-99e5-d1cc812d3360",
   "metadata": {},
   "source": [
    "## how list are stored in memories"
   ]
  },
  {
   "cell_type": "markdown",
   "id": "bab77eac-99d9-4456-a54c-5937f1292986",
   "metadata": {},
   "source": [
    "## Characterstics of a List\n",
    "- Ordered\n",
    "- Changeble/Mutable\n",
    "- Hetrogeneous\n",
    "- Can have duplicates\n",
    "- are dynamic\n",
    "- can be nested\n",
    "- items can be accessed\n",
    "- can contain any kind of objects in python"
   ]
  },
  {
   "cell_type": "code",
   "execution_count": 35,
   "id": "1f41dd08-3854-4591-8746-a160e0833157",
   "metadata": {},
   "outputs": [
    {
     "data": {
      "text/plain": [
       "False"
      ]
     },
     "execution_count": 35,
     "metadata": {},
     "output_type": "execute_result"
    }
   ],
   "source": [
    "L = [1,2,3,1]\n",
    "L1 = [3,2,1]\n",
    "\n",
    "L == L1"
   ]
  },
  {
   "cell_type": "markdown",
   "id": "e14973cf-a7c2-413f-b774-67d109a0c254",
   "metadata": {},
   "source": [
    "## Creating a List"
   ]
  },
  {
   "cell_type": "code",
   "execution_count": 42,
   "id": "546f095b-3615-47ea-8028-865badb3efe1",
   "metadata": {},
   "outputs": [
    {
     "name": "stdout",
     "output_type": "stream",
     "text": [
      "[]\n",
      "[1, 2, 3, 4, 5]\n",
      "[1, 2, 3, [4, 5]]\n",
      "[[[1, 2], [3, 4]], [[5, 6], [7, 8]]]\n",
      "[1, True, 5.6, (5+6j), 'Hello']\n",
      "['h', 'e', 'l', 'l', 'o']\n"
     ]
    }
   ],
   "source": [
    "# Empty\n",
    "print([])\n",
    "# 1D -> Homo\n",
    "print([1,2,3,4,5])\n",
    "# 2D\n",
    "print([1,2,3,[4,5]])\n",
    "# 3D\n",
    "print([[[1,2],[3,4]],[[5,6],[7,8]]])\n",
    "# Hetrogenous\n",
    "print([1,True,5.6,5+6j,'Hello'])\n",
    "# Using Type conversion\n",
    "print(list('hello'))"
   ]
  },
  {
   "cell_type": "markdown",
   "id": "a7fa7944-0e6f-4676-a4b7-6f16434ef253",
   "metadata": {},
   "source": [
    "## Accessing Items from a List"
   ]
  },
  {
   "cell_type": "code",
   "execution_count": 45,
   "id": "43abeca0-f3be-4b2f-b90d-4517896e8f8f",
   "metadata": {},
   "outputs": [
    {
     "name": "stdout",
     "output_type": "stream",
     "text": [
      "[6, 5, 4, 3, 2, 1]\n"
     ]
    }
   ],
   "source": [
    "# Indexing\n",
    "L = [[[1,2],[3,4]],[[5,6],[7,8]]]\n",
    "#positive\n",
    "#print(L[0][0][1])\n",
    "\n",
    "# Slicing\n",
    "L = [1,2,3,4,5,6]\n",
    "\n",
    "print(L[::-1])"
   ]
  },
  {
   "cell_type": "markdown",
   "id": "fb658810-b0cf-4129-ac91-96c921aac171",
   "metadata": {},
   "source": [
    "## Adding Items to a List"
   ]
  },
  {
   "cell_type": "code",
   "execution_count": 98,
   "id": "722acc68-3c51-47e4-bb0b-3a073bec5a93",
   "metadata": {},
   "outputs": [
    {
     "name": "stdout",
     "output_type": "stream",
     "text": [
      "[1, 2, 3, 4, 5, True]\n"
     ]
    }
   ],
   "source": [
    "# append\n",
    "L = [1,2,3,4,5]\n",
    "L.append(True)\n",
    "print(L)"
   ]
  },
  {
   "cell_type": "code",
   "execution_count": 100,
   "id": "17a3afe2-64e7-4221-bd15-167c4d42b494",
   "metadata": {},
   "outputs": [
    {
     "name": "stdout",
     "output_type": "stream",
     "text": [
      "[1, 2, 3, 4, 5, 6, 7, 8]\n"
     ]
    }
   ],
   "source": [
    "# extend\n",
    "L = [1,2,3,4,5]\n",
    "L.extend([6,7,8])\n",
    "print(L)"
   ]
  },
  {
   "cell_type": "code",
   "execution_count": 102,
   "id": "ac8d95fe-baa0-45b9-833a-92d383ac9736",
   "metadata": {},
   "outputs": [
    {
     "name": "stdout",
     "output_type": "stream",
     "text": [
      "[1, 2, 3, 4, 5, [6, 7, 8]]\n"
     ]
    }
   ],
   "source": [
    "L = [1,2,3,4,5]\n",
    "L.append([6,7,8])\n",
    "print(L)"
   ]
  },
  {
   "cell_type": "code",
   "execution_count": 104,
   "id": "14903b4b-3ff6-4542-9e01-602e8a3c0f0b",
   "metadata": {},
   "outputs": [
    {
     "name": "stdout",
     "output_type": "stream",
     "text": [
      "[1, 2, 3, 4, 5, 'd', 'e', 'l', 'h', 'i']\n"
     ]
    }
   ],
   "source": [
    "L = [1,2,3,4,5]\n",
    "L.extend('delhi')\n",
    "print(L)"
   ]
  },
  {
   "cell_type": "code",
   "execution_count": 110,
   "id": "1dedf5d5-fb09-4277-8ba0-2cb1f25ee8f3",
   "metadata": {},
   "outputs": [
    {
     "name": "stdout",
     "output_type": "stream",
     "text": [
      "[1, 2, 3, 4, 5, 'v', 'i', 's', 'h', 'e', 's', 'h']\n"
     ]
    }
   ],
   "source": [
    "L = [1,2,3,4,5]\n",
    "L.extend(\"vishesh\")\n",
    "print(L)"
   ]
  },
  {
   "cell_type": "code",
   "execution_count": 112,
   "id": "b2de96b4-7dd1-473e-a444-cb09c81deddd",
   "metadata": {},
   "outputs": [
    {
     "name": "stdout",
     "output_type": "stream",
     "text": [
      "[1, 2, 3, 4, 5, 's', 'a', 'n', 'g', 'w', 'a', 'n']\n"
     ]
    }
   ],
   "source": [
    "l = [1,2,3,4,5]\n",
    "l.extend(\"sangwan\")\n",
    "print(l)"
   ]
  },
  {
   "cell_type": "markdown",
   "id": "6c8d47df-b613-449f-ab25-232f2751e409",
   "metadata": {},
   "source": [
    "## .Editing items in a List"
   ]
  },
  {
   "cell_type": "code",
   "execution_count": 118,
   "id": "6a87632b-2275-49d6-9e5e-6b1ebdee4da3",
   "metadata": {},
   "outputs": [
    {
     "name": "stdout",
     "output_type": "stream",
     "text": [
      "[1, 200, 300, 400, 500, 600, 500]\n"
     ]
    }
   ],
   "source": [
    "L = [1,2,3,4,5]\n",
    "\n",
    "# editing with indexing\n",
    "L[-1] = 500\n",
    "\n",
    "# editing with slicing\n",
    "L[1:4] = [200,300,400,500,600]\n",
    "\n",
    "print(L)"
   ]
  },
  {
   "cell_type": "code",
   "execution_count": 120,
   "id": "ec823964-abb4-482f-8153-4b9392d377ba",
   "metadata": {},
   "outputs": [
    {
     "name": "stdout",
     "output_type": "stream",
     "text": [
      "[6, 200, 300, 400, 500, 600, 700, 600]\n"
     ]
    }
   ],
   "source": [
    "L = [6,7,8,9,10]\n",
    "\n",
    "# editing with indexing\n",
    "L[-1] = 600\n",
    "\n",
    "# editing with slicing\n",
    "L[1:4] = [200,300,400,500,600,700]\n",
    "\n",
    "print(L)"
   ]
  },
  {
   "cell_type": "markdown",
   "id": "06fe4745-6f89-4e7d-854e-a6f8867e3ef8",
   "metadata": {},
   "source": [
    "## Deleting items from a List"
   ]
  },
  {
   "cell_type": "code",
   "execution_count": 123,
   "id": "e9bf06ea-9741-4b1a-b944-485c64f1cceb",
   "metadata": {},
   "outputs": [
    {
     "name": "stdout",
     "output_type": "stream",
     "text": [
      "[1, 4]\n"
     ]
    }
   ],
   "source": [
    "# del\n",
    "L = [1,2,3,4,5]\n",
    "\n",
    "# indexing\n",
    "del L[-1]\n",
    "\n",
    "# slicing\n",
    "del L[1:3]\n",
    "print(L)"
   ]
  },
  {
   "cell_type": "code",
   "execution_count": 125,
   "id": "83f9b1c8-ca7d-4d1f-8fd5-5e4aaa9d955e",
   "metadata": {},
   "outputs": [
    {
     "name": "stdout",
     "output_type": "stream",
     "text": [
      "[1, 6]\n"
     ]
    }
   ],
   "source": [
    "# remove\n",
    "l = [1,2,3,4,5,6]\n",
    "\n",
    "\n",
    "# indexing\n",
    "del l[-2]\n",
    "\n",
    "\n",
    "# slicing\n",
    "del l[1:4]\n",
    "print(l)"
   ]
  },
  {
   "cell_type": "code",
   "execution_count": 127,
   "id": "0de66ffb-ab2b-4d89-9e0c-c8318b10822e",
   "metadata": {},
   "outputs": [
    {
     "name": "stdout",
     "output_type": "stream",
     "text": [
      "[1, 2, 3, 4]\n"
     ]
    }
   ],
   "source": [
    "# remove\n",
    "\n",
    "L = [1,2,3,4,5]\n",
    "\n",
    "L.remove(5)\n",
    "\n",
    "print(L)\n"
   ]
  },
  {
   "cell_type": "code",
   "execution_count": 129,
   "id": "77a6979a-404c-46c9-b3c4-7f057315cdba",
   "metadata": {},
   "outputs": [
    {
     "name": "stdout",
     "output_type": "stream",
     "text": [
      "[1, 2, 3, 4]\n"
     ]
    }
   ],
   "source": [
    "# pop\n",
    "L = [1,2,3,4,5]\n",
    "\n",
    "L.pop()\n",
    "\n",
    "print(L)"
   ]
  },
  {
   "cell_type": "code",
   "execution_count": 131,
   "id": "7ee15b67-c2ab-4a39-b4b2-ee2565773bd8",
   "metadata": {},
   "outputs": [
    {
     "name": "stdout",
     "output_type": "stream",
     "text": [
      "[]\n"
     ]
    }
   ],
   "source": [
    "# clear\n",
    "L = [1,2,3,4,5]\n",
    "\n",
    "L.clear()\n",
    "\n",
    "print(L)"
   ]
  },
  {
   "cell_type": "markdown",
   "id": "f45bf967-ef74-4a0b-a90a-e158b825f308",
   "metadata": {},
   "source": [
    "## Operations on Lists\n",
    "\n",
    "- Arithmetic\n",
    "- Membership\n",
    "- Loop"
   ]
  },
  {
   "cell_type": "code",
   "execution_count": 138,
   "id": "bbddae65-c147-4a16-9342-a9ad93c2060a",
   "metadata": {},
   "outputs": [
    {
     "name": "stdout",
     "output_type": "stream",
     "text": [
      "[1, 2, 3, 4, 5, 6, 7, 8]\n"
     ]
    }
   ],
   "source": [
    "# Arithmetic (+ ,*)\n",
    "\n",
    "L1 = [1,2,3,4]\n",
    "L2 = [5,6,7,8]\n",
    "\n",
    "# Concatenation/Merge\n",
    "print(L1 + L2)"
   ]
  },
  {
   "cell_type": "code",
   "execution_count": 140,
   "id": "6b4ed7c9-0615-4f9f-ae45-913004dc816d",
   "metadata": {},
   "outputs": [
    {
     "name": "stdout",
     "output_type": "stream",
     "text": [
      "False\n",
      "True\n"
     ]
    }
   ],
   "source": [
    "L1 = [1,2,3,4,5]\n",
    "L2 = [1,2,3,4,[5,6]]\n",
    "\n",
    "print(5 not in L1)\n",
    "print([5,6] in L2)"
   ]
  },
  {
   "cell_type": "code",
   "execution_count": 142,
   "id": "42391f66-8612-4701-9f83-5e585b175b72",
   "metadata": {},
   "outputs": [
    {
     "name": "stdout",
     "output_type": "stream",
     "text": [
      "[[1, 2], [3, 4]]\n",
      "[[5, 6], [7, 8]]\n"
     ]
    }
   ],
   "source": [
    "# Loops\n",
    "L1 = [1,2,3,4,5]\n",
    "L2 = [1,2,3,4,[5,6]]\n",
    "L3 = [[[1,2],[3,4]],[[5,6],[7,8]]]\n",
    "\n",
    "for i in L3:\n",
    "  print(i)"
   ]
  },
  {
   "cell_type": "code",
   "execution_count": null,
   "id": "e9232b35-66f6-4215-9aaa-cc928ec911f4",
   "metadata": {},
   "outputs": [],
   "source": []
  }
 ],
 "metadata": {
  "kernelspec": {
   "display_name": "Python [conda env:base] *",
   "language": "python",
   "name": "conda-base-py"
  },
  "language_info": {
   "codemirror_mode": {
    "name": "ipython",
    "version": 3
   },
   "file_extension": ".py",
   "mimetype": "text/x-python",
   "name": "python",
   "nbconvert_exporter": "python",
   "pygments_lexer": "ipython3",
   "version": "3.12.7"
  }
 },
 "nbformat": 4,
 "nbformat_minor": 5
}
