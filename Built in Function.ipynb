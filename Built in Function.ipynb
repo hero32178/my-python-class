{
 "cells": [
  {
   "cell_type": "markdown",
   "id": "8137e7d7-64d6-41a0-b0cf-5f46d6258df5",
   "metadata": {},
   "source": [
    "BUILT IN FUNCTION"
   ]
  },
  {
   "cell_type": "code",
   "execution_count": 5,
   "id": "d91c9096-15d7-48df-9950-3f35c24462d1",
   "metadata": {},
   "outputs": [
    {
     "name": "stdout",
     "output_type": "stream",
     "text": [
      "vishesh sangwan\n"
     ]
    }
   ],
   "source": [
    "print(\"vishesh sangwan\")"
   ]
  },
  {
   "cell_type": "code",
   "execution_count": 7,
   "id": "178d3b90-314d-4d83-90be-2943fb515f30",
   "metadata": {},
   "outputs": [
    {
     "name": "stdin",
     "output_type": "stream",
     "text": [
      "enter your name vishesh sangwan\n"
     ]
    },
    {
     "data": {
      "text/plain": [
       "'vishesh sangwan'"
      ]
     },
     "execution_count": 7,
     "metadata": {},
     "output_type": "execute_result"
    }
   ],
   "source": [
    "input(\"enter your name\")"
   ]
  },
  {
   "cell_type": "code",
   "execution_count": 9,
   "id": "8a33ee62-37f1-4d6a-bb09-e9fa81a02456",
   "metadata": {},
   "outputs": [
    {
     "data": {
      "text/plain": [
       "int"
      ]
     },
     "execution_count": 9,
     "metadata": {},
     "output_type": "execute_result"
    }
   ],
   "source": [
    "a=4\n",
    "type(a)"
   ]
  },
  {
   "cell_type": "code",
   "execution_count": 11,
   "id": "b958336d-8d78-480b-a4f4-c8eb61223acb",
   "metadata": {},
   "outputs": [
    {
     "data": {
      "text/plain": [
       "float"
      ]
     },
     "execution_count": 11,
     "metadata": {},
     "output_type": "execute_result"
    }
   ],
   "source": [
    "a=4.5\n",
    "type(a)"
   ]
  },
  {
   "cell_type": "code",
   "execution_count": 20,
   "id": "4f172ca0-b4b6-47cb-8ab7-c3923bdb5c61",
   "metadata": {},
   "outputs": [
    {
     "data": {
      "text/plain": [
       "6"
      ]
     },
     "execution_count": 20,
     "metadata": {},
     "output_type": "execute_result"
    }
   ],
   "source": [
    "int('6')\n",
    "# float\n",
    "# str\n",
    "# list\n",
    "# tuple"
   ]
  },
  {
   "cell_type": "code",
   "execution_count": 24,
   "id": "5294c207-6819-4f1e-9d6e-8af68a6a2877",
   "metadata": {},
   "outputs": [
    {
     "data": {
      "text/plain": [
       "5"
      ]
     },
     "execution_count": 24,
     "metadata": {},
     "output_type": "execute_result"
    }
   ],
   "source": [
    "abs(-5)"
   ]
  },
  {
   "cell_type": "code",
   "execution_count": 26,
   "id": "b17b22a3-cb7b-49e9-bae0-5e74b2190c71",
   "metadata": {},
   "outputs": [
    {
     "data": {
      "text/plain": [
       "81"
      ]
     },
     "execution_count": 26,
     "metadata": {},
     "output_type": "execute_result"
    }
   ],
   "source": [
    "pow(3,4)"
   ]
  },
  {
   "cell_type": "code",
   "execution_count": 28,
   "id": "0f1ae0bb-23a2-43c0-b76f-9bf1ed31a44f",
   "metadata": {},
   "outputs": [
    {
     "data": {
      "text/plain": [
       "7310338828254284348684765759307822731264010134569603785204110402552282244915959896758295144536532461643218994140625"
      ]
     },
     "execution_count": 28,
     "metadata": {},
     "output_type": "execute_result"
    }
   ],
   "source": [
    "pow(55,66)"
   ]
  },
  {
   "cell_type": "code",
   "execution_count": 30,
   "id": "f930dfaf-419d-45a1-b495-25ec933db84f",
   "metadata": {},
   "outputs": [
    {
     "data": {
      "text/plain": [
       "0"
      ]
     },
     "execution_count": 30,
     "metadata": {},
     "output_type": "execute_result"
    }
   ],
   "source": [
    "min([6, 9, 4, 0])"
   ]
  },
  {
   "cell_type": "code",
   "execution_count": 32,
   "id": "04c326cc-d5e6-4527-8632-f03a9ebc8952",
   "metadata": {},
   "outputs": [
    {
     "data": {
      "text/plain": [
       "9"
      ]
     },
     "execution_count": 32,
     "metadata": {},
     "output_type": "execute_result"
    }
   ],
   "source": [
    "max([4, 6, 8, 9])"
   ]
  },
  {
   "cell_type": "code",
   "execution_count": 34,
   "id": "8844ebed-c03b-4018-b449-237594a013b6",
   "metadata": {},
   "outputs": [
    {
     "data": {
      "text/plain": [
       "'a'"
      ]
     },
     "execution_count": 34,
     "metadata": {},
     "output_type": "execute_result"
    }
   ],
   "source": [
    "min(\"faridabad\")"
   ]
  },
  {
   "cell_type": "code",
   "execution_count": 36,
   "id": "6285493f-e9b4-4d1e-82e0-d992a8905609",
   "metadata": {},
   "outputs": [
    {
     "name": "stdout",
     "output_type": "stream",
     "text": [
      "2.6666666666666665\n"
     ]
    },
    {
     "data": {
      "text/plain": [
       "3"
      ]
     },
     "execution_count": 36,
     "metadata": {},
     "output_type": "execute_result"
    }
   ],
   "source": [
    "c = 24/9\n",
    "print(c)\n",
    "round(c)"
   ]
  },
  {
   "cell_type": "code",
   "execution_count": 38,
   "id": "290fd692-697a-476e-821f-836d2ca06903",
   "metadata": {},
   "outputs": [
    {
     "name": "stdout",
     "output_type": "stream",
     "text": [
      "3.142857142857143\n"
     ]
    },
    {
     "data": {
      "text/plain": [
       "3"
      ]
     },
     "execution_count": 38,
     "metadata": {},
     "output_type": "execute_result"
    }
   ],
   "source": [
    "c = 22/7\n",
    "print(c)\n",
    "round(c)"
   ]
  },
  {
   "cell_type": "code",
   "execution_count": 40,
   "id": "0da6f7d7-a47c-4507-9717-569cbd8b4eba",
   "metadata": {},
   "outputs": [
    {
     "name": "stdout",
     "output_type": "stream",
     "text": [
      "6.8\n",
      "6.8\n"
     ]
    }
   ],
   "source": [
    "c = 34/5\n",
    "print(c)\n",
    "print(c)"
   ]
  },
  {
   "cell_type": "code",
   "execution_count": 42,
   "id": "6ead0c34-6490-4f8a-a391-b6b15b527df6",
   "metadata": {},
   "outputs": [
    {
     "data": {
      "text/plain": [
       "6.8"
      ]
     },
     "execution_count": 42,
     "metadata": {},
     "output_type": "execute_result"
    }
   ],
   "source": [
    "round(c, 4)\n"
   ]
  },
  {
   "cell_type": "code",
   "execution_count": 48,
   "id": "874f5a7d-8740-4326-ac09-4adfa3c30ded",
   "metadata": {},
   "outputs": [
    {
     "data": {
      "text/plain": [
       "(2, 1)"
      ]
     },
     "execution_count": 48,
     "metadata": {},
     "output_type": "execute_result"
    }
   ],
   "source": [
    "divmod(5, 2)"
   ]
  },
  {
   "cell_type": "code",
   "execution_count": 52,
   "id": "8dc13f02-7f2f-44a1-9cc1-360f4ffcc017",
   "metadata": {},
   "outputs": [
    {
     "data": {
      "text/plain": [
       "'0b111'"
      ]
     },
     "execution_count": 52,
     "metadata": {},
     "output_type": "execute_result"
    }
   ],
   "source": [
    "bin(7)"
   ]
  },
  {
   "cell_type": "code",
   "execution_count": 54,
   "id": "f0ac62ea-e2fd-46f8-9858-ef0543a0f824",
   "metadata": {},
   "outputs": [
    {
     "data": {
      "text/plain": [
       "'0o7'"
      ]
     },
     "execution_count": 54,
     "metadata": {},
     "output_type": "execute_result"
    }
   ],
   "source": [
    "oct(7)"
   ]
  },
  {
   "cell_type": "code",
   "execution_count": 56,
   "id": "86e7d25f-14fb-4b13-8716-a0fcd8182a56",
   "metadata": {},
   "outputs": [
    {
     "data": {
      "text/plain": [
       "'0x7'"
      ]
     },
     "execution_count": 56,
     "metadata": {},
     "output_type": "execute_result"
    }
   ],
   "source": [
    "hex(7)"
   ]
  },
  {
   "cell_type": "code",
   "execution_count": 58,
   "id": "117b213a-ae74-4b5f-bd0c-b51e8bc14882",
   "metadata": {},
   "outputs": [
    {
     "data": {
      "text/plain": [
       "140717939305080"
      ]
     },
     "execution_count": 58,
     "metadata": {},
     "output_type": "execute_result"
    }
   ],
   "source": [
    "a =7\n",
    "id(a)"
   ]
  },
  {
   "cell_type": "code",
   "execution_count": 62,
   "id": "e957c5a8-1ae8-4a54-92e4-defa0bc6db93",
   "metadata": {},
   "outputs": [
    {
     "data": {
      "text/plain": [
       "97"
      ]
     },
     "execution_count": 62,
     "metadata": {},
     "output_type": "execute_result"
    }
   ],
   "source": [
    "ord('a')"
   ]
  },
  {
   "cell_type": "code",
   "execution_count": 64,
   "id": "e1e08a1a-e50f-405f-aad3-af4f9579a4f9",
   "metadata": {},
   "outputs": [
    {
     "data": {
      "text/plain": [
       "65"
      ]
     },
     "execution_count": 64,
     "metadata": {},
     "output_type": "execute_result"
    }
   ],
   "source": [
    "ord('A')"
   ]
  },
  {
   "cell_type": "code",
   "execution_count": 66,
   "id": "15afc0a9-f5da-4d79-9db6-ebfac9df5c08",
   "metadata": {},
   "outputs": [
    {
     "data": {
      "text/plain": [
       "98"
      ]
     },
     "execution_count": 66,
     "metadata": {},
     "output_type": "execute_result"
    }
   ],
   "source": [
    "ord('b')"
   ]
  },
  {
   "cell_type": "code",
   "execution_count": 68,
   "id": "21d27aea-2b7f-45ee-893b-19141b2b5e7e",
   "metadata": {},
   "outputs": [
    {
     "data": {
      "text/plain": [
       "66"
      ]
     },
     "execution_count": 68,
     "metadata": {},
     "output_type": "execute_result"
    }
   ],
   "source": [
    "ord('B')"
   ]
  },
  {
   "cell_type": "code",
   "execution_count": 70,
   "id": "2d2016ef-7f57-4ec0-af86-64130a441f15",
   "metadata": {},
   "outputs": [
    {
     "data": {
      "text/plain": [
       "18"
      ]
     },
     "execution_count": 70,
     "metadata": {},
     "output_type": "execute_result"
    }
   ],
   "source": [
    "sum([2, 2, 4, 4, 6])"
   ]
  },
  {
   "cell_type": "code",
   "execution_count": 74,
   "id": "04233d51-5f67-4d86-923c-d29cafad5a88",
   "metadata": {},
   "outputs": [
    {
     "data": {
      "text/plain": [
       "36"
      ]
     },
     "execution_count": 74,
     "metadata": {},
     "output_type": "execute_result"
    }
   ],
   "source": [
    "sum([9, 9, 9, 9])"
   ]
  },
  {
   "cell_type": "code",
   "execution_count": 76,
   "id": "b4b4cd7f-f11b-46c9-86a5-e57df6d75950",
   "metadata": {},
   "outputs": [
    {
     "data": {
      "text/plain": [
       "10"
      ]
     },
     "execution_count": 76,
     "metadata": {},
     "output_type": "execute_result"
    }
   ],
   "source": [
    "sum([4, 3, 2, 1])"
   ]
  },
  {
   "cell_type": "code",
   "execution_count": 78,
   "id": "24ce6399-d9f0-461f-bfb2-f4c729e99fbb",
   "metadata": {},
   "outputs": [
    {
     "data": {
      "text/plain": [
       "300"
      ]
     },
     "execution_count": 78,
     "metadata": {},
     "output_type": "execute_result"
    }
   ],
   "source": [
    "sum([90, 80, 70, 60])"
   ]
  },
  {
   "cell_type": "code",
   "execution_count": 86,
   "id": "48bc6f83-2979-4c83-8b7c-76f37fd7badf",
   "metadata": {},
   "outputs": [
    {
     "data": {
      "text/plain": [
       "152"
      ]
     },
     "execution_count": 86,
     "metadata": {},
     "output_type": "execute_result"
    }
   ],
   "source": [
    "sum([43, 33, 23, 53])"
   ]
  },
  {
   "cell_type": "code",
   "execution_count": null,
   "id": "65f15439-f34e-4764-ad11-769ad1b6dad6",
   "metadata": {},
   "outputs": [],
   "source": []
  }
 ],
 "metadata": {
  "kernelspec": {
   "display_name": "Python [conda env:base] *",
   "language": "python",
   "name": "conda-base-py"
  },
  "language_info": {
   "codemirror_mode": {
    "name": "ipython",
    "version": 3
   },
   "file_extension": ".py",
   "mimetype": "text/x-python",
   "name": "python",
   "nbconvert_exporter": "python",
   "pygments_lexer": "ipython3",
   "version": "3.12.7"
  }
 },
 "nbformat": 4,
 "nbformat_minor": 5
}
