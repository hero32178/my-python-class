{
 "cells": [
  {
   "cell_type": "markdown",
   "id": "7acfc73b-e4e0-45e8-9af7-ddf9263caf78",
   "metadata": {},
   "source": [
    "\n",
    "Break: Ends loop immediately.\n",
    "\n",
    "Continue: Skips to next iteration.\n",
    "\n",
    "Pass: Placeholder; does nothing."
   ]
  },
  {
   "cell_type": "code",
   "execution_count": 2,
   "id": "aa0ba43e-907a-4d93-b280-431c40703747",
   "metadata": {},
   "outputs": [
    {
     "name": "stdout",
     "output_type": "stream",
     "text": [
      "1\n",
      "2\n",
      "3\n",
      "4\n"
     ]
    }
   ],
   "source": [
    "for i in range(1, 11):\n",
    "    if i == 5:\n",
    "        break\n",
    "    print(i)"
   ]
  },
  {
   "cell_type": "code",
   "execution_count": 4,
   "id": "7e1ee243-4d33-4f9f-988c-334bcae6b674",
   "metadata": {},
   "outputs": [
    {
     "name": "stdout",
     "output_type": "stream",
     "text": [
      "1\n",
      "2\n",
      "3\n",
      "4\n",
      "5\n",
      "6\n",
      "7\n",
      "8\n",
      "9\n",
      "10\n"
     ]
    }
   ],
   "source": [
    "for i in range(1,11):\n",
    "    print(i)"
   ]
  },
  {
   "cell_type": "code",
   "execution_count": 14,
   "id": "eb533e8d-823d-4de2-bf89-d082defc7363",
   "metadata": {},
   "outputs": [
    {
     "name": "stdout",
     "output_type": "stream",
     "text": [
      "1\n",
      "2\n",
      "3\n",
      "4\n",
      "5\n",
      "6\n",
      "7\n"
     ]
    }
   ],
   "source": [
    "for i in range(1,11):\n",
    "    if i==8:\n",
    "        break\n",
    "    print(i) \n",
    "\n"
   ]
  },
  {
   "cell_type": "code",
   "execution_count": 18,
   "id": "203d82b7-e5c2-43f8-8518-3b8cc53950fc",
   "metadata": {},
   "outputs": [
    {
     "name": "stdout",
     "output_type": "stream",
     "text": [
      "11\n",
      "12\n",
      "13\n",
      "14\n",
      "15\n",
      "16\n",
      "18\n",
      "19\n",
      "20\n"
     ]
    }
   ],
   "source": [
    "for i in range(11,21):\n",
    "    if i==17:\n",
    "        continue\n",
    "    print(i)    \n",
    "        "
   ]
  },
  {
   "cell_type": "code",
   "execution_count": 34,
   "id": "297d00d0-573a-483a-a92f-335d05e221cb",
   "metadata": {},
   "outputs": [
    {
     "name": "stdout",
     "output_type": "stream",
     "text": [
      "30\n",
      "31\n",
      "32\n",
      "33\n",
      "34\n",
      "35\n",
      "36\n",
      "37\n",
      "38\n",
      "39\n",
      "40\n"
     ]
    }
   ],
   "source": [
    "for i in range(30,41):\n",
    "    if i == 1:\n",
    "        break\n",
    "    print(i)   "
   ]
  },
  {
   "cell_type": "code",
   "execution_count": 48,
   "id": "09d21bab-784c-4753-8b45-2e8122476f3c",
   "metadata": {},
   "outputs": [
    {
     "name": "stdout",
     "output_type": "stream",
     "text": [
      "30\n",
      "31\n",
      "32\n",
      "33\n",
      "34\n",
      "35\n",
      "36\n",
      "37\n",
      "38\n",
      "39\n",
      "40\n",
      "41\n",
      "42\n",
      "43\n",
      "44\n"
     ]
    }
   ],
   "source": [
    "for i in range(30,61):\n",
    "    if i == 45:\n",
    "        break\n",
    "    print(i)"
   ]
  },
  {
   "cell_type": "code",
   "execution_count": 50,
   "id": "3074f08a-0e5b-442d-8a94-e55c97763903",
   "metadata": {},
   "outputs": [
    {
     "name": "stdout",
     "output_type": "stream",
     "text": [
      "30\n",
      "31\n",
      "32\n",
      "33\n",
      "34\n",
      "35\n",
      "36\n",
      "37\n",
      "38\n",
      "39\n",
      "40\n",
      "41\n",
      "42\n",
      "43\n",
      "44\n",
      "46\n",
      "47\n",
      "48\n",
      "49\n",
      "50\n",
      "51\n",
      "52\n",
      "53\n",
      "54\n",
      "55\n",
      "56\n",
      "57\n",
      "58\n",
      "59\n",
      "60\n"
     ]
    }
   ],
   "source": [
    "for i in range(30,61):\n",
    "    if i == 45:\n",
    "        continue\n",
    "    print(i)"
   ]
  },
  {
   "cell_type": "code",
   "execution_count": 67,
   "id": "72f6671f-dabe-413d-b026-5f4d6efbd4b5",
   "metadata": {},
   "outputs": [
    {
     "name": "stdout",
     "output_type": "stream",
     "text": [
      "10\n",
      "11\n",
      "12\n",
      "13\n",
      "14\n",
      "15\n",
      "16\n",
      "17\n",
      "18\n",
      "19\n",
      "20\n",
      "21\n",
      "22\n",
      "23\n",
      "24\n",
      "25\n",
      "26\n",
      "27\n",
      "28\n",
      "29\n"
     ]
    }
   ],
   "source": [
    "for i in range(10,30):\n",
    "    if i == 2:\n",
    "        continue\n",
    "    print(i)   "
   ]
  },
  {
   "cell_type": "code",
   "execution_count": 79,
   "id": "d316bb4d-e120-4432-8759-28a18516870a",
   "metadata": {},
   "outputs": [
    {
     "name": "stdout",
     "output_type": "stream",
     "text": [
      "30\n",
      "31\n",
      "32\n",
      "33\n",
      "34\n",
      "35\n",
      "36\n",
      "37\n",
      "38\n",
      "39\n",
      "40\n",
      "41\n",
      "42\n",
      "43\n",
      "44\n",
      "45\n",
      "46\n",
      "47\n",
      "48\n",
      "49\n"
     ]
    }
   ],
   "source": [
    "for i in range(30,50):\n",
    "    if i == 5:\n",
    "       continue\n",
    "    print(i)"
   ]
  },
  {
   "cell_type": "code",
   "execution_count": 81,
   "id": "58dcf8ca-74ea-4c42-b6ad-c111bab2e95d",
   "metadata": {},
   "outputs": [
    {
     "name": "stdout",
     "output_type": "stream",
     "text": [
      "70\n",
      "71\n",
      "72\n",
      "73\n",
      "74\n",
      "75\n",
      "76\n",
      "77\n",
      "78\n",
      "79\n",
      "80\n"
     ]
    }
   ],
   "source": [
    "for i in range (70,81):\n",
    "    if i == 4:\n",
    "        break\n",
    "    print(i)    "
   ]
  },
  {
   "cell_type": "code",
   "execution_count": 85,
   "id": "f489cd36-99fe-4c9d-9dc7-a6fdc73ba511",
   "metadata": {},
   "outputs": [
    {
     "name": "stdout",
     "output_type": "stream",
     "text": [
      "1\n",
      "2\n",
      "3\n"
     ]
    }
   ],
   "source": [
    "for i in range(1,20):\n",
    "    if i == 4:\n",
    "       break\n",
    "    print(i)"
   ]
  },
  {
   "cell_type": "code",
   "execution_count": 89,
   "id": "8b1b7c47-286e-4961-860e-accab4fe534d",
   "metadata": {},
   "outputs": [
    {
     "name": "stdout",
     "output_type": "stream",
     "text": [
      "1\n",
      "2\n",
      "3\n",
      "5\n",
      "6\n",
      "7\n",
      "8\n",
      "9\n",
      "10\n",
      "11\n",
      "12\n",
      "13\n",
      "14\n",
      "15\n",
      "16\n",
      "17\n",
      "18\n",
      "19\n"
     ]
    }
   ],
   "source": [
    "for i in range(1,20):\n",
    "    if i == 4:\n",
    "       continue\n",
    "    print(i)"
   ]
  },
  {
   "cell_type": "code",
   "execution_count": 91,
   "id": "216fe8cf-1bf1-49d6-946a-208df3653274",
   "metadata": {},
   "outputs": [
    {
     "name": "stdout",
     "output_type": "stream",
     "text": [
      "20\n",
      "21\n",
      "22\n",
      "23\n",
      "24\n",
      "25\n",
      "26\n",
      "27\n",
      "28\n",
      "29\n",
      "30\n",
      "31\n",
      "32\n",
      "33\n",
      "34\n",
      "35\n",
      "36\n",
      "37\n",
      "38\n",
      "39\n"
     ]
    }
   ],
   "source": [
    "for i in range(20,40):\n",
    "    if i == 5:\n",
    "      break\n",
    "    print(i)"
   ]
  },
  {
   "cell_type": "code",
   "execution_count": 93,
   "id": "dc9f8547-419d-41d7-b826-7c70d0a3064f",
   "metadata": {},
   "outputs": [
    {
     "name": "stdout",
     "output_type": "stream",
     "text": [
      "21\n",
      "22\n",
      "23\n",
      "24\n",
      "25\n",
      "26\n",
      "27\n",
      "28\n",
      "29\n",
      "30\n",
      "31\n",
      "32\n",
      "33\n",
      "34\n",
      "35\n",
      "36\n",
      "37\n",
      "38\n",
      "39\n",
      "40\n"
     ]
    }
   ],
   "source": [
    "for i in range(21,41):\n",
    "    if i == 5:\n",
    "        continue\n",
    "    print(i)"
   ]
  },
  {
   "cell_type": "code",
   "execution_count": 95,
   "id": "fcda1215-99b5-497f-b367-d4686d0c8833",
   "metadata": {},
   "outputs": [
    {
     "name": "stdout",
     "output_type": "stream",
     "text": [
      "21\n",
      "22\n",
      "23\n",
      "24\n",
      "25\n",
      "26\n",
      "27\n",
      "28\n",
      "29\n",
      "30\n",
      "31\n",
      "32\n",
      "33\n",
      "34\n",
      "35\n",
      "36\n",
      "37\n",
      "38\n",
      "39\n",
      "40\n"
     ]
    }
   ],
   "source": [
    "for i in range(21,41):\n",
    "    if i == 5:\n",
    "         break\n",
    "    print(i)\n",
    "\n"
   ]
  },
  {
   "cell_type": "code",
   "execution_count": 101,
   "id": "2098d4b6-279c-4a5a-909e-840e9ee130b2",
   "metadata": {},
   "outputs": [
    {
     "name": "stdout",
     "output_type": "stream",
     "text": [
      "41\n",
      "42\n",
      "43\n",
      "44\n",
      "45\n",
      "46\n",
      "47\n",
      "48\n",
      "49\n",
      "50\n",
      "51\n",
      "52\n",
      "53\n",
      "54\n",
      "55\n",
      "56\n",
      "57\n",
      "58\n",
      "59\n",
      "60\n",
      "61\n",
      "62\n",
      "63\n",
      "64\n",
      "65\n",
      "66\n",
      "67\n",
      "68\n",
      "69\n",
      "70\n"
     ]
    }
   ],
   "source": [
    "for i in range(41,71):\n",
    "    if i == 8:\n",
    "        continue\n",
    "    print(i)"
   ]
  },
  {
   "cell_type": "code",
   "execution_count": 103,
   "id": "bd904d73-b71f-44d0-b4b3-299b9b9c3349",
   "metadata": {},
   "outputs": [
    {
     "name": "stdout",
     "output_type": "stream",
     "text": [
      "41\n",
      "42\n",
      "43\n",
      "44\n",
      "45\n",
      "46\n",
      "47\n",
      "48\n",
      "49\n",
      "50\n",
      "51\n",
      "52\n",
      "53\n",
      "54\n",
      "55\n",
      "56\n",
      "57\n",
      "58\n",
      "59\n",
      "60\n",
      "61\n",
      "62\n",
      "63\n",
      "64\n",
      "65\n",
      "66\n",
      "67\n",
      "68\n",
      "69\n",
      "70\n"
     ]
    }
   ],
   "source": [
    "for i in range(41,71):\n",
    "    if i == 8:\n",
    "        break\n",
    "    print(i)"
   ]
  },
  {
   "cell_type": "code",
   "execution_count": 111,
   "id": "fcbeede2-993f-43ac-a24b-8dc986576b95",
   "metadata": {},
   "outputs": [
    {
     "name": "stdout",
     "output_type": "stream",
     "text": [
      "100\n",
      "101\n",
      "102\n",
      "103\n",
      "104\n",
      "105\n",
      "106\n",
      "107\n",
      "108\n",
      "109\n",
      "110\n",
      "111\n",
      "112\n",
      "113\n",
      "114\n",
      "115\n",
      "116\n",
      "117\n",
      "118\n",
      "119\n",
      "120\n",
      "121\n",
      "122\n",
      "123\n",
      "124\n",
      "125\n",
      "126\n",
      "127\n",
      "128\n",
      "129\n",
      "130\n",
      "131\n",
      "132\n",
      "133\n",
      "134\n",
      "135\n",
      "136\n",
      "137\n",
      "138\n",
      "139\n",
      "140\n",
      "141\n",
      "142\n",
      "143\n",
      "144\n",
      "145\n",
      "146\n",
      "147\n",
      "148\n",
      "149\n",
      "150\n",
      "151\n",
      "152\n",
      "153\n",
      "154\n",
      "155\n",
      "156\n",
      "157\n",
      "158\n",
      "159\n",
      "160\n",
      "161\n",
      "162\n",
      "163\n",
      "164\n",
      "165\n",
      "166\n",
      "167\n",
      "168\n",
      "169\n",
      "170\n",
      "171\n",
      "172\n",
      "173\n",
      "174\n",
      "175\n",
      "176\n",
      "177\n",
      "178\n",
      "179\n",
      "180\n",
      "181\n",
      "182\n",
      "183\n",
      "184\n",
      "185\n",
      "186\n",
      "187\n",
      "188\n",
      "189\n",
      "190\n",
      "191\n",
      "192\n",
      "193\n",
      "194\n",
      "195\n",
      "196\n",
      "197\n",
      "198\n",
      "199\n",
      "200\n",
      "201\n",
      "202\n",
      "203\n",
      "204\n",
      "205\n",
      "206\n",
      "207\n",
      "208\n",
      "209\n",
      "210\n",
      "211\n",
      "212\n",
      "213\n",
      "214\n",
      "215\n",
      "216\n",
      "217\n",
      "218\n",
      "219\n",
      "220\n",
      "221\n",
      "222\n",
      "223\n",
      "224\n",
      "225\n",
      "226\n",
      "227\n",
      "228\n",
      "229\n",
      "230\n",
      "231\n",
      "232\n",
      "233\n",
      "234\n",
      "235\n",
      "236\n",
      "237\n",
      "238\n",
      "239\n",
      "240\n",
      "241\n",
      "242\n",
      "243\n",
      "244\n",
      "245\n",
      "246\n",
      "247\n",
      "248\n",
      "249\n",
      "250\n",
      "251\n",
      "252\n",
      "253\n",
      "254\n",
      "255\n",
      "256\n",
      "257\n",
      "258\n",
      "259\n",
      "260\n",
      "261\n",
      "262\n",
      "263\n",
      "264\n",
      "265\n",
      "266\n",
      "267\n",
      "268\n",
      "269\n",
      "270\n",
      "271\n",
      "272\n",
      "273\n",
      "274\n",
      "275\n",
      "276\n",
      "277\n",
      "278\n",
      "279\n",
      "280\n",
      "281\n",
      "282\n",
      "283\n",
      "284\n",
      "285\n",
      "286\n",
      "287\n",
      "288\n",
      "289\n",
      "290\n",
      "291\n",
      "292\n",
      "293\n",
      "294\n",
      "295\n",
      "296\n",
      "297\n",
      "298\n",
      "299\n",
      "300\n"
     ]
    }
   ],
   "source": [
    "for i in range(100,301):\n",
    "    if i == 10:\n",
    "        break\n",
    "    print(i)"
   ]
  },
  {
   "cell_type": "code",
   "execution_count": 119,
   "id": "3c700374-6511-4691-aa78-4a0a97eba7d4",
   "metadata": {},
   "outputs": [
    {
     "name": "stdout",
     "output_type": "stream",
     "text": [
      "100\n",
      "101\n",
      "102\n",
      "103\n",
      "104\n",
      "105\n",
      "106\n",
      "107\n",
      "108\n",
      "109\n",
      "110\n",
      "111\n",
      "112\n",
      "113\n",
      "114\n",
      "115\n",
      "116\n",
      "117\n",
      "118\n",
      "119\n",
      "120\n",
      "121\n",
      "122\n",
      "123\n",
      "124\n",
      "125\n",
      "126\n",
      "127\n",
      "128\n",
      "129\n",
      "130\n",
      "131\n",
      "132\n",
      "133\n",
      "134\n",
      "135\n",
      "136\n",
      "137\n",
      "138\n",
      "139\n",
      "140\n",
      "141\n",
      "142\n",
      "143\n",
      "144\n",
      "145\n",
      "146\n",
      "147\n",
      "148\n",
      "149\n",
      "150\n",
      "151\n",
      "152\n",
      "153\n",
      "154\n",
      "155\n",
      "156\n",
      "157\n",
      "158\n",
      "159\n",
      "160\n",
      "161\n",
      "162\n",
      "163\n",
      "164\n",
      "165\n",
      "166\n",
      "167\n",
      "168\n",
      "169\n",
      "170\n",
      "171\n",
      "172\n",
      "173\n",
      "174\n",
      "175\n",
      "176\n",
      "177\n",
      "178\n",
      "179\n",
      "180\n",
      "181\n",
      "182\n",
      "183\n",
      "184\n",
      "185\n",
      "186\n",
      "187\n",
      "188\n",
      "189\n",
      "190\n",
      "191\n",
      "192\n",
      "193\n",
      "194\n",
      "195\n",
      "196\n",
      "197\n",
      "198\n",
      "199\n",
      "200\n"
     ]
    }
   ],
   "source": [
    "for i in range(100,201):\n",
    "    if i == 5:\n",
    "        break\n",
    "    print(i)"
   ]
  },
  {
   "cell_type": "code",
   "execution_count": 123,
   "id": "e8813b46-c0ce-4c4d-b101-4530d2cd8766",
   "metadata": {},
   "outputs": [
    {
     "name": "stdout",
     "output_type": "stream",
     "text": [
      "20\n",
      "21\n",
      "22\n",
      "23\n",
      "24\n",
      "25\n",
      "26\n",
      "27\n",
      "28\n",
      "29\n",
      "30\n",
      "31\n",
      "32\n",
      "33\n",
      "34\n",
      "35\n",
      "36\n",
      "37\n",
      "38\n",
      "39\n",
      "40\n",
      "41\n",
      "42\n",
      "43\n",
      "44\n",
      "45\n",
      "46\n",
      "47\n",
      "48\n",
      "49\n",
      "50\n",
      "51\n",
      "52\n",
      "53\n",
      "54\n",
      "55\n",
      "56\n",
      "57\n",
      "58\n",
      "59\n",
      "60\n",
      "61\n",
      "62\n",
      "63\n",
      "64\n",
      "65\n",
      "66\n",
      "67\n",
      "68\n",
      "69\n"
     ]
    }
   ],
   "source": [
    "for i in range(20,70):\n",
    "    if i == 5:\n",
    "        continue\n",
    "    print(i)"
   ]
  },
  {
   "cell_type": "code",
   "execution_count": 127,
   "id": "863d0127-9bd8-49d3-a4af-b3f74525a092",
   "metadata": {},
   "outputs": [
    {
     "name": "stdout",
     "output_type": "stream",
     "text": [
      "20\n",
      "21\n",
      "22\n",
      "23\n",
      "24\n",
      "25\n",
      "26\n",
      "27\n",
      "28\n",
      "29\n",
      "30\n",
      "31\n",
      "32\n",
      "33\n",
      "34\n",
      "35\n",
      "36\n",
      "37\n",
      "38\n",
      "39\n",
      "40\n",
      "41\n",
      "42\n",
      "43\n",
      "44\n",
      "45\n",
      "46\n",
      "47\n",
      "48\n",
      "49\n",
      "50\n",
      "51\n",
      "52\n",
      "53\n",
      "54\n",
      "55\n"
     ]
    }
   ],
   "source": [
    "for i in range(20,70):\n",
    "    if i == 56:\n",
    "        break\n",
    "    print(i)"
   ]
  },
  {
   "cell_type": "code",
   "execution_count": 129,
   "id": "306f971a-843c-41da-bf2c-a3f5d3256ec5",
   "metadata": {},
   "outputs": [
    {
     "name": "stdout",
     "output_type": "stream",
     "text": [
      "20\n",
      "21\n",
      "22\n",
      "23\n",
      "24\n",
      "25\n",
      "26\n",
      "27\n",
      "28\n",
      "29\n",
      "30\n",
      "31\n",
      "32\n",
      "33\n",
      "34\n",
      "35\n",
      "36\n",
      "37\n",
      "38\n",
      "39\n",
      "40\n",
      "41\n",
      "42\n",
      "43\n",
      "44\n",
      "45\n",
      "46\n",
      "47\n",
      "48\n",
      "49\n",
      "50\n",
      "51\n",
      "52\n",
      "53\n",
      "54\n",
      "55\n",
      "57\n",
      "58\n",
      "59\n",
      "60\n",
      "61\n",
      "62\n",
      "63\n",
      "64\n",
      "65\n",
      "66\n",
      "67\n",
      "68\n",
      "69\n"
     ]
    }
   ],
   "source": [
    "for i in range(20,70):\n",
    "    if i ==56:\n",
    "        continue\n",
    "    print(i)"
   ]
  },
  {
   "cell_type": "code",
   "execution_count": 141,
   "id": "4f14b087-d33e-4c47-b8c7-5014c459b551",
   "metadata": {},
   "outputs": [
    {
     "name": "stdout",
     "output_type": "stream",
     "text": [
      "1\n",
      "vishesh\n",
      "2\n",
      "vishesh\n",
      "3\n",
      "vishesh\n",
      "4\n",
      "vishesh\n",
      "6\n",
      "vishesh\n",
      "7\n",
      "vishesh\n",
      "8\n",
      "vishesh\n",
      "9\n",
      "vishesh\n",
      "10\n",
      "vishesh\n"
     ]
    }
   ],
   "source": [
    "for i in range(1, 11):\n",
    "    if i == 5:\n",
    "        continue\n",
    "    print(i)\n",
    "    print(\"vishesh\")"
   ]
  },
  {
   "cell_type": "code",
   "execution_count": 147,
   "id": "53e0c139-8cac-4ba7-9510-fcb12a409d0f",
   "metadata": {},
   "outputs": [
    {
     "name": "stdout",
     "output_type": "stream",
     "text": [
      "20\n",
      "cars\n",
      "21\n",
      "cars\n",
      "22\n",
      "cars\n",
      "23\n",
      "cars\n",
      "24\n",
      "cars\n",
      "25\n",
      "cars\n",
      "26\n",
      "cars\n",
      "27\n",
      "cars\n",
      "28\n",
      "cars\n",
      "29\n",
      "cars\n",
      "30\n",
      "cars\n",
      "31\n",
      "cars\n",
      "32\n",
      "cars\n",
      "33\n",
      "cars\n",
      "34\n",
      "cars\n",
      "35\n",
      "cars\n",
      "36\n",
      "cars\n",
      "37\n",
      "cars\n",
      "38\n",
      "cars\n",
      "39\n",
      "cars\n"
     ]
    }
   ],
   "source": [
    "for i in range(20,40):\n",
    "    if i == 5:\n",
    "      continue\n",
    "    print(i)\n",
    "    print(\"cars\")"
   ]
  },
  {
   "cell_type": "code",
   "execution_count": 157,
   "id": "4edf5b92-ecae-4b3e-81c8-ddd14819919d",
   "metadata": {},
   "outputs": [
    {
     "name": "stdout",
     "output_type": "stream",
     "text": [
      "10\n",
      "bikes\n",
      "11\n",
      "bikes\n",
      "12\n",
      "bikes\n",
      "13\n",
      "bikes\n",
      "14\n",
      "bikes\n",
      "15\n",
      "bikes\n",
      "16\n",
      "bikes\n",
      "17\n",
      "bikes\n",
      "18\n",
      "bikes\n",
      "19\n",
      "bikes\n"
     ]
    }
   ],
   "source": [
    "for i in range(10,20):\n",
    "    if i == 5:\n",
    "        continue\n",
    "    print(i)\n",
    "    print(\"bikes\")"
   ]
  },
  {
   "cell_type": "code",
   "execution_count": 165,
   "id": "dc05fb15-bfc2-473a-a022-6e77fe216e87",
   "metadata": {},
   "outputs": [
    {
     "name": "stdout",
     "output_type": "stream",
     "text": [
      "10\n",
      "students\n",
      "11\n",
      "students\n",
      "12\n",
      "students\n",
      "13\n",
      "students\n",
      "14\n",
      "students\n",
      "15\n",
      "students\n",
      "16\n",
      "students\n",
      "17\n",
      "students\n"
     ]
    }
   ],
   "source": [
    "for i in range(10,18):\n",
    "    if i == 5:\n",
    "        continue\n",
    "    print(i)\n",
    "    print(\"students\")"
   ]
  },
  {
   "cell_type": "code",
   "execution_count": 171,
   "id": "242be3a0-55f0-4168-bc07-99de7e8c6fbe",
   "metadata": {},
   "outputs": [
    {
     "name": "stdout",
     "output_type": "stream",
     "text": [
      "students:- 19\n",
      "students:- 20\n",
      "students:- 21\n",
      "students:- 22\n",
      "students:- 23\n",
      "students:- 24\n",
      "students:- 25\n",
      "students:- 27\n",
      "students:- 28\n",
      "students:- 29\n",
      "students:- 30\n",
      "students:- 31\n",
      "students:- 32\n",
      "students:- 33\n",
      "students:- 34\n",
      "students:- 35\n",
      "students:- 36\n",
      "students:- 37\n",
      "students:- 38\n"
     ]
    }
   ],
   "source": [
    "for i in range(19,39):\n",
    "    if i == 26:\n",
    "        continue\n",
    "    print('students:-',i)\n",
    "    #print(\"teachers\")"
   ]
  },
  {
   "cell_type": "code",
   "execution_count": 175,
   "id": "d39219d8-55d4-4b4f-8665-c86478eaa0b5",
   "metadata": {},
   "outputs": [
    {
     "name": "stdout",
     "output_type": "stream",
     "text": [
      "cars:- 19\n",
      "cars:- 20\n",
      "cars:- 21\n",
      "cars:- 22\n",
      "cars:- 23\n",
      "cars:- 24\n",
      "cars:- 25\n",
      "cars:- 27\n",
      "cars:- 28\n",
      "cars:- 29\n",
      "cars:- 30\n",
      "cars:- 31\n",
      "cars:- 32\n",
      "cars:- 33\n",
      "cars:- 34\n",
      "cars:- 35\n",
      "cars:- 36\n",
      "cars:- 37\n",
      "cars:- 38\n"
     ]
    }
   ],
   "source": [
    "for v in range(19,39):\n",
    "    if v == 26:\n",
    "        continue\n",
    "    print('cars:-',v)\n",
    "    #print(\"cars\")"
   ]
  },
  {
   "cell_type": "code",
   "execution_count": 181,
   "id": "a4e1e4bd-8801-4c28-871a-d346a0843885",
   "metadata": {},
   "outputs": [
    {
     "name": "stdout",
     "output_type": "stream",
     "text": [
      "bikes:- 19\n",
      "bikes:- 20\n",
      "bikes:- 21\n",
      "bikes:- 22\n",
      "bikes:- 23\n",
      "bikes:- 24\n",
      "bikes:- 25\n",
      "bikes:- 27\n",
      "bikes:- 28\n",
      "bikes:- 29\n",
      "bikes:- 30\n",
      "bikes:- 31\n",
      "bikes:- 32\n",
      "bikes:- 33\n",
      "bikes:- 34\n",
      "bikes:- 35\n",
      "bikes:- 36\n",
      "bikes:- 37\n",
      "bikes:- 38\n"
     ]
    }
   ],
   "source": [
    "for i in range(19,39):\n",
    "    if i == 26:\n",
    "       continue\n",
    "    print('bikes:-',i)\n",
    "    #print(\"cars\")"
   ]
  },
  {
   "cell_type": "code",
   "execution_count": 183,
   "id": "506f4847-2860-4eb2-ac06-63905b1a946a",
   "metadata": {},
   "outputs": [
    {
     "name": "stdout",
     "output_type": "stream",
     "text": [
      "phones:- 10\n",
      "phones:- 11\n",
      "phones:- 12\n",
      "phones:- 13\n",
      "phones:- 14\n",
      "phones:- 15\n",
      "phones:- 16\n",
      "phones:- 17\n",
      "phones:- 18\n",
      "phones:- 19\n",
      "phones:- 20\n"
     ]
    }
   ],
   "source": [
    "for i in range(10,21):\n",
    "    if i == 5:\n",
    "        continue\n",
    "    print('phones:-',i)\n",
    "    #print(\"phones\")"
   ]
  },
  {
   "cell_type": "code",
   "execution_count": 191,
   "id": "64c43835-3298-4ff0-b7ba-6b0d2fd958cc",
   "metadata": {},
   "outputs": [
    {
     "name": "stdout",
     "output_type": "stream",
     "text": [
      "tablets:- 20\n",
      "tablets:- 21\n",
      "tablets:- 22\n",
      "tablets:- 23\n",
      "tablets:- 24\n",
      "tablets:- 25\n",
      "tablets:- 26\n",
      "tablets:- 27\n",
      "tablets:- 28\n",
      "tablets:- 29\n",
      "tablets:- 30\n"
     ]
    }
   ],
   "source": [
    "for i in range(20,31):\n",
    "    if i == 5:\n",
    "       continue\n",
    "    print('tablets:-',i)\n",
    "   "
   ]
  },
  {
   "cell_type": "code",
   "execution_count": 197,
   "id": "b7ccc086-9dfb-487b-8fa7-69e4c3ebd513",
   "metadata": {},
   "outputs": [
    {
     "name": "stdout",
     "output_type": "stream",
     "text": [
      "laptops<>- 50\n",
      "laptops<>- 51\n",
      "laptops<>- 52\n",
      "laptops<>- 53\n",
      "laptops<>- 54\n",
      "laptops<>- 55\n",
      "laptops<>- 56\n",
      "laptops<>- 57\n",
      "laptops<>- 58\n",
      "laptops<>- 59\n",
      "laptops<>- 60\n"
     ]
    }
   ],
   "source": [
    " for i in range(50,61):\n",
    "     if i == 5:\n",
    "         continue\n",
    "     print('laptops<>-',i)"
   ]
  },
  {
   "cell_type": "code",
   "execution_count": 199,
   "id": "33c45786-a3b2-40c9-bbdb-627521f5a9a1",
   "metadata": {},
   "outputs": [
    {
     "name": "stdout",
     "output_type": "stream",
     "text": [
      "glasses<*,.,*>- 50\n",
      "glasses<*,.,*>- 51\n",
      "glasses<*,.,*>- 52\n",
      "glasses<*,.,*>- 53\n",
      "glasses<*,.,*>- 54\n",
      "glasses<*,.,*>- 55\n",
      "glasses<*,.,*>- 56\n",
      "glasses<*,.,*>- 57\n",
      "glasses<*,.,*>- 58\n",
      "glasses<*,.,*>- 59\n",
      "glasses<*,.,*>- 60\n"
     ]
    }
   ],
   "source": [
    "for i in range(50,61):\n",
    "    if i == 5:\n",
    "       continue\n",
    "    print('glasses<*,.,*>-',i)"
   ]
  },
  {
   "cell_type": "code",
   "execution_count": 204,
   "id": "1e58811e-ed0b-4557-acf3-b9dfdc88e339",
   "metadata": {},
   "outputs": [
    {
     "name": "stdout",
     "output_type": "stream",
     "text": [
      "boxes<,,>;\"<,,>\"- 50\n",
      "boxes<,,>;\"<,,>\"- 51\n",
      "boxes<,,>;\"<,,>\"- 52\n",
      "boxes<,,>;\"<,,>\"- 53\n",
      "boxes<,,>;\"<,,>\"- 54\n",
      "boxes<,,>;\"<,,>\"- 55\n",
      "boxes<,,>;\"<,,>\"- 56\n",
      "boxes<,,>;\"<,,>\"- 57\n",
      "boxes<,,>;\"<,,>\"- 58\n",
      "boxes<,,>;\"<,,>\"- 59\n",
      "boxes<,,>;\"<,,>\"- 60\n"
     ]
    }
   ],
   "source": [
    "for i in range(50,61):\n",
    "    if i == 5:\n",
    "        continue\n",
    "    print('boxes<,,>;\"<,,>\"-',i)"
   ]
  },
  {
   "cell_type": "code",
   "execution_count": 216,
   "id": "29240b76-4517-4f6c-bbdb-30b99406f658",
   "metadata": {},
   "outputs": [
    {
     "name": "stdout",
     "output_type": "stream",
     "text": [
      "boxes<,1,>;\"<2,>\"- 50\n",
      "boxes<,1,>;\"<2,>\"- 51\n",
      "boxes<,1,>;\"<2,>\"- 52\n",
      "boxes<,1,>;\"<2,>\"- 53\n",
      "boxes<,1,>;\"<2,>\"- 54\n",
      "boxes<,1,>;\"<2,>\"- 55\n",
      "boxes<,1,>;\"<2,>\"- 56\n",
      "boxes<,1,>;\"<2,>\"- 57\n",
      "boxes<,1,>;\"<2,>\"- 58\n",
      "boxes<,1,>;\"<2,>\"- 59\n",
      "boxes<,1,>;\"<2,>\"- 60\n"
     ]
    }
   ],
   "source": [
    "for i in range(50,61):\n",
    "    if i == 5:\n",
    "        continue\n",
    "    print('boxes<,1,>;\"<2,>\"-',i)"
   ]
  },
  {
   "cell_type": "code",
   "execution_count": 218,
   "id": "6567675c-5ee9-469b-88dd-7b78b921e5bc",
   "metadata": {},
   "outputs": [
    {
     "name": "stdout",
     "output_type": "stream",
     "text": [
      "boxes<,VISHESH,>;\"<SANGWAN,>\"- 50\n",
      "boxes<,VISHESH,>;\"<SANGWAN,>\"- 51\n",
      "boxes<,VISHESH,>;\"<SANGWAN,>\"- 52\n",
      "boxes<,VISHESH,>;\"<SANGWAN,>\"- 53\n",
      "boxes<,VISHESH,>;\"<SANGWAN,>\"- 54\n",
      "boxes<,VISHESH,>;\"<SANGWAN,>\"- 55\n",
      "boxes<,VISHESH,>;\"<SANGWAN,>\"- 56\n",
      "boxes<,VISHESH,>;\"<SANGWAN,>\"- 57\n",
      "boxes<,VISHESH,>;\"<SANGWAN,>\"- 58\n",
      "boxes<,VISHESH,>;\"<SANGWAN,>\"- 59\n",
      "boxes<,VISHESH,>;\"<SANGWAN,>\"- 60\n"
     ]
    }
   ],
   "source": [
    "for i in range(50,61):\n",
    "    if i == 5:\n",
    "        continue\n",
    "    print('boxes<,VISHESH,>;\"<SANGWAN,>\"-',i)"
   ]
  },
  {
   "cell_type": "code",
   "execution_count": 220,
   "id": "0c83fe2b-1918-45e7-9a46-e6680dcdf74e",
   "metadata": {},
   "outputs": [
    {
     "name": "stdout",
     "output_type": "stream",
     "text": [
      "boxes<,vishesh,>;\"<sangwan,>\"- 50\n",
      "boxes<,vishesh,>;\"<sangwan,>\"- 51\n",
      "boxes<,vishesh,>;\"<sangwan,>\"- 52\n",
      "boxes<,vishesh,>;\"<sangwan,>\"- 53\n",
      "boxes<,vishesh,>;\"<sangwan,>\"- 54\n",
      "boxes<,vishesh,>;\"<sangwan,>\"- 55\n",
      "boxes<,vishesh,>;\"<sangwan,>\"- 56\n",
      "boxes<,vishesh,>;\"<sangwan,>\"- 57\n",
      "boxes<,vishesh,>;\"<sangwan,>\"- 58\n",
      "boxes<,vishesh,>;\"<sangwan,>\"- 59\n",
      "boxes<,vishesh,>;\"<sangwan,>\"- 60\n"
     ]
    }
   ],
   "source": [
    "for i in range(50,61):\n",
    "    if i == 5:\n",
    "        continue\n",
    "    print('boxes<,vishesh,>;\"<sangwan,>\"-',i)"
   ]
  },
  {
   "cell_type": "code",
   "execution_count": null,
   "id": "219776a2-a1b2-4332-afe5-c4d628a1b227",
   "metadata": {},
   "outputs": [],
   "source": []
  }
 ],
 "metadata": {
  "kernelspec": {
   "display_name": "Python [conda env:base] *",
   "language": "python",
   "name": "conda-base-py"
  },
  "language_info": {
   "codemirror_mode": {
    "name": "ipython",
    "version": 3
   },
   "file_extension": ".py",
   "mimetype": "text/x-python",
   "name": "python",
   "nbconvert_exporter": "python",
   "pygments_lexer": "ipython3",
   "version": "3.12.7"
  }
 },
 "nbformat": 4,
 "nbformat_minor": 5
}
