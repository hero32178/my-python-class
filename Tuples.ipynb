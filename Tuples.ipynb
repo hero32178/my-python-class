{
 "cells": [
  {
   "cell_type": "markdown",
   "id": "e608b6bb-950b-4192-8135-58a237cacb91",
   "metadata": {},
   "source": [
    "## Tuples\n",
    "# A tuple in Python is similar to a list. The difference between the two is that we cannot change the elements of a tuple once it is assigned whereas we can change the elements of a list.\n",
    "\n",
    "# In short, a tuple is an immutable list. A tuple can not be changed in any way once it is created.\n",
    "\n",
    "# Characterstics\n",
    "\n",
    "# .Ordered\n",
    "# .Unchangeble\n",
    "# .Allows duplicate"
   ]
  },
  {
   "cell_type": "markdown",
   "id": "febde418-a480-4b17-96ea-7b98e116c081",
   "metadata": {},
   "source": [
    "## Plan of attack\n",
    "# .Creating a Tuple\n",
    "# .Accessing items\n",
    "# .Editing items\n",
    "# .Adding items\n",
    "# .Deleting items\n",
    "# .Operations on Tuples\n",
    "# .Tuple Functions"
   ]
  },
  {
   "cell_type": "markdown",
   "id": "e6625426-03f8-4440-95fb-7d2a17d9dd04",
   "metadata": {},
   "source": []
  },
  {
   "cell_type": "markdown",
   "id": "7264635d-b391-47bc-ae13-843ad9bbcde0",
   "metadata": {},
   "source": [
    "# .Creating Tuples"
   ]
  },
  {
   "cell_type": "code",
   "execution_count": 10,
   "id": "c75c71cb-4e4f-4965-958a-f0198fc8982b",
   "metadata": {},
   "outputs": [
    {
     "name": "stdout",
     "output_type": "stream",
     "text": [
      "()\n",
      "('Vishesh Sangwan',)\n",
      "<class 'tuple'>\n",
      "(1, 2, 3, 4)\n",
      "(1, 2.5, True, [1, 2, 3])\n",
      "(1, 2, 3, (4, 5))\n",
      "('V', 'I', 'S', 'H', 'E', 'S', 'H')\n"
     ]
    }
   ],
   "source": [
    "\n",
    "t1 = ()\n",
    "print(t1)\n",
    "\n",
    "t2 = ('Vishesh Sangwan',)\n",
    "print(t2)\n",
    "print(type(t2))\n",
    "\n",
    "t3 = (1,2,3,4)\n",
    "print(t3)\n",
    "\n",
    "t4 = (1,2.5,True,[1,2,3])\n",
    "print(t4)\n",
    "\n",
    "t5 = (1,2,3,(4,5))\n",
    "print(t5)\n",
    "\n",
    "t6 = tuple('VISHESH')\n",
    "print(t6)"
   ]
  },
  {
   "cell_type": "markdown",
   "id": "47a25883-39fd-4e6e-89fb-b9c7883019d0",
   "metadata": {},
   "source": [
    "## Accessing Items\n",
    "# . Indexing\n",
    "# . Slicing"
   ]
  },
  {
   "cell_type": "code",
   "execution_count": 2,
   "id": "fcf0fedb-fb1e-41f4-b10e-80d3a6c8da95",
   "metadata": {},
   "outputs": [
    {
     "name": "stdout",
     "output_type": "stream",
     "text": [
      "(1, 2, 3, 4)\n",
      "1\n",
      "4\n"
     ]
    }
   ],
   "source": [
    "print(t3)\n",
    "print(t3[0])\n",
    "print(t3[-1])"
   ]
  },
  {
   "cell_type": "code",
   "execution_count": 3,
   "id": "81c01779-984f-4c13-91a7-5edc3921fc87",
   "metadata": {},
   "outputs": [
    {
     "data": {
      "text/plain": [
       "4"
      ]
     },
     "execution_count": 3,
     "metadata": {},
     "output_type": "execute_result"
    }
   ],
   "source": [
    "t5[-1][0]"
   ]
  },
  {
   "cell_type": "markdown",
   "id": "622f99f9-fb74-4b6f-8105-86de631b8772",
   "metadata": {},
   "source": [
    "## Editing items"
   ]
  },
  {
   "cell_type": "code",
   "execution_count": null,
   "id": "538aff4d-6e63-425c-818f-f0fbeb3e59e1",
   "metadata": {},
   "outputs": [],
   "source": [
    "print(t3)\n",
    "t3[0] = 100\n"
   ]
  },
  {
   "cell_type": "markdown",
   "id": "64d95cb0-9fb9-40e5-834a-5d35f59f109a",
   "metadata": {},
   "source": [
    "## Adding items"
   ]
  },
  {
   "cell_type": "code",
   "execution_count": 11,
   "id": "7d9e9da6-840e-4605-996c-66ad5f658967",
   "metadata": {},
   "outputs": [
    {
     "name": "stdout",
     "output_type": "stream",
     "text": [
      "(1, 2, 3, 4)\n"
     ]
    }
   ],
   "source": [
    "print(t3)\n",
    "# not possible"
   ]
  },
  {
   "cell_type": "markdown",
   "id": "ea39bb49-95a1-43ff-96f7-6e883d5b7766",
   "metadata": {},
   "source": [
    "## Deleting items\n"
   ]
  },
  {
   "cell_type": "code",
   "execution_count": null,
   "id": "c301d37e-1a5a-4760-8db1-3f54b8122b61",
   "metadata": {},
   "outputs": [],
   "source": [
    "print(t3)\n",
    "del t3\n",
    "print(t3)"
   ]
  },
  {
   "cell_type": "code",
   "execution_count": 13,
   "id": "844248ba-919e-4511-8f43-85419c0802cc",
   "metadata": {},
   "outputs": [
    {
     "data": {
      "text/plain": [
       "(5, 4, 3)"
      ]
     },
     "execution_count": 13,
     "metadata": {},
     "output_type": "execute_result"
    }
   ],
   "source": [
    "t = (1,2,3,4,5)\n",
    "\n",
    "t[-1:-4:-1]"
   ]
  },
  {
   "cell_type": "code",
   "execution_count": null,
   "id": "2d13d5d7-fb6b-4b9e-8630-d506a102d5bc",
   "metadata": {},
   "outputs": [],
   "source": [
    "print(t5)\n",
    "del t5[-1]"
   ]
  },
  {
   "cell_type": "markdown",
   "id": "de80f3e9-dbe2-4064-840a-1566ea601d97",
   "metadata": {},
   "source": [
    "## Operations on Tuples"
   ]
  },
  {
   "cell_type": "code",
   "execution_count": 14,
   "id": "b39d22cd-33ab-44cd-b1f6-29c23394fe90",
   "metadata": {},
   "outputs": [
    {
     "name": "stdout",
     "output_type": "stream",
     "text": [
      "(1, 2, 3, 4, 5, 6, 7, 8)\n",
      "(1, 2, 3, 4, 1, 2, 3, 4, 1, 2, 3, 4)\n",
      "1\n",
      "2\n",
      "3\n",
      "4\n"
     ]
    }
   ],
   "source": [
    "t1 = (1,2,3,4)\n",
    "t2 = (5,6,7,8)\n",
    "\n",
    "print(t1 + t2)\n",
    "\n",
    "print(t1*3)\n",
    "\n",
    "1 in t1\n",
    "\n",
    "for i in t1:\n",
    "  print(i)"
   ]
  },
  {
   "cell_type": "markdown",
   "id": "7851af05-a9e0-44e6-b40c-d2b61a5704b5",
   "metadata": {},
   "source": [
    "## Tuple Functions"
   ]
  },
  {
   "cell_type": "code",
   "execution_count": 15,
   "id": "05d0084d-a091-4711-9d19-ac8cccf6f25f",
   "metadata": {},
   "outputs": [
    {
     "data": {
      "text/plain": [
       "[4, 3, 2, 1]"
      ]
     },
     "execution_count": 15,
     "metadata": {},
     "output_type": "execute_result"
    }
   ],
   "source": [
    "t = (1,2,3,4)\n",
    "len(t)\n",
    "\n",
    "sum(t)\n",
    "\n",
    "min(t)\n",
    "\n",
    "max(t)\n",
    "\n",
    "sorted(t,reverse=True)"
   ]
  },
  {
   "cell_type": "code",
   "execution_count": 16,
   "id": "d74eba42-1556-454e-94dd-33da54e09813",
   "metadata": {},
   "outputs": [
    {
     "data": {
      "text/plain": [
       "0"
      ]
     },
     "execution_count": 16,
     "metadata": {},
     "output_type": "execute_result"
    }
   ],
   "source": [
    "t = (1,2,3,4,5)\n",
    "\n",
    "t.count(50)"
   ]
  },
  {
   "cell_type": "code",
   "execution_count": null,
   "id": "b61052cf-d5d3-48ec-9db6-f7b18d15a9c3",
   "metadata": {},
   "outputs": [],
   "source": [
    "t.index(50)"
   ]
  },
  {
   "cell_type": "markdown",
   "id": "48a32990-b8cb-4c18-9e79-569b950625ab",
   "metadata": {},
   "source": [
    "## Difference between Lists and Tuples\n",
    "# .Syntax\n",
    "# .Mutability\n",
    "# .Speed\n",
    "# .Memory\n",
    "# .Built in functionality\n",
    "# .Error prone\n",
    "# .Usability\n"
   ]
  },
  {
   "cell_type": "code",
   "execution_count": 3,
   "id": "fdba7689-e0f2-4731-a43a-cf153316f51f",
   "metadata": {},
   "outputs": [
    {
     "name": "stdout",
     "output_type": "stream",
     "text": [
      "List time 16.48852562904358\n",
      "Tuple time 16.87445902824402\n"
     ]
    }
   ],
   "source": [
    "import time\n",
    "\n",
    "L = list(range(100000000))\n",
    "T = tuple(range(100000000))\n",
    "\n",
    "start = time.time()\n",
    "for i in L:\n",
    "  i*5\n",
    "print('List time',time.time()-start)\n",
    "\n",
    "start = time.time()\n",
    "for i in T:\n",
    "  i*5\n",
    "print('Tuple time',time.time()-start)"
   ]
  },
  {
   "cell_type": "code",
   "execution_count": 1,
   "id": "de8fbe25-47f4-4312-b24a-0dbc5cffeef6",
   "metadata": {},
   "outputs": [
    {
     "ename": "NameError",
     "evalue": "name 'sys' is not defined",
     "output_type": "error",
     "traceback": [
      "\u001b[1;31m---------------------------------------------------------------------------\u001b[0m",
      "\u001b[1;31mNameError\u001b[0m                                 Traceback (most recent call last)",
      "Cell \u001b[1;32mIn[1], line 4\u001b[0m\n\u001b[0;32m      1\u001b[0m L \u001b[38;5;241m=\u001b[39m \u001b[38;5;28mlist\u001b[39m(\u001b[38;5;28mrange\u001b[39m(\u001b[38;5;241m1000\u001b[39m))\n\u001b[0;32m      2\u001b[0m T \u001b[38;5;241m=\u001b[39m \u001b[38;5;28mtuple\u001b[39m(\u001b[38;5;28mrange\u001b[39m(\u001b[38;5;241m1000\u001b[39m))\n\u001b[1;32m----> 4\u001b[0m \u001b[38;5;28mprint\u001b[39m(\u001b[38;5;124m'\u001b[39m\u001b[38;5;124mList size\u001b[39m\u001b[38;5;124m'\u001b[39m,sys\u001b[38;5;241m.\u001b[39mgetsizeof(L))\n\u001b[0;32m      5\u001b[0m \u001b[38;5;28mprint\u001b[39m(\u001b[38;5;124m'\u001b[39m\u001b[38;5;124mTuple size\u001b[39m\u001b[38;5;124m'\u001b[39m,sys\u001b[38;5;241m.\u001b[39mgetsizeof(T))\n",
      "\u001b[1;31mNameError\u001b[0m: name 'sys' is not defined"
     ]
    }
   ],
   "source": [
    "\n",
    "L = list(range(1000))\n",
    "T = tuple(range(1000))\n",
    "\n",
    "print('List size',sys.getsizeof(L))\n",
    "print('Tuple size',sys.getsizeof(T))\n"
   ]
  },
  {
   "cell_type": "code",
   "execution_count": 5,
   "id": "03e27883-53b3-44f1-9910-d69580e2d59c",
   "metadata": {},
   "outputs": [
    {
     "name": "stdout",
     "output_type": "stream",
     "text": [
      "[1, 2, 3, 4]\n",
      "[1, 2, 3, 4]\n"
     ]
    }
   ],
   "source": [
    "a = [1,2,3]\n",
    "b = a\n",
    "\n",
    "a.append(4)\n",
    "print(a)\n",
    "print(b)"
   ]
  },
  {
   "cell_type": "code",
   "execution_count": 6,
   "id": "8112171b-448b-4873-b85e-1dabcf613245",
   "metadata": {},
   "outputs": [
    {
     "name": "stdout",
     "output_type": "stream",
     "text": [
      "(1, 2, 3, 4)\n",
      "(1, 2, 3)\n"
     ]
    }
   ],
   "source": [
    "a = (1,2,3)\n",
    "b = a\n",
    "\n",
    "a = a + (4,)\n",
    "print(a)\n",
    "print(b)"
   ]
  },
  {
   "cell_type": "markdown",
   "id": "bf61371a-87c5-4614-8514-88b7c1ff3d97",
   "metadata": {},
   "source": [
    "## Why use tuple?"
   ]
  },
  {
   "cell_type": "markdown",
   "id": "6d336b4e-6afa-4728-8db0-ae033db9e844",
   "metadata": {},
   "source": [
    "## Special Syntax"
   ]
  },
  {
   "cell_type": "code",
   "execution_count": 7,
   "id": "c20fe6c4-c1ec-4377-80c6-dcc2c254325f",
   "metadata": {},
   "outputs": [
    {
     "name": "stdout",
     "output_type": "stream",
     "text": [
      "1 2 3\n"
     ]
    }
   ],
   "source": [
    "a,b,c = (1,2,3)\n",
    "print(a,b,c)"
   ]
  },
  {
   "cell_type": "code",
   "execution_count": 8,
   "id": "a28fb81d-9955-4304-849f-25811233332b",
   "metadata": {},
   "outputs": [
    {
     "ename": "ValueError",
     "evalue": "too many values to unpack (expected 2)",
     "output_type": "error",
     "traceback": [
      "\u001b[1;31m---------------------------------------------------------------------------\u001b[0m",
      "\u001b[1;31mValueError\u001b[0m                                Traceback (most recent call last)",
      "Cell \u001b[1;32mIn[8], line 1\u001b[0m\n\u001b[1;32m----> 1\u001b[0m a,b \u001b[38;5;241m=\u001b[39m (\u001b[38;5;241m1\u001b[39m,\u001b[38;5;241m2\u001b[39m,\u001b[38;5;241m3\u001b[39m)\n\u001b[0;32m      2\u001b[0m \u001b[38;5;28mprint\u001b[39m(a,b)\n",
      "\u001b[1;31mValueError\u001b[0m: too many values to unpack (expected 2)"
     ]
    }
   ],
   "source": [
    "a,b = (1,2,3)\n",
    "print(a,b)"
   ]
  },
  {
   "cell_type": "code",
   "execution_count": 9,
   "id": "8bec057f-b27f-4c8e-8509-26cdf5cd228e",
   "metadata": {},
   "outputs": [
    {
     "name": "stdout",
     "output_type": "stream",
     "text": [
      "2 1\n"
     ]
    }
   ],
   "source": [
    "a = 1\n",
    "b = 2\n",
    "a,b = b,a\n",
    "\n",
    "print(a,b)"
   ]
  },
  {
   "cell_type": "code",
   "execution_count": 10,
   "id": "7eb3272f-260b-4b0b-9f7e-d194f82847fe",
   "metadata": {},
   "outputs": [
    {
     "name": "stdout",
     "output_type": "stream",
     "text": [
      "1 2\n",
      "[3, 4]\n"
     ]
    }
   ],
   "source": [
    "a,b,*others = (1,2,3,4)\n",
    "print(a,b)\n",
    "print(others)"
   ]
  },
  {
   "cell_type": "code",
   "execution_count": 11,
   "id": "f7883f1b-22cd-4601-8ecb-1a271d193c99",
   "metadata": {},
   "outputs": [
    {
     "data": {
      "text/plain": [
       "((1, 5), (2, 6), (3, 7), (4, 8))"
      ]
     },
     "execution_count": 11,
     "metadata": {},
     "output_type": "execute_result"
    }
   ],
   "source": [
    "a = (1,2,3,4)\n",
    "b = (5,6,7,8)\n",
    "\n",
    "tuple(zip(a,b))"
   ]
  },
  {
   "cell_type": "code",
   "execution_count": null,
   "id": "d3293368-1ba7-456f-8ebf-4f3b6eb0e83c",
   "metadata": {},
   "outputs": [],
   "source": []
  }
 ],
 "metadata": {
  "kernelspec": {
   "display_name": "Python 3 (ipykernel)",
   "language": "python",
   "name": "python3"
  },
  "language_info": {
   "codemirror_mode": {
    "name": "ipython",
    "version": 3
   },
   "file_extension": ".py",
   "mimetype": "text/x-python",
   "name": "python",
   "nbconvert_exporter": "python",
   "pygments_lexer": "ipython3",
   "version": "3.12.7"
  }
 },
 "nbformat": 4,
 "nbformat_minor": 5
}
