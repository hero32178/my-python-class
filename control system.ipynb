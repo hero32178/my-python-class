{
 "cells": [
  {
   "cell_type": "markdown",
   "id": "96e31d4a-698c-4bc0-9f28-c0303dee70f8",
   "metadata": {},
   "source": [
    "Decission Control\n",
    "(if,else,elif)"
   ]
  },
  {
   "cell_type": "raw",
   "id": "cf8a970a-1539-4ae5-a2e5-1823714404b5",
   "metadata": {},
   "source": [
    "a =60"
   ]
  },
  {
   "cell_type": "code",
   "execution_count": null,
   "id": "5cb3b89c-2452-4f83-876a-9999b89ce52c",
   "metadata": {},
   "outputs": [],
   "source": [
    "password = input(\"my password: \")"
   ]
  },
  {
   "cell_type": "code",
   "execution_count": null,
   "id": "7996b856-c227-4b64-aafc-7888f2c578cf",
   "metadata": {},
   "outputs": [],
   "source": [
    "email = input(\"my email: \")\n",
    "if \"@\" in email:\n",
    "    password = input(\"my password: \")\n",
    "    \n",
    "    if email == \"vishesh77@gmail.com\" and password == \"1234\":\n",
    "        print(\"Welcome\")\n",
    "    elif email == \"vishesh77@gmail.com\" and password != \"1234\":\n",
    "        print(\"Password incorrect\")\n",
    "        password = input(\"Password fir se bol: \")\n",
    "        if password ==\"1234\":"
   ]
  },
  {
   "cell_type": "code",
   "execution_count": 7,
   "id": "62e05135-dff3-4692-89e9-ed9d725826a8",
   "metadata": {},
   "outputs": [
    {
     "name": "stdin",
     "output_type": "stream",
     "text": [
      "Apna email bata:  saurabh@gmail.com\n",
      "Apna password bhi bata:  1234\n"
     ]
    },
    {
     "name": "stdout",
     "output_type": "stream",
     "text": [
      "Welcome\n"
     ]
    }
   ],
   "source": [
    "email = input(\"Apna email bata: \")\n",
    "if \"@\" in email:\n",
    "    password = input(\"Apna password bhi bata: \")\n",
    "    \n",
    "    if email == \"saurabh@gmail.com\" and password == \"1234\":\n",
    "        print(\"Welcome\")\n",
    "    elif email == \"saurabh@gmail.com\" and password != \"1234\":\n",
    "        print(\"Password incorrect\")\n",
    "        password = input(\"Password fir se bol: \")\n",
    "        if password ==\"1234\":\n",
    "            print(\"Finally correct\")\n",
    "        else:\n",
    "            print(\"Still incorrect\")\n",
    "    else:\n",
    "        print(\"Incorrect credentials\")\n",
    "else:\n",
    "    print(\"Email galat hai sahi likho: \")"
   ]
  },
  {
   "cell_type": "code",
   "execution_count": 11,
   "id": "3529e788-cce4-4b00-a1a9-4165a011fc75",
   "metadata": {},
   "outputs": [
    {
     "name": "stdin",
     "output_type": "stream",
     "text": [
      "first num:  12\n",
      "second num:  25\n",
      "third num:  35\n"
     ]
    },
    {
     "name": "stdout",
     "output_type": "stream",
     "text": [
      "smallest is 12\n"
     ]
    }
   ],
   "source": [
    "# 1. Min of 3 Numbers\n",
    "a = int(input('first num: '))\n",
    "b = int(input('second num: '))\n",
    "c = int(input('third num: '))\n",
    "\n",
    "if a < b and a < c:\n",
    "    print('smallest is', a)\n",
    "elif b < c:\n",
    "    print('smallest is', b)\n",
    "else:\n",
    "    print('smallest is', c)"
   ]
  },
  {
   "cell_type": "code",
   "execution_count": 15,
   "id": "ba6c9a37-2d24-4ffd-8b53-8b7cc21618bd",
   "metadata": {},
   "outputs": [
    {
     "name": "stdin",
     "output_type": "stream",
     "text": [
      "\n",
      "Hi! how can I help you.\n",
      "1. Enter 1 for pin change\n",
      "2. Enter 2 for balance check\n",
      "3. Enter 3 for withdrawl\n",
      "4. Enter 4 for exit\n",
      " 2\n"
     ]
    },
    {
     "name": "stdout",
     "output_type": "stream",
     "text": [
      "balance\n"
     ]
    }
   ],
   "source": [
    "menu = input(\"\"\"\n",
    "Hi! how can I help you.\n",
    "1. Enter 1 for pin change\n",
    "2. Enter 2 for balance check\n",
    "3. Enter 3 for withdrawl\n",
    "4. Enter 4 for exit\n",
    "\"\"\")\n",
    "\n",
    "if menu == '1':\n",
    "  print('pin change')\n",
    "elif menu == '2':\n",
    "  print('balance')\n",
    "else:\n",
    "  print('exit')"
   ]
  },
  {
   "cell_type": "code",
   "execution_count": 21,
   "id": "200049b2-f59b-4439-9e39-dbc5045c6dad",
   "metadata": {},
   "outputs": [
    {
     "name": "stdin",
     "output_type": "stream",
     "text": [
      "Enter a number:  0\n"
     ]
    },
    {
     "name": "stdout",
     "output_type": "stream",
     "text": [
      "Zero\n"
     ]
    }
   ],
   "source": [
    "num = int(input(\"Enter a number: \"))\n",
    "\n",
    "if num > 0:\n",
    "    print(\"Positive\")\n",
    "elif num < 0:\n",
    "    print(\"Negative\")\n",
    "else:\n",
    "    print(\"Zero\")"
   ]
  },
  {
   "cell_type": "code",
   "execution_count": 23,
   "id": "38515dd5-abbc-40fb-a820-995e20b014a8",
   "metadata": {},
   "outputs": [
    {
     "name": "stdin",
     "output_type": "stream",
     "text": [
      "Enter your age:  15\n"
     ]
    },
    {
     "name": "stdout",
     "output_type": "stream",
     "text": [
      "Not eligible to vote\n"
     ]
    }
   ],
   "source": [
    "age = int(input(\"Enter your age: \"))\n",
    "\n",
    "if age >= 18:\n",
    "    print(\"Eligible to vote\")\n",
    "else:\n",
    "    print(\"Not eligible to vote\")"
   ]
  },
  {
   "cell_type": "code",
   "execution_count": 29,
   "id": "2a5693d0-8c0c-49c3-818d-13ad89cb1c5a",
   "metadata": {},
   "outputs": [
    {
     "name": "stdin",
     "output_type": "stream",
     "text": [
      "Enter a number:  0\n"
     ]
    },
    {
     "name": "stdout",
     "output_type": "stream",
     "text": [
      "Even\n"
     ]
    }
   ],
   "source": [
    "num = int(input(\"Enter a number: \"))\n",
    "\n",
    "if num % 2 == 0:\n",
    "    print(\"Even\")\n",
    "else:\n",
    "    print(\"Odd\")"
   ]
  },
  {
   "cell_type": "code",
   "execution_count": null,
   "id": "8d0f928c-b7c7-4364-8a74-cdad1f7a17ea",
   "metadata": {},
   "outputs": [],
   "source": []
  }
 ],
 "metadata": {
  "kernelspec": {
   "display_name": "Python [conda env:base] *",
   "language": "python",
   "name": "conda-base-py"
  },
  "language_info": {
   "codemirror_mode": {
    "name": "ipython",
    "version": 3
   },
   "file_extension": ".py",
   "mimetype": "text/x-python",
   "name": "python",
   "nbconvert_exporter": "python",
   "pygments_lexer": "ipython3",
   "version": "3.12.7"
  }
 },
 "nbformat": 4,
 "nbformat_minor": 5
}
