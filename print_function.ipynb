{
 "cells": [
  {
   "cell_type": "markdown",
   "id": "aa53e4ab-760a-480d-ad01-4a186314e890",
   "metadata": {},
   "source": [
    "print function"
   ]
  },
  {
   "cell_type": "code",
   "execution_count": 2,
   "id": "8b94bbef-97f6-4fe2-95f7-65ec0ae90836",
   "metadata": {},
   "outputs": [
    {
     "name": "stdout",
     "output_type": "stream",
     "text": [
      "\n"
     ]
    }
   ],
   "source": [
    "print()"
   ]
  },
  {
   "cell_type": "code",
   "execution_count": 4,
   "id": "691eb8af-6cdf-4979-bd92-23d2c9696402",
   "metadata": {},
   "outputs": [
    {
     "name": "stdout",
     "output_type": "stream",
     "text": [
      "vishesh\n"
     ]
    }
   ],
   "source": [
    "print('vishesh')"
   ]
  },
  {
   "cell_type": "code",
   "execution_count": 6,
   "id": "e2d43540-a1bc-4e2e-8b32-1b1f4ca14697",
   "metadata": {},
   "outputs": [
    {
     "name": "stdout",
     "output_type": "stream",
     "text": [
      "10\n"
     ]
    }
   ],
   "source": [
    "print(10)"
   ]
  },
  {
   "cell_type": "code",
   "execution_count": 8,
   "id": "7ddb648e-fa95-4d67-8061-a91494b9ad88",
   "metadata": {},
   "outputs": [
    {
     "name": "stdout",
     "output_type": "stream",
     "text": [
      "India Pakistan Nepal Srilanka\n"
     ]
    }
   ],
   "source": [
    "print(\"India\", \"Pakistan\", \"Nepal\", \"Srilanka\")"
   ]
  },
  {
   "cell_type": "code",
   "execution_count": 10,
   "id": "e95375e1-6714-4b7f-af1d-071c50c1a2a4",
   "metadata": {},
   "outputs": [
    {
     "name": "stdout",
     "output_type": "stream",
     "text": [
      "hello\n",
      "world\n"
     ]
    }
   ],
   "source": [
    "print(\"hello\")\n",
    "print(\"world\")"
   ]
  },
  {
   "cell_type": "code",
   "execution_count": 14,
   "id": "c59f65b7-f137-43d2-a716-762685a56de8",
   "metadata": {},
   "outputs": [
    {
     "name": "stdout",
     "output_type": "stream",
     "text": [
      "hello world\n"
     ]
    }
   ],
   "source": [
    "print(\"hello\",end=\" \")\n",
    "print(\"world\")"
   ]
  },
  {
   "cell_type": "code",
   "execution_count": 16,
   "id": "2e32f29b-e1f2-4d5f-be5a-879cfe811d7c",
   "metadata": {},
   "outputs": [
    {
     "name": "stdout",
     "output_type": "stream",
     "text": [
      "India Pakistan Nepal Srilanka\n"
     ]
    }
   ],
   "source": [
    "#sep\n",
    "print(\"India\", \"Pakistan\", \"Nepal\", \"Srilanka\")"
   ]
  },
  {
   "cell_type": "code",
   "execution_count": 20,
   "id": "18f46547-c6f7-4de5-bcd7-6211c62718f7",
   "metadata": {},
   "outputs": [
    {
     "name": "stdout",
     "output_type": "stream",
     "text": [
      "India/Pakistan/Nepal/Srilanka\n"
     ]
    }
   ],
   "source": [
    "print(\"India\", \"Pakistan\", \"Nepal\", \"Srilanka\",sep=\"/\")"
   ]
  },
  {
   "cell_type": "code",
   "execution_count": 22,
   "id": "a7f4927d-e2ff-4fbf-8fce-7760bee1426e",
   "metadata": {},
   "outputs": [
    {
     "name": "stdout",
     "output_type": "stream",
     "text": [
      "cricket football badminton basketball\n"
     ]
    }
   ],
   "source": [
    "print(\"cricket\", \"football\", \"badminton\", \"basketball\")"
   ]
  },
  {
   "cell_type": "code",
   "execution_count": 24,
   "id": "e1996b86-b666-4c9f-b47c-2db1538e3d21",
   "metadata": {},
   "outputs": [
    {
     "name": "stdout",
     "output_type": "stream",
     "text": [
      "bye5"
     ]
    }
   ],
   "source": [
    "print(\"bye\",end=\"5\")"
   ]
  },
  {
   "cell_type": "code",
   "execution_count": 26,
   "id": "c133f063-1667-4240-8b8d-dfe9eb64308a",
   "metadata": {},
   "outputs": [
    {
     "name": "stdout",
     "output_type": "stream",
     "text": [
      "my\n",
      "nature\n"
     ]
    }
   ],
   "source": [
    "print(\"my\")\n",
    "print(\"nature\")"
   ]
  },
  {
   "cell_type": "code",
   "execution_count": 28,
   "id": "9d4d134b-bfea-4fd2-8257-0183303f88de",
   "metadata": {},
   "outputs": [
    {
     "name": "stdout",
     "output_type": "stream",
     "text": [
      "my nature\n"
     ]
    }
   ],
   "source": [
    "print(\"my\",end=\" \")\n",
    "print(\"nature\")"
   ]
  },
  {
   "cell_type": "code",
   "execution_count": null,
   "id": "516e1acf-4bb5-4ab7-81ae-b9ba63c603ad",
   "metadata": {},
   "outputs": [],
   "source": [
    "print(\":bca:\",end"
   ]
  }
 ],
 "metadata": {
  "kernelspec": {
   "display_name": "Python [conda env:base] *",
   "language": "python",
   "name": "conda-base-py"
  },
  "language_info": {
   "codemirror_mode": {
    "name": "ipython",
    "version": 3
   },
   "file_extension": ".py",
   "mimetype": "text/x-python",
   "name": "python",
   "nbconvert_exporter": "python",
   "pygments_lexer": "ipython3",
   "version": "3.12.7"
  }
 },
 "nbformat": 4,
 "nbformat_minor": 5
}
