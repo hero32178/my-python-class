{
 "cells": [
  {
   "cell_type": "markdown",
   "id": "aa53e4ab-760a-480d-ad01-4a186314e890",
   "metadata": {},
   "source": [
    "print function"
   ]
  },
  {
   "cell_type": "code",
   "execution_count": 2,
   "id": "8b94bbef-97f6-4fe2-95f7-65ec0ae90836",
   "metadata": {},
   "outputs": [
    {
     "name": "stdout",
     "output_type": "stream",
     "text": [
      "\n"
     ]
    }
   ],
   "source": [
    "print()"
   ]
  },
  {
   "cell_type": "code",
   "execution_count": 4,
   "id": "691eb8af-6cdf-4979-bd92-23d2c9696402",
   "metadata": {},
   "outputs": [
    {
     "name": "stdout",
     "output_type": "stream",
     "text": [
      "vishesh\n"
     ]
    }
   ],
   "source": [
    "print('vishesh')"
   ]
  },
  {
   "cell_type": "code",
   "execution_count": 6,
   "id": "e2d43540-a1bc-4e2e-8b32-1b1f4ca14697",
   "metadata": {},
   "outputs": [
    {
     "name": "stdout",
     "output_type": "stream",
     "text": [
      "10\n"
     ]
    }
   ],
   "source": [
    "print(10)"
   ]
  },
  {
   "cell_type": "code",
   "execution_count": 8,
   "id": "7ddb648e-fa95-4d67-8061-a91494b9ad88",
   "metadata": {},
   "outputs": [
    {
     "name": "stdout",
     "output_type": "stream",
     "text": [
      "India Pakistan Nepal Srilanka\n"
     ]
    }
   ],
   "source": [
    "print(\"India\", \"Pakistan\", \"Nepal\", \"Srilanka\")"
   ]
  },
  {
   "cell_type": "code",
   "execution_count": 10,
   "id": "e95375e1-6714-4b7f-af1d-071c50c1a2a4",
   "metadata": {},
   "outputs": [
    {
     "name": "stdout",
     "output_type": "stream",
     "text": [
      "hello\n",
      "world\n"
     ]
    }
   ],
   "source": [
    "print(\"hello\")\n",
    "print(\"world\")"
   ]
  },
  {
   "cell_type": "code",
   "execution_count": 14,
   "id": "c59f65b7-f137-43d2-a716-762685a56de8",
   "metadata": {},
   "outputs": [
    {
     "name": "stdout",
     "output_type": "stream",
     "text": [
      "hello world\n"
     ]
    }
   ],
   "source": [
    "print(\"hello\",end=\" \")\n",
    "print(\"world\")"
   ]
  },
  {
   "cell_type": "code",
   "execution_count": 16,
   "id": "2e32f29b-e1f2-4d5f-be5a-879cfe811d7c",
   "metadata": {},
   "outputs": [
    {
     "name": "stdout",
     "output_type": "stream",
     "text": [
      "India Pakistan Nepal Srilanka\n"
     ]
    }
   ],
   "source": [
    "#sep\n",
    "print(\"India\", \"Pakistan\", \"Nepal\", \"Srilanka\")"
   ]
  },
  {
   "cell_type": "code",
   "execution_count": 20,
   "id": "18f46547-c6f7-4de5-bcd7-6211c62718f7",
   "metadata": {},
   "outputs": [
    {
     "name": "stdout",
     "output_type": "stream",
     "text": [
      "India/Pakistan/Nepal/Srilanka\n"
     ]
    }
   ],
   "source": [
    "print(\"India\", \"Pakistan\", \"Nepal\", \"Srilanka\",sep=\"/\")"
   ]
  },
  {
   "cell_type": "code",
   "execution_count": null,
   "id": "a7f4927d-e2ff-4fbf-8fce-7760bee1426e",
   "metadata": {},
   "outputs": [],
   "source": []
  }
 ],
 "metadata": {
  "kernelspec": {
   "display_name": "Python [conda env:base] *",
   "language": "python",
   "name": "conda-base-py"
  },
  "language_info": {
   "codemirror_mode": {
    "name": "ipython",
    "version": 3
   },
   "file_extension": ".py",
   "mimetype": "text/x-python",
   "name": "python",
   "nbconvert_exporter": "python",
   "pygments_lexer": "ipython3",
   "version": "3.12.7"
  }
 },
 "nbformat": 4,
 "nbformat_minor": 5
}
