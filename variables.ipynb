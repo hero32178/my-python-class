{
 "cells": [
  {
   "cell_type": "markdown",
   "id": "c6afd21d-7161-4d9c-adc2-06cdc76ea113",
   "metadata": {},
   "source": [
    "variables"
   ]
  },
  {
   "cell_type": "code",
   "execution_count": 8,
   "id": "5d88c831-ffb6-4035-8780-3bbd2bb1f412",
   "metadata": {},
   "outputs": [],
   "source": [
    "a = 10"
   ]
  },
  {
   "cell_type": "code",
   "execution_count": 10,
   "id": "d08d1dbb-ec83-4469-a2dc-ce7ecc61832a",
   "metadata": {},
   "outputs": [
    {
     "data": {
      "text/plain": [
       "10"
      ]
     },
     "execution_count": 10,
     "metadata": {},
     "output_type": "execute_result"
    }
   ],
   "source": [
    "a"
   ]
  },
  {
   "cell_type": "code",
   "execution_count": 12,
   "id": "1128f985-6094-4c15-ac24-c69269ddc267",
   "metadata": {},
   "outputs": [
    {
     "name": "stdout",
     "output_type": "stream",
     "text": [
      "10\n"
     ]
    }
   ],
   "source": [
    "print(a)"
   ]
  },
  {
   "cell_type": "code",
   "execution_count": 16,
   "id": "e397acb3-3afb-4dec-b836-37ab1e771769",
   "metadata": {},
   "outputs": [
    {
     "name": "stdout",
     "output_type": "stream",
     "text": [
      "10\n"
     ]
    }
   ],
   "source": [
    "print(10)\n"
   ]
  },
  {
   "cell_type": "code",
   "execution_count": 18,
   "id": "073cad71-e7e2-4df2-b1de-1edaa4516b24",
   "metadata": {},
   "outputs": [],
   "source": [
    "b = 20"
   ]
  },
  {
   "cell_type": "code",
   "execution_count": 20,
   "id": "d3210d7a-2d9d-4a02-896c-758d48e97edb",
   "metadata": {},
   "outputs": [
    {
     "data": {
      "text/plain": [
       "20"
      ]
     },
     "execution_count": 20,
     "metadata": {},
     "output_type": "execute_result"
    }
   ],
   "source": [
    "b"
   ]
  },
  {
   "cell_type": "code",
   "execution_count": 22,
   "id": "817742cf-6ad8-468e-947c-07be34ae62fe",
   "metadata": {},
   "outputs": [
    {
     "name": "stdout",
     "output_type": "stream",
     "text": [
      "20\n"
     ]
    }
   ],
   "source": [
    "print(b)"
   ]
  },
  {
   "cell_type": "code",
   "execution_count": 24,
   "id": "e71eb772-9b22-4ce3-87bc-9b5b44412a0a",
   "metadata": {},
   "outputs": [],
   "source": [
    "v = 100"
   ]
  },
  {
   "cell_type": "code",
   "execution_count": 26,
   "id": "f446578e-805a-4cba-8e05-b5b473d9e849",
   "metadata": {},
   "outputs": [
    {
     "data": {
      "text/plain": [
       "100"
      ]
     },
     "execution_count": 26,
     "metadata": {},
     "output_type": "execute_result"
    }
   ],
   "source": [
    "v"
   ]
  },
  {
   "cell_type": "code",
   "execution_count": 30,
   "id": "2b3b3b1f-92fb-49a9-ac35-f28afffb2f8c",
   "metadata": {},
   "outputs": [],
   "source": [
    "my_first_name = 202"
   ]
  },
  {
   "cell_type": "code",
   "execution_count": 34,
   "id": "6b3dbb3a-f507-438b-a6ec-f15eb04ba8e0",
   "metadata": {},
   "outputs": [
    {
     "data": {
      "text/plain": [
       "202"
      ]
     },
     "execution_count": 34,
     "metadata": {},
     "output_type": "execute_result"
    }
   ],
   "source": [
    "my_first_name"
   ]
  },
  {
   "cell_type": "code",
   "execution_count": 36,
   "id": "64390b86-320f-4fc4-a88a-7b8998f79d00",
   "metadata": {},
   "outputs": [],
   "source": [
    "a = 10\n",
    "c = 2.5"
   ]
  },
  {
   "cell_type": "code",
   "execution_count": 38,
   "id": "03af50bb-df8d-44f8-a10f-8af9507c52b8",
   "metadata": {},
   "outputs": [
    {
     "data": {
      "text/plain": [
       "10"
      ]
     },
     "execution_count": 38,
     "metadata": {},
     "output_type": "execute_result"
    }
   ],
   "source": [
    "a"
   ]
  },
  {
   "cell_type": "code",
   "execution_count": 40,
   "id": "9285fd56-c9b0-45eb-a4bf-b8fcc549627b",
   "metadata": {},
   "outputs": [
    {
     "name": "stdout",
     "output_type": "stream",
     "text": [
      "10\n"
     ]
    }
   ],
   "source": [
    "print(a)"
   ]
  },
  {
   "cell_type": "code",
   "execution_count": 42,
   "id": "74ab48b1-2df5-4310-a54c-a4c470902f11",
   "metadata": {},
   "outputs": [
    {
     "data": {
      "text/plain": [
       "2.5"
      ]
     },
     "execution_count": 42,
     "metadata": {},
     "output_type": "execute_result"
    }
   ],
   "source": [
    "c"
   ]
  },
  {
   "cell_type": "code",
   "execution_count": 44,
   "id": "d17ef92c-9207-460b-985c-0d484b429323",
   "metadata": {},
   "outputs": [
    {
     "name": "stdout",
     "output_type": "stream",
     "text": [
      "2.5\n"
     ]
    }
   ],
   "source": [
    "print(c)"
   ]
  },
  {
   "cell_type": "code",
   "execution_count": 46,
   "id": "e0ff7c44-c417-49d6-9e26-2732e0229093",
   "metadata": {},
   "outputs": [],
   "source": [
    "name = ('rahul','jatin','sachin','rajat')"
   ]
  },
  {
   "cell_type": "code",
   "execution_count": 48,
   "id": "9f0d42d4-5eef-43e9-8518-9f25051d58fa",
   "metadata": {},
   "outputs": [
    {
     "name": "stdout",
     "output_type": "stream",
     "text": [
      "('rahul', 'jatin', 'sachin', 'rajat')\n"
     ]
    }
   ],
   "source": [
    "print(name)"
   ]
  },
  {
   "cell_type": "code",
   "execution_count": 50,
   "id": "49de7107-dec4-4fce-8e4f-7ed9bd9e9d1b",
   "metadata": {},
   "outputs": [],
   "source": [
    "d = ('rahul','jatin','sachin','rajat')"
   ]
  },
  {
   "cell_type": "code",
   "execution_count": 52,
   "id": "ae8199b3-186f-44e4-91b2-e1b095705dff",
   "metadata": {},
   "outputs": [
    {
     "data": {
      "text/plain": [
       "('rahul', 'jatin', 'sachin', 'rajat')"
      ]
     },
     "execution_count": 52,
     "metadata": {},
     "output_type": "execute_result"
    }
   ],
   "source": [
    "d"
   ]
  },
  {
   "cell_type": "code",
   "execution_count": 54,
   "id": "af3ab1dc-f60c-4589-8183-ec6c556a8b86",
   "metadata": {},
   "outputs": [
    {
     "name": "stdout",
     "output_type": "stream",
     "text": [
      "('rahul', 'jatin', 'sachin', 'rajat')\n"
     ]
    }
   ],
   "source": [
    "print(d)"
   ]
  },
  {
   "cell_type": "code",
   "execution_count": 56,
   "id": "4378ce94-7e9e-4cf6-a1a3-30c8916b03f9",
   "metadata": {},
   "outputs": [],
   "source": [
    "v = (\"hello\",\"hii\",\"byee\")"
   ]
  },
  {
   "cell_type": "code",
   "execution_count": 58,
   "id": "caa36546-ccd3-44aa-9232-546e23a8868a",
   "metadata": {},
   "outputs": [
    {
     "name": "stdout",
     "output_type": "stream",
     "text": [
      "('hello', 'hii', 'byee')\n"
     ]
    }
   ],
   "source": [
    "print(v)"
   ]
  },
  {
   "cell_type": "code",
   "execution_count": 60,
   "id": "859bab38-3006-4e12-84ac-35ca8df04812",
   "metadata": {},
   "outputs": [],
   "source": [
    "bag = (\"computer\",\"notebook\",\"pen\",\"pencil\")"
   ]
  },
  {
   "cell_type": "code",
   "execution_count": 62,
   "id": "31c8f116-10ac-4442-bf5e-0bd9533f49fc",
   "metadata": {},
   "outputs": [
    {
     "name": "stdout",
     "output_type": "stream",
     "text": [
      "('computer', 'notebook', 'pen', 'pencil')\n"
     ]
    }
   ],
   "source": [
    "print(bag)"
   ]
  },
  {
   "cell_type": "code",
   "execution_count": 64,
   "id": "07c90f8b-4177-41c6-a934-8d27d240d226",
   "metadata": {},
   "outputs": [],
   "source": [
    "shop = (\"bread\",\"butter\",\"garlic bread\")"
   ]
  },
  {
   "cell_type": "code",
   "execution_count": 66,
   "id": "8b597e04-ae7a-4612-933b-49409d66ba06",
   "metadata": {},
   "outputs": [
    {
     "name": "stdout",
     "output_type": "stream",
     "text": [
      "('bread', 'butter', 'garlic bread')\n"
     ]
    }
   ],
   "source": [
    "print(shop)"
   ]
  },
  {
   "cell_type": "code",
   "execution_count": 68,
   "id": "edeeb83f-9b6f-42a0-8bee-27ce876136cc",
   "metadata": {},
   "outputs": [],
   "source": [
    "jupyter = (\"code\",\"markdown\",\"raw\")"
   ]
  },
  {
   "cell_type": "code",
   "execution_count": 70,
   "id": "014f9e70-1c3c-441d-a750-0196b11bd0e6",
   "metadata": {},
   "outputs": [
    {
     "name": "stdout",
     "output_type": "stream",
     "text": [
      "('code', 'markdown', 'raw')\n"
     ]
    }
   ],
   "source": [
    "print(jupyter)"
   ]
  },
  {
   "cell_type": "code",
   "execution_count": 72,
   "id": "ae2e0270-971f-4d29-90b4-867d7e0d1a33",
   "metadata": {},
   "outputs": [],
   "source": [
    "computer = (\"34\",\"44\",\"54\",\"64\")"
   ]
  },
  {
   "cell_type": "code",
   "execution_count": 74,
   "id": "86a76bc9-95de-42bd-924c-a4c41a8f0872",
   "metadata": {},
   "outputs": [
    {
     "name": "stdout",
     "output_type": "stream",
     "text": [
      "('34', '44', '54', '64')\n"
     ]
    }
   ],
   "source": [
    "print(computer)"
   ]
  },
  {
   "cell_type": "code",
   "execution_count": 76,
   "id": "58b74720-ae9f-4b4a-b4c6-30e57d43293c",
   "metadata": {},
   "outputs": [],
   "source": [
    "a = 10\n"
   ]
  },
  {
   "cell_type": "code",
   "execution_count": 78,
   "id": "4ddc7f86-4a6a-4ea0-a9d9-29e53d38635e",
   "metadata": {},
   "outputs": [],
   "source": [
    "a = b"
   ]
  },
  {
   "cell_type": "code",
   "execution_count": 80,
   "id": "6b79d835-85d2-49bc-83bf-1ea407e48e37",
   "metadata": {},
   "outputs": [
    {
     "data": {
      "text/plain": [
       "20"
      ]
     },
     "execution_count": 80,
     "metadata": {},
     "output_type": "execute_result"
    }
   ],
   "source": [
    "b"
   ]
  },
  {
   "cell_type": "code",
   "execution_count": 82,
   "id": "a726aaa1-5d24-4bf6-8319-55fed2f46251",
   "metadata": {},
   "outputs": [],
   "source": [
    "shop = (\"clothes\",\"garments\",\"belts\",\"purse\",\"shoes\")"
   ]
  },
  {
   "cell_type": "code",
   "execution_count": 84,
   "id": "c96c93de-fb07-429e-8d78-990dc994c018",
   "metadata": {},
   "outputs": [
    {
     "name": "stdout",
     "output_type": "stream",
     "text": [
      "('clothes', 'garments', 'belts', 'purse', 'shoes')\n"
     ]
    }
   ],
   "source": [
    "print(shop)"
   ]
  },
  {
   "cell_type": "code",
   "execution_count": null,
   "id": "9223ad18-8900-4fb3-8577-b8a42b811cdb",
   "metadata": {},
   "outputs": [],
   "source": []
  }
 ],
 "metadata": {
  "kernelspec": {
   "display_name": "Python [conda env:base] *",
   "language": "python",
   "name": "conda-base-py"
  },
  "language_info": {
   "codemirror_mode": {
    "name": "ipython",
    "version": 3
   },
   "file_extension": ".py",
   "mimetype": "text/x-python",
   "name": "python",
   "nbconvert_exporter": "python",
   "pygments_lexer": "ipython3",
   "version": "3.12.7"
  }
 },
 "nbformat": 4,
 "nbformat_minor": 5
}
