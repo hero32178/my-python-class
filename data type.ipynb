{
 "cells": [
  {
   "cell_type": "markdown",
   "id": "e48919d9-dadb-4389-b42d-c6517efe39e0",
   "metadata": {},
   "source": [
    "Data type"
   ]
  },
  {
   "cell_type": "code",
   "execution_count": 2,
   "id": "6b369dba-e654-460c-b98d-c284d5a01ef6",
   "metadata": {},
   "outputs": [
    {
     "data": {
      "text/plain": [
       "10"
      ]
     },
     "execution_count": 2,
     "metadata": {},
     "output_type": "execute_result"
    }
   ],
   "source": [
    "#int\n",
    "int(10)"
   ]
  },
  {
   "cell_type": "code",
   "execution_count": 4,
   "id": "e7d1be92-1b8a-4e4a-ad49-0f5a6322e614",
   "metadata": {},
   "outputs": [
    {
     "data": {
      "text/plain": [
       "2"
      ]
     },
     "execution_count": 4,
     "metadata": {},
     "output_type": "execute_result"
    }
   ],
   "source": [
    "int(2.5)"
   ]
  },
  {
   "cell_type": "code",
   "execution_count": 6,
   "id": "51b30a5f-f0dc-43c2-a228-1c8ec8a67446",
   "metadata": {},
   "outputs": [
    {
     "data": {
      "text/plain": [
       "10.0"
      ]
     },
     "execution_count": 6,
     "metadata": {},
     "output_type": "execute_result"
    }
   ],
   "source": [
    "float(10)"
   ]
  },
  {
   "cell_type": "code",
   "execution_count": 8,
   "id": "6e7a1d26-fd97-4feb-bcbb-dc3409ce4a23",
   "metadata": {},
   "outputs": [
    {
     "data": {
      "text/plain": [
       "(2+0j)"
      ]
     },
     "execution_count": 8,
     "metadata": {},
     "output_type": "execute_result"
    }
   ],
   "source": [
    "complex(2)"
   ]
  },
  {
   "cell_type": "code",
   "execution_count": 10,
   "id": "973b372d-81ff-47ba-b186-f571627f1168",
   "metadata": {},
   "outputs": [
    {
     "data": {
      "text/plain": [
       "True"
      ]
     },
     "execution_count": 10,
     "metadata": {},
     "output_type": "execute_result"
    }
   ],
   "source": [
    "bool(1)"
   ]
  },
  {
   "cell_type": "code",
   "execution_count": 12,
   "id": "28394c36-756b-4f12-b1da-aed9b581c77f",
   "metadata": {},
   "outputs": [
    {
     "data": {
      "text/plain": [
       "False"
      ]
     },
     "execution_count": 12,
     "metadata": {},
     "output_type": "execute_result"
    }
   ],
   "source": [
    "bool(0)"
   ]
  },
  {
   "cell_type": "code",
   "execution_count": 14,
   "id": "355e6f96-9aa0-403c-9494-b032943a9c51",
   "metadata": {},
   "outputs": [],
   "source": [
    "#container\n",
    "list = [1,2,3]"
   ]
  },
  {
   "cell_type": "code",
   "execution_count": 16,
   "id": "8f567d45-e453-4113-a554-eda9adc26d33",
   "metadata": {},
   "outputs": [
    {
     "data": {
      "text/plain": [
       "[1, 2, 3]"
      ]
     },
     "execution_count": 16,
     "metadata": {},
     "output_type": "execute_result"
    }
   ],
   "source": [
    "list"
   ]
  },
  {
   "cell_type": "code",
   "execution_count": 20,
   "id": "4d2d2dbb-e207-4286-95b5-871dea6f55b1",
   "metadata": {},
   "outputs": [],
   "source": [
    "a = (1,2,3)"
   ]
  },
  {
   "cell_type": "code",
   "execution_count": 22,
   "id": "0165a6ab-9010-4365-aa09-52a8e2f66384",
   "metadata": {},
   "outputs": [
    {
     "data": {
      "text/plain": [
       "(1, 2, 3)"
      ]
     },
     "execution_count": 22,
     "metadata": {},
     "output_type": "execute_result"
    }
   ],
   "source": [
    "a"
   ]
  },
  {
   "cell_type": "code",
   "execution_count": 24,
   "id": "cc7b912c-5570-4345-8974-ea55345ffd94",
   "metadata": {},
   "outputs": [],
   "source": [
    "s = {1,2,3,}"
   ]
  },
  {
   "cell_type": "code",
   "execution_count": 26,
   "id": "7ff5c140-ebfd-4b1b-827c-cb966cfa69eb",
   "metadata": {},
   "outputs": [
    {
     "data": {
      "text/plain": [
       "{1, 2, 3}"
      ]
     },
     "execution_count": 26,
     "metadata": {},
     "output_type": "execute_result"
    }
   ],
   "source": [
    "s"
   ]
  },
  {
   "cell_type": "code",
   "execution_count": 28,
   "id": "8344d2f8-ee13-4b9d-aa74-ddd64690c3d4",
   "metadata": {},
   "outputs": [],
   "source": [
    "dict = {'name':\"vishesh\"}"
   ]
  },
  {
   "cell_type": "code",
   "execution_count": 30,
   "id": "fc7c49d6-9ebb-480f-927c-0877ae27955c",
   "metadata": {},
   "outputs": [
    {
     "data": {
      "text/plain": [
       "{'name': 'vishesh'}"
      ]
     },
     "execution_count": 30,
     "metadata": {},
     "output_type": "execute_result"
    }
   ],
   "source": [
    "dict"
   ]
  },
  {
   "cell_type": "markdown",
   "id": "905b3e16-9476-4741-b242-0d19b41df64a",
   "metadata": {},
   "source": [
    "                    Python Data Types Categories"
   ]
  },
  {
   "cell_type": "raw",
   "id": "c2beac6e-d7ec-4832-985b-8b6f5e353e9c",
   "metadata": {},
   "source": [
    "Basic Types:\n",
    "Int: Whole nums (1, 2, 3).\n",
    "Float: Decimals (3.14, 2.5).\n",
    "Complex: Real+Imag (1 + 2j).\n",
    "Bool: True/False.\n",
    "Str: Text (\"hello\")."
   ]
  },
  {
   "cell_type": "raw",
   "id": "cdaa904a-ebc2-4907-bbce-ec0d9a29221e",
   "metadata": {},
   "source": [
    "Container Types:\n",
    "List: Ordered items.\n",
    "[1, 2, 3]\n",
    "Tuple: Ordered, immutable.\n",
    "(1, 2, 3)\n",
    "Set: Unordered, unique.\n",
    "{1, 2, 3}\n",
    "Dict: Key-value pairs.\n",
    "{'k1': 'v1', 'k2': 'v2'}"
   ]
  },
  {
   "cell_type": "code",
   "execution_count": 35,
   "id": "e7b1a8e8-d3ec-4c51-b9ad-0dc6d1809044",
   "metadata": {},
   "outputs": [
    {
     "data": {
      "text/plain": [
       "int"
      ]
     },
     "execution_count": 35,
     "metadata": {},
     "output_type": "execute_result"
    }
   ],
   "source": [
    "int"
   ]
  },
  {
   "cell_type": "code",
   "execution_count": 37,
   "id": "b86d9a2a-5cc6-4bd8-b485-ff6b68daaf7b",
   "metadata": {},
   "outputs": [
    {
     "data": {
      "text/plain": [
       "4"
      ]
     },
     "execution_count": 37,
     "metadata": {},
     "output_type": "execute_result"
    }
   ],
   "source": [
    "int(4)#whole number"
   ]
  },
  {
   "cell_type": "code",
   "execution_count": 39,
   "id": "a6d38095-425d-49d1-8cfa-c3fd68a58570",
   "metadata": {},
   "outputs": [
    {
     "data": {
      "text/plain": [
       "74"
      ]
     },
     "execution_count": 39,
     "metadata": {},
     "output_type": "execute_result"
    }
   ],
   "source": [
    "int(74.5)"
   ]
  },
  {
   "cell_type": "code",
   "execution_count": 41,
   "id": "c4942cbd-87d5-450e-b5b6-940eb8d1f4dd",
   "metadata": {},
   "outputs": [
    {
     "data": {
      "text/plain": [
       "4.0"
      ]
     },
     "execution_count": 41,
     "metadata": {},
     "output_type": "execute_result"
    }
   ],
   "source": [
    "float(4)#decimal number"
   ]
  },
  {
   "cell_type": "code",
   "execution_count": 43,
   "id": "8daae3df-399e-4b86-b32f-c683b0a77b1a",
   "metadata": {},
   "outputs": [
    {
     "data": {
      "text/plain": [
       "float"
      ]
     },
     "execution_count": 43,
     "metadata": {},
     "output_type": "execute_result"
    }
   ],
   "source": [
    "type(5.5)"
   ]
  },
  {
   "cell_type": "code",
   "execution_count": 45,
   "id": "f47251ba-c211-42dd-8b5b-fe4238ea2e70",
   "metadata": {},
   "outputs": [
    {
     "data": {
      "text/plain": [
       "int"
      ]
     },
     "execution_count": 45,
     "metadata": {},
     "output_type": "execute_result"
    }
   ],
   "source": [
    "type(1)"
   ]
  },
  {
   "cell_type": "code",
   "execution_count": 47,
   "id": "2f6e2987-416a-4121-8e8c-3edda5a517c1",
   "metadata": {},
   "outputs": [
    {
     "data": {
      "text/plain": [
       "(5+0j)"
      ]
     },
     "execution_count": 47,
     "metadata": {},
     "output_type": "execute_result"
    }
   ],
   "source": [
    "complex(5)#comlex number"
   ]
  },
  {
   "cell_type": "code",
   "execution_count": 49,
   "id": "59ca1a76-df5a-4440-a3db-d1ea80c63697",
   "metadata": {},
   "outputs": [
    {
     "data": {
      "text/plain": [
       "complex"
      ]
     },
     "execution_count": 49,
     "metadata": {},
     "output_type": "execute_result"
    }
   ],
   "source": [
    "type(5+0j)"
   ]
  },
  {
   "cell_type": "code",
   "execution_count": 51,
   "id": "39a5dedb-09c5-4311-9811-b26b0ace2aee",
   "metadata": {},
   "outputs": [
    {
     "data": {
      "text/plain": [
       "55"
      ]
     },
     "execution_count": 51,
     "metadata": {},
     "output_type": "execute_result"
    }
   ],
   "source": [
    "int(55.5)"
   ]
  },
  {
   "cell_type": "code",
   "execution_count": 55,
   "id": "4c0ab55b-b909-4a98-bf05-12267ac3e64d",
   "metadata": {},
   "outputs": [
    {
     "data": {
      "text/plain": [
       "55"
      ]
     },
     "execution_count": 55,
     "metadata": {},
     "output_type": "execute_result"
    }
   ],
   "source": [
    "int(55.5)#decimal number"
   ]
  },
  {
   "cell_type": "code",
   "execution_count": 57,
   "id": "0e3b1e71-3fc9-4a66-80d5-befc708606e7",
   "metadata": {},
   "outputs": [
    {
     "data": {
      "text/plain": [
       "9.0"
      ]
     },
     "execution_count": 57,
     "metadata": {},
     "output_type": "execute_result"
    }
   ],
   "source": [
    "float(9)#whole number"
   ]
  },
  {
   "cell_type": "code",
   "execution_count": 59,
   "id": "4e87dc99-1339-4adf-809f-ffe67f34bf8d",
   "metadata": {},
   "outputs": [
    {
     "data": {
      "text/plain": [
       "(44+0j)"
      ]
     },
     "execution_count": 59,
     "metadata": {},
     "output_type": "execute_result"
    }
   ],
   "source": [
    "complex(44)#decimal number"
   ]
  },
  {
   "cell_type": "code",
   "execution_count": 74,
   "id": "df9ec68f-963f-4457-8c31-130c6e201604",
   "metadata": {},
   "outputs": [
    {
     "data": {
      "text/plain": [
       "(33+90j)"
      ]
     },
     "execution_count": 74,
     "metadata": {},
     "output_type": "execute_result"
    }
   ],
   "source": [
    "complex(33,90)#decimalnumber"
   ]
  },
  {
   "cell_type": "code",
   "execution_count": 76,
   "id": "2a2a65d4-3415-4395-84c8-c0127a83249f",
   "metadata": {},
   "outputs": [
    {
     "data": {
      "text/plain": [
       "int"
      ]
     },
     "execution_count": 76,
     "metadata": {},
     "output_type": "execute_result"
    }
   ],
   "source": [
    "type(660)#complex number"
   ]
  },
  {
   "cell_type": "code",
   "execution_count": 78,
   "id": "a2f547bc-171e-4658-b41f-42265c55cc14",
   "metadata": {},
   "outputs": [
    {
     "data": {
      "text/plain": [
       "float"
      ]
     },
     "execution_count": 78,
     "metadata": {},
     "output_type": "execute_result"
    }
   ],
   "source": [
    "type(66.66)#decimal number"
   ]
  },
  {
   "cell_type": "code",
   "execution_count": 82,
   "id": "d41508ef-391f-4352-808e-7febfd8e14aa",
   "metadata": {},
   "outputs": [
    {
     "data": {
      "text/plain": [
       "int"
      ]
     },
     "execution_count": 82,
     "metadata": {},
     "output_type": "execute_result"
    }
   ],
   "source": [
    "type(43)#whole number"
   ]
  },
  {
   "cell_type": "code",
   "execution_count": 90,
   "id": "c296c7a9-7d04-42c8-a3c8-0429010cb5a0",
   "metadata": {},
   "outputs": [
    {
     "data": {
      "text/plain": [
       "2100000.0"
      ]
     },
     "execution_count": 90,
     "metadata": {},
     "output_type": "execute_result"
    }
   ],
   "source": [
    "float (2100000)#decimal number"
   ]
  },
  {
   "cell_type": "code",
   "execution_count": 94,
   "id": "5ca64dc7-657b-4a2a-b613-9feef4319371",
   "metadata": {},
   "outputs": [
    {
     "data": {
      "text/plain": [
       "(3121+0j)"
      ]
     },
     "execution_count": 94,
     "metadata": {},
     "output_type": "execute_result"
    }
   ],
   "source": [
    "complex(3121)#decimal number"
   ]
  },
  {
   "cell_type": "code",
   "execution_count": 96,
   "id": "f106268c-1d8c-4399-b0a5-cae62964e3f5",
   "metadata": {},
   "outputs": [
    {
     "data": {
      "text/plain": [
       "3121.3121"
      ]
     },
     "execution_count": 96,
     "metadata": {},
     "output_type": "execute_result"
    }
   ],
   "source": [
    "float(3121.3121)#decimal number"
   ]
  },
  {
   "cell_type": "code",
   "execution_count": 98,
   "id": "b13d7dab-b692-4f80-a7b9-dd82f3fc88d5",
   "metadata": {},
   "outputs": [],
   "source": [
    "a = 10"
   ]
  },
  {
   "cell_type": "code",
   "execution_count": 100,
   "id": "f2e5e7cb-f423-491b-af52-8cf481d1c294",
   "metadata": {},
   "outputs": [
    {
     "data": {
      "text/plain": [
       "10"
      ]
     },
     "execution_count": 100,
     "metadata": {},
     "output_type": "execute_result"
    }
   ],
   "source": [
    "a"
   ]
  },
  {
   "cell_type": "code",
   "execution_count": 102,
   "id": "3d096efe-14f6-4453-b6cd-537afe0f932f",
   "metadata": {},
   "outputs": [
    {
     "data": {
      "text/plain": [
       "int"
      ]
     },
     "execution_count": 102,
     "metadata": {},
     "output_type": "execute_result"
    }
   ],
   "source": [
    "type(a)"
   ]
  },
  {
   "cell_type": "code",
   "execution_count": 104,
   "id": "59b3b389-a3cc-4c34-b8bb-23a78d1a55a8",
   "metadata": {},
   "outputs": [
    {
     "data": {
      "text/plain": [
       "12"
      ]
     },
     "execution_count": 104,
     "metadata": {},
     "output_type": "execute_result"
    }
   ],
   "source": [
    "int(12)"
   ]
  },
  {
   "cell_type": "code",
   "execution_count": 106,
   "id": "0d68b74e-d4cd-4044-8ed1-bf6501fbd449",
   "metadata": {},
   "outputs": [],
   "source": [
    "a = int(10)"
   ]
  },
  {
   "cell_type": "code",
   "execution_count": 108,
   "id": "1446ed89-b679-453b-aa7e-9e59a987e1d5",
   "metadata": {},
   "outputs": [
    {
     "data": {
      "text/plain": [
       "10"
      ]
     },
     "execution_count": 108,
     "metadata": {},
     "output_type": "execute_result"
    }
   ],
   "source": [
    "a"
   ]
  },
  {
   "cell_type": "code",
   "execution_count": 110,
   "id": "5a6b6ecf-5e99-4b64-9264-9282c11f35d6",
   "metadata": {},
   "outputs": [
    {
     "data": {
      "text/plain": [
       "21"
      ]
     },
     "execution_count": 110,
     "metadata": {},
     "output_type": "execute_result"
    }
   ],
   "source": [
    "int(21)"
   ]
  },
  {
   "cell_type": "code",
   "execution_count": 112,
   "id": "22958018-6606-418d-bde0-2ee09197791c",
   "metadata": {},
   "outputs": [],
   "source": [
    "a = int(44)"
   ]
  },
  {
   "cell_type": "code",
   "execution_count": 116,
   "id": "044ef8ee-2350-4513-9007-46f4774d15c3",
   "metadata": {},
   "outputs": [
    {
     "data": {
      "text/plain": [
       "44"
      ]
     },
     "execution_count": 116,
     "metadata": {},
     "output_type": "execute_result"
    }
   ],
   "source": [
    "a"
   ]
  },
  {
   "cell_type": "code",
   "execution_count": 127,
   "id": "59ed3a92-e5a2-4327-9ac0-9df0810ec164",
   "metadata": {},
   "outputs": [],
   "source": [
    "a = int(22)"
   ]
  },
  {
   "cell_type": "code",
   "execution_count": 131,
   "id": "55420c32-328b-4d8f-9659-c83d6acae3dd",
   "metadata": {},
   "outputs": [
    {
     "data": {
      "text/plain": [
       "22"
      ]
     },
     "execution_count": 131,
     "metadata": {},
     "output_type": "execute_result"
    }
   ],
   "source": [
    "a"
   ]
  },
  {
   "cell_type": "code",
   "execution_count": 133,
   "id": "89edb474-cd93-49d0-b455-3166443d007a",
   "metadata": {},
   "outputs": [],
   "source": [
    "b = int(450)"
   ]
  },
  {
   "cell_type": "code",
   "execution_count": 135,
   "id": "c16c8449-673c-4a11-8c11-3f9c557a76b0",
   "metadata": {},
   "outputs": [
    {
     "data": {
      "text/plain": [
       "450"
      ]
     },
     "execution_count": 135,
     "metadata": {},
     "output_type": "execute_result"
    }
   ],
   "source": [
    "b"
   ]
  },
  {
   "cell_type": "code",
   "execution_count": 137,
   "id": "7884c55c-700a-463d-a2d2-8e5cd2a4ccc4",
   "metadata": {},
   "outputs": [],
   "source": [
    "cc = int(33450)"
   ]
  },
  {
   "cell_type": "code",
   "execution_count": 139,
   "id": "d23fd529-1902-4773-96a0-c856eb311630",
   "metadata": {},
   "outputs": [
    {
     "data": {
      "text/plain": [
       "33450"
      ]
     },
     "execution_count": 139,
     "metadata": {},
     "output_type": "execute_result"
    }
   ],
   "source": [
    "cc"
   ]
  },
  {
   "cell_type": "code",
   "execution_count": 141,
   "id": "979fb39f-6ad1-4af7-bd7b-ca728d65600e",
   "metadata": {},
   "outputs": [],
   "source": [
    "values = int(44.440)"
   ]
  },
  {
   "cell_type": "code",
   "execution_count": 143,
   "id": "d9d96bc4-b5d6-4acc-bfb0-b42f234ce962",
   "metadata": {},
   "outputs": [
    {
     "data": {
      "text/plain": [
       "44"
      ]
     },
     "execution_count": 143,
     "metadata": {},
     "output_type": "execute_result"
    }
   ],
   "source": [
    "values"
   ]
  },
  {
   "cell_type": "code",
   "execution_count": 161,
   "id": "9dd8624b-049b-4beb-842e-80e729a5a888",
   "metadata": {},
   "outputs": [],
   "source": [
    "fire = int(32_42)"
   ]
  },
  {
   "cell_type": "code",
   "execution_count": 157,
   "id": "f078ecb3-f2fb-405e-b7d0-1d8ad6ef1bce",
   "metadata": {},
   "outputs": [
    {
     "data": {
      "text/plain": [
       "3242"
      ]
     },
     "execution_count": 157,
     "metadata": {},
     "output_type": "execute_result"
    }
   ],
   "source": [
    "fire"
   ]
  },
  {
   "cell_type": "code",
   "execution_count": 173,
   "id": "1e54b0df-5e2e-4f2a-888b-5950d235b58d",
   "metadata": {},
   "outputs": [],
   "source": [
    "ice2 = (434)"
   ]
  },
  {
   "cell_type": "code",
   "execution_count": 175,
   "id": "23aa9500-8fc4-41b4-acf3-a5a96c1463fe",
   "metadata": {},
   "outputs": [
    {
     "data": {
      "text/plain": [
       "434"
      ]
     },
     "execution_count": 175,
     "metadata": {},
     "output_type": "execute_result"
    }
   ],
   "source": [
    "ice2"
   ]
  },
  {
   "cell_type": "code",
   "execution_count": 177,
   "id": "1a900bb1-e3b2-4b81-9022-287798d722c3",
   "metadata": {},
   "outputs": [],
   "source": [
    "wall2131 = (2134)\n"
   ]
  },
  {
   "cell_type": "code",
   "execution_count": 179,
   "id": "b949265e-693e-4d34-b727-a59d29f9b5f9",
   "metadata": {},
   "outputs": [
    {
     "data": {
      "text/plain": [
       "2134"
      ]
     },
     "execution_count": 179,
     "metadata": {},
     "output_type": "execute_result"
    }
   ],
   "source": [
    "wall2131"
   ]
  },
  {
   "cell_type": "code",
   "execution_count": 181,
   "id": "3f59f0e7-2363-499e-b673-7c658d0e3a53",
   "metadata": {},
   "outputs": [],
   "source": [
    "ps4 = int(8756)"
   ]
  },
  {
   "cell_type": "markdown",
   "id": "fa2027f0-c415-4c86-9b1d-1209336e29b8",
   "metadata": {},
   "source": [
    "#### "
   ]
  },
  {
   "cell_type": "code",
   "execution_count": 184,
   "id": "7259302c-520c-4f53-8efb-9c2da35ed052",
   "metadata": {},
   "outputs": [
    {
     "data": {
      "text/plain": [
       "8756"
      ]
     },
     "execution_count": 184,
     "metadata": {},
     "output_type": "execute_result"
    }
   ],
   "source": [
    "ps4"
   ]
  },
  {
   "cell_type": "code",
   "execution_count": 203,
   "id": "042ded3f-6235-48a0-a045-a933803aa8c8",
   "metadata": {},
   "outputs": [],
   "source": [
    "v = (5454)"
   ]
  },
  {
   "cell_type": "code",
   "execution_count": 205,
   "id": "d9134035-6072-401e-8dda-a0e8ca250096",
   "metadata": {},
   "outputs": [
    {
     "data": {
      "text/plain": [
       "5454"
      ]
     },
     "execution_count": 205,
     "metadata": {},
     "output_type": "execute_result"
    }
   ],
   "source": [
    " v"
   ]
  },
  {
   "cell_type": "code",
   "execution_count": 207,
   "id": "b15c3ede-e3f5-4162-8edb-580e1d50eea5",
   "metadata": {},
   "outputs": [],
   "source": [
    "Hii = int(3789)"
   ]
  },
  {
   "cell_type": "code",
   "execution_count": 211,
   "id": "267d8132-3b5b-4606-98a8-d4ade5ae5da2",
   "metadata": {},
   "outputs": [
    {
     "data": {
      "text/plain": [
       "3789"
      ]
     },
     "execution_count": 211,
     "metadata": {},
     "output_type": "execute_result"
    }
   ],
   "source": [
    "Hii"
   ]
  },
  {
   "cell_type": "code",
   "execution_count": null,
   "id": "2cc68518-2642-4546-9fc2-95f0a92a28c1",
   "metadata": {},
   "outputs": [],
   "source": []
  }
 ],
 "metadata": {
  "kernelspec": {
   "display_name": "Python [conda env:base] *",
   "language": "python",
   "name": "conda-base-py"
  },
  "language_info": {
   "codemirror_mode": {
    "name": "ipython",
    "version": 3
   },
   "file_extension": ".py",
   "mimetype": "text/x-python",
   "name": "python",
   "nbconvert_exporter": "python",
   "pygments_lexer": "ipython3",
   "version": "3.12.7"
  }
 },
 "nbformat": 4,
 "nbformat_minor": 5
}
