{
 "cells": [
  {
   "cell_type": "markdown",
   "id": "8e4fb644-a8e3-4cf2-88fc-28f8342d9ee1",
   "metadata": {},
   "source": [
    "Revession [print function] first"
   ]
  },
  {
   "cell_type": "code",
   "execution_count": 2,
   "id": "51f98cd8-7aab-4033-9583-600b743107b9",
   "metadata": {},
   "outputs": [
    {
     "name": "stdout",
     "output_type": "stream",
     "text": [
      "\n"
     ]
    }
   ],
   "source": [
    "print()"
   ]
  },
  {
   "cell_type": "code",
   "execution_count": 8,
   "id": "6a2dfb08-259e-4c5a-bba7-0e65335298f3",
   "metadata": {},
   "outputs": [
    {
     "name": "stdout",
     "output_type": "stream",
     "text": [
      "financial services\n"
     ]
    }
   ],
   "source": [
    "print (\"financial services\")"
   ]
  },
  {
   "cell_type": "code",
   "execution_count": 14,
   "id": "2583664f-d335-4d6c-8996-a248f42fabbd",
   "metadata": {},
   "outputs": [
    {
     "name": "stdout",
     "output_type": "stream",
     "text": [
      "cars bikes trucks number of cars=10 bikes=30 trucks=50\n"
     ]
    }
   ],
   "source": [
    "print ( \"cars\",\"bikes\",\"trucks\",\"number of cars=10\",\"bikes=30\",\"trucks=50\")"
   ]
  },
  {
   "cell_type": "code",
   "execution_count": 16,
   "id": "58a011c2-45c4-42be-b51c-044b6dc4abff",
   "metadata": {},
   "outputs": [
    {
     "name": "stdout",
     "output_type": "stream",
     "text": [
      "my name is vishesh i am 18 yrs old i love to play sports my fav sport is badminton and football\n"
     ]
    }
   ],
   "source": [
    "print (\"my name is vishesh\",\"i am 18 yrs old\",\"i love to play sports my fav sport is badminton and football\")"
   ]
  },
  {
   "cell_type": "code",
   "execution_count": 25,
   "id": "2c1d6be9-0947-4e85-9291-55f417bf571b",
   "metadata": {},
   "outputs": [
    {
     "name": "stdout",
     "output_type": "stream",
     "text": [
      "2200 books 3300pens 4400pencils total  number of items=99,000\n"
     ]
    }
   ],
   "source": [
    "print (\"2200 books\",\"3300pens\",\"4400pencils\",\n",
    "       \"total  number of items=99,000\")"
   ]
  },
  {
   "cell_type": "code",
   "execution_count": 29,
   "id": "fd4da4bd-bb1e-497d-920b-ce8eaea10922",
   "metadata": {},
   "outputs": [
    {
     "name": "stdout",
     "output_type": "stream",
     "text": [
      "i have owned a company of carsaudi,BMW,jaguar,TATA\n"
     ]
    }
   ],
   "source": [
    "print (\"i have owned a company of cars\" \n",
    "       \"audi,BMW,jaguar,TATA\")"
   ]
  },
  {
   "cell_type": "code",
   "execution_count": 54,
   "id": "2c16a2d6-3107-409f-aef2-acf00d76e5e3",
   "metadata": {},
   "outputs": [
    {
     "name": "stdout",
     "output_type": "stream",
     "text": [
      "number of games are [GTA 5 valorant call of duty]\n"
     ]
    }
   ],
   "source": [
    "print (\"number of games are [GTA 5\",\"valorant\",\"call of duty]\")"
   ]
  },
  {
   "cell_type": "markdown",
   "id": "1e3b7d07-2696-4e39-a90d-3f6b3b197ad9",
   "metadata": {},
   "source": [
    "Revission (Data Type)"
   ]
  },
  {
   "cell_type": "markdown",
   "id": "5faa02a9-f387-4ded-a144-77861c2cebd1",
   "metadata": {},
   "source": [
    "first"
   ]
  },
  {
   "cell_type": "code",
   "execution_count": null,
   "id": "5e0a2d80-bc25-40cc-9d8f-976dad37ac61",
   "metadata": {},
   "outputs": [],
   "source": [
    "#int\n",
    "int(10)"
   ]
  },
  {
   "cell_type": "code",
   "execution_count": 61,
   "id": "555eb9d2-b609-4bb1-9ced-c1dc0312ee8b",
   "metadata": {},
   "outputs": [
    {
     "data": {
      "text/plain": [
       "2"
      ]
     },
     "execution_count": 61,
     "metadata": {},
     "output_type": "execute_result"
    }
   ],
   "source": [
    "int(2.5)"
   ]
  },
  {
   "cell_type": "code",
   "execution_count": 63,
   "id": "74f5cad8-fdb6-4cac-a3fc-f497819f55a9",
   "metadata": {},
   "outputs": [
    {
     "data": {
      "text/plain": [
       "10.0"
      ]
     },
     "execution_count": 63,
     "metadata": {},
     "output_type": "execute_result"
    }
   ],
   "source": [
    "float(10)"
   ]
  },
  {
   "cell_type": "code",
   "execution_count": 65,
   "id": "bdf35cdb-098b-4ea4-b76b-ac049a499fc2",
   "metadata": {},
   "outputs": [
    {
     "data": {
      "text/plain": [
       "(12+0j)"
      ]
     },
     "execution_count": 65,
     "metadata": {},
     "output_type": "execute_result"
    }
   ],
   "source": [
    "complex(12)"
   ]
  },
  {
   "cell_type": "code",
   "execution_count": 76,
   "id": "aa16f2e0-d7d1-4c4a-adf5-c6234f6e9bea",
   "metadata": {},
   "outputs": [
    {
     "data": {
      "text/plain": [
       "True"
      ]
     },
     "execution_count": 76,
     "metadata": {},
     "output_type": "execute_result"
    }
   ],
   "source": [
    "bool(7)"
   ]
  },
  {
   "cell_type": "code",
   "execution_count": 86,
   "id": "f5d3250d-b91c-4bd5-a062-c76880725556",
   "metadata": {},
   "outputs": [
    {
     "data": {
      "text/plain": [
       "False"
      ]
     },
     "execution_count": 86,
     "metadata": {},
     "output_type": "execute_result"
    }
   ],
   "source": [
    "bool(-0)"
   ]
  },
  {
   "cell_type": "code",
   "execution_count": 88,
   "id": "a4b842b4-d7ee-4c20-a5cd-d08cb12ee869",
   "metadata": {},
   "outputs": [],
   "source": [
    "#container\n",
    "list= [3,5,9]"
   ]
  },
  {
   "cell_type": "code",
   "execution_count": 90,
   "id": "93516a7c-0dfb-4518-ac5c-8130fd941f12",
   "metadata": {},
   "outputs": [
    {
     "data": {
      "text/plain": [
       "[3, 5, 9]"
      ]
     },
     "execution_count": 90,
     "metadata": {},
     "output_type": "execute_result"
    }
   ],
   "source": [
    "list"
   ]
  },
  {
   "cell_type": "code",
   "execution_count": 94,
   "id": "8675f77f-fbe6-44e2-adea-abbf406ade46",
   "metadata": {},
   "outputs": [],
   "source": [
    "name =(\"vishesh\" , \"sangwan\") "
   ]
  },
  {
   "cell_type": "code",
   "execution_count": 96,
   "id": "8dd6691e-5438-46b7-9e48-e50449558d90",
   "metadata": {},
   "outputs": [
    {
     "data": {
      "text/plain": [
       "('vishesh', 'sangwan')"
      ]
     },
     "execution_count": 96,
     "metadata": {},
     "output_type": "execute_result"
    }
   ],
   "source": [
    "name"
   ]
  },
  {
   "cell_type": "markdown",
   "id": "46674084-aab2-4603-aa43-708a0a7cc823",
   "metadata": {},
   "source": [
    "Revission (Variables) first"
   ]
  },
  {
   "cell_type": "code",
   "execution_count": 106,
   "id": "7ded8275-4a5d-4214-a3ab-b44efa231319",
   "metadata": {},
   "outputs": [],
   "source": [
    "a= 10"
   ]
  },
  {
   "cell_type": "code",
   "execution_count": 108,
   "id": "147d1870-ae5c-4990-9f9e-9090dd415ef1",
   "metadata": {},
   "outputs": [
    {
     "data": {
      "text/plain": [
       "10"
      ]
     },
     "execution_count": 108,
     "metadata": {},
     "output_type": "execute_result"
    }
   ],
   "source": [
    "a"
   ]
  },
  {
   "cell_type": "code",
   "execution_count": 110,
   "id": "eeb212d4-c8b5-4253-9d4e-b2d267f25b29",
   "metadata": {},
   "outputs": [
    {
     "name": "stdout",
     "output_type": "stream",
     "text": [
      "10\n"
     ]
    }
   ],
   "source": [
    "print(a)"
   ]
  },
  {
   "cell_type": "code",
   "execution_count": 112,
   "id": "caabb738-cb46-421e-9ecf-ae59f4a98d52",
   "metadata": {},
   "outputs": [],
   "source": [
    "b= 40"
   ]
  },
  {
   "cell_type": "code",
   "execution_count": 114,
   "id": "e210203f-435b-4b4a-904e-777748d552c5",
   "metadata": {},
   "outputs": [
    {
     "data": {
      "text/plain": [
       "40"
      ]
     },
     "execution_count": 114,
     "metadata": {},
     "output_type": "execute_result"
    }
   ],
   "source": [
    "b"
   ]
  },
  {
   "cell_type": "code",
   "execution_count": 116,
   "id": "22da8b0f-25e8-4b76-b286-be42f074ead8",
   "metadata": {},
   "outputs": [
    {
     "name": "stdout",
     "output_type": "stream",
     "text": [
      "40\n"
     ]
    }
   ],
   "source": [
    "print(b)"
   ]
  },
  {
   "cell_type": "code",
   "execution_count": 118,
   "id": "83cd8180-593c-49f2-912f-a6697c98d3ef",
   "metadata": {},
   "outputs": [],
   "source": [
    "v =500"
   ]
  },
  {
   "cell_type": "code",
   "execution_count": 120,
   "id": "1c9fb756-2040-4637-ba70-d40e10f89af2",
   "metadata": {},
   "outputs": [
    {
     "data": {
      "text/plain": [
       "500"
      ]
     },
     "execution_count": 120,
     "metadata": {},
     "output_type": "execute_result"
    }
   ],
   "source": [
    "v"
   ]
  },
  {
   "cell_type": "code",
   "execution_count": 122,
   "id": "8c085d89-9d58-4bea-b794-0c523249e848",
   "metadata": {},
   "outputs": [
    {
     "name": "stdout",
     "output_type": "stream",
     "text": [
      "500\n"
     ]
    }
   ],
   "source": [
    "print(v)"
   ]
  },
  {
   "cell_type": "code",
   "execution_count": 124,
   "id": "472656f3-f941-482b-adba-cb20eefff22e",
   "metadata": {},
   "outputs": [],
   "source": [
    "my_company_name= 5500"
   ]
  },
  {
   "cell_type": "code",
   "execution_count": 126,
   "id": "27d16a12-8c08-43d7-a06b-0e2c1048cdf5",
   "metadata": {},
   "outputs": [
    {
     "data": {
      "text/plain": [
       "5500"
      ]
     },
     "execution_count": 126,
     "metadata": {},
     "output_type": "execute_result"
    }
   ],
   "source": [
    "my_company_name"
   ]
  },
  {
   "cell_type": "code",
   "execution_count": 134,
   "id": "8a884cd0-a0ea-4bd5-92e2-9246f01b3f34",
   "metadata": {},
   "outputs": [],
   "source": [
    "company = ('HP','Asus','Acer','Dell')"
   ]
  },
  {
   "cell_type": "code",
   "execution_count": 136,
   "id": "0060e9b9-7056-4f22-923c-46211ae1e9ed",
   "metadata": {},
   "outputs": [
    {
     "data": {
      "text/plain": [
       "('HP', 'Asus', 'Acer', 'Dell')"
      ]
     },
     "execution_count": 136,
     "metadata": {},
     "output_type": "execute_result"
    }
   ],
   "source": [
    "company"
   ]
  },
  {
   "cell_type": "markdown",
   "id": "23d5009f-e6cb-4a7d-aa11-97b7ababb5bd",
   "metadata": {},
   "source": [
    "Revission ( User input) second"
   ]
  },
  {
   "cell_type": "code",
   "execution_count": 145,
   "id": "282e1c46-235a-4ac7-bd12-b60f73d070d9",
   "metadata": {},
   "outputs": [
    {
     "name": "stdin",
     "output_type": "stream",
     "text": [
      "enter your name Vishesh Sangwan\n"
     ]
    },
    {
     "data": {
      "text/plain": [
       "'Vishesh Sangwan'"
      ]
     },
     "execution_count": 145,
     "metadata": {},
     "output_type": "execute_result"
    }
   ],
   "source": [
    "input('enter your name')"
   ]
  },
  {
   "cell_type": "code",
   "execution_count": 147,
   "id": "feb442a9-294c-47d7-8c38-457bab9a1b81",
   "metadata": {},
   "outputs": [
    {
     "name": "stdin",
     "output_type": "stream",
     "text": [
      "Enter your age:  18 years\n"
     ]
    },
    {
     "data": {
      "text/plain": [
       "18"
      ]
     },
     "execution_count": 147,
     "metadata": {},
     "output_type": "execute_result"
    }
   ],
   "source": [
    "# Input from user\n",
    "age = input(\"Enter your age: \")\n",
    "18"
   ]
  },
  {
   "cell_type": "markdown",
   "id": "272c9d74-ef60-4566-80e5-5b929f468e6f",
   "metadata": {},
   "source": [
    "Revission [keywords]"
   ]
  },
  {
   "cell_type": "code",
   "execution_count": 24,
   "id": "1ad46f3c-f4f8-4578-971b-3818c7515939",
   "metadata": {},
   "outputs": [],
   "source": [
    "weekday =('monday','tueday','wednesday','thurday','friday','saturday','sunday')"
   ]
  },
  {
   "cell_type": "code",
   "execution_count": 26,
   "id": "fd4877b8-18fa-4f1e-a7b5-a23020af71f6",
   "metadata": {},
   "outputs": [
    {
     "data": {
      "text/plain": [
       "('monday', 'tueday', 'wednesday', 'thurday', 'friday', 'saturday', 'sunday')"
      ]
     },
     "execution_count": 26,
     "metadata": {},
     "output_type": "execute_result"
    }
   ],
   "source": [
    "weekday"
   ]
  },
  {
   "cell_type": "code",
   "execution_count": 28,
   "id": "627e5da7-9581-43d7-a8dd-822f97d96de4",
   "metadata": {},
   "outputs": [],
   "source": [
    "months =('january','februrary','march','april','may','june','july','august','september','october','nobember','december')"
   ]
  },
  {
   "cell_type": "code",
   "execution_count": 32,
   "id": "eca6972c-787c-4f3c-b71c-03c6ba7ab150",
   "metadata": {},
   "outputs": [
    {
     "data": {
      "text/plain": [
       "('january',\n",
       " 'februrary',\n",
       " 'march',\n",
       " 'april',\n",
       " 'may',\n",
       " 'june',\n",
       " 'july',\n",
       " 'august',\n",
       " 'september',\n",
       " 'october',\n",
       " 'nobember',\n",
       " 'december')"
      ]
     },
     "execution_count": 32,
     "metadata": {},
     "output_type": "execute_result"
    }
   ],
   "source": [
    "months"
   ]
  },
  {
   "cell_type": "code",
   "execution_count": 36,
   "id": "f8a02b84-49d8-46e1-a6a9-ac95f8033910",
   "metadata": {},
   "outputs": [],
   "source": [
    "cars =('audi','bmw','volvo','jeep','scoda')"
   ]
  },
  {
   "cell_type": "code",
   "execution_count": 38,
   "id": "e7d5980e-6b01-44a1-a9d9-7e91d44250ab",
   "metadata": {},
   "outputs": [
    {
     "data": {
      "text/plain": [
       "('audi', 'bmw', 'volvo', 'jeep', 'scoda')"
      ]
     },
     "execution_count": 38,
     "metadata": {},
     "output_type": "execute_result"
    }
   ],
   "source": [
    "cars"
   ]
  },
  {
   "cell_type": "code",
   "execution_count": null,
   "id": "bd21c553-63a8-4cec-83e2-98546e37ff96",
   "metadata": {},
   "outputs": [],
   "source": []
  }
 ],
 "metadata": {
  "kernelspec": {
   "display_name": "Python [conda env:base] *",
   "language": "python",
   "name": "conda-base-py"
  },
  "language_info": {
   "codemirror_mode": {
    "name": "ipython",
    "version": 3
   },
   "file_extension": ".py",
   "mimetype": "text/x-python",
   "name": "python",
   "nbconvert_exporter": "python",
   "pygments_lexer": "ipython3",
   "version": "3.12.7"
  }
 },
 "nbformat": 4,
 "nbformat_minor": 5
}
