{
 "cells": [
  {
   "cell_type": "markdown",
   "id": "df450d47-eb64-42e5-a13c-9ba1cdd55d64",
   "metadata": {},
   "source": [
    "Built in Modules"
   ]
  },
  {
   "cell_type": "markdown",
   "id": "ab334514-1d5d-40db-a68f-eba6d5750ed8",
   "metadata": {},
   "source": [
    "Math: Math ops\n",
    "Random: Random numbers\n",
    "os: OS interaction\n",
    "time: Time tasks"
   ]
  },
  {
   "cell_type": "code",
   "execution_count": 20,
   "id": "cde291e6-4082-477e-89f9-863cd7e94873",
   "metadata": {},
   "outputs": [
    {
     "name": "stdout",
     "output_type": "stream",
     "text": [
      "\n",
      "Please wait a moment while I gather a list of all available modules...\n",
      "\n"
     ]
    },
    {
     "name": "stderr",
     "output_type": "stream",
     "text": [
      "Database not initialized by migration_upgrade(). Running it again\n",
      "C:\\Users\\LENOVO\\anaconda3\\Lib\\site-packages\\paramiko\\pkey.py:82: CryptographyDeprecationWarning: TripleDES has been moved to cryptography.hazmat.decrepit.ciphers.algorithms.TripleDES and will be removed from this module in 48.0.0.\n",
      "  \"cipher\": algorithms.TripleDES,\n",
      "C:\\Users\\LENOVO\\anaconda3\\Lib\\site-packages\\paramiko\\transport.py:219: CryptographyDeprecationWarning: Blowfish has been moved to cryptography.hazmat.decrepit.ciphers.algorithms.Blowfish and will be removed from this module in 45.0.0.\n",
      "  \"class\": algorithms.Blowfish,\n",
      "C:\\Users\\LENOVO\\anaconda3\\Lib\\site-packages\\paramiko\\transport.py:243: CryptographyDeprecationWarning: TripleDES has been moved to cryptography.hazmat.decrepit.ciphers.algorithms.TripleDES and will be removed from this module in 48.0.0.\n",
      "  \"class\": algorithms.TripleDES,\n",
      "C:\\Users\\LENOVO\\anaconda3\\Lib\\site-packages\\nltk\\twitter\\__init__.py:20: UserWarning: The twython library has not been installed. Some functionality from the twitter package will not be available.\n",
      "  warnings.warn(\n",
      "C:\\Users\\LENOVO\\anaconda3\\Lib\\pkgutil.py:78: UserWarning: The numpy.array_api submodule is still experimental. See NEP 47.\n",
      "  __import__(info.name)\n",
      "C:\\Users\\LENOVO\\anaconda3\\Lib\\site-packages\\pydantic\\experimental\\__init__.py:7: PydanticExperimentalWarning:\n",
      "\n",
      "This module is experimental, its contents are subject to change and deprecation.\n",
      "\n",
      "No QCoreApplication instance found. Application patches not applied. You have to call load_stylesheet function after instantiation of QApplication to take effect. \n"
     ]
    },
    {
     "name": "stdout",
     "output_type": "stream",
     "text": [
      "3204bda914b7f2c6f497__mypyc click               markupsafe          skimage\n",
      "IPython             cloudpickle         marshal             sklearn\n",
      "OpenSSL             cmath               math                slugify\n",
      "PIL                 cmd                 matplotlib          smart_open\n",
      "PyQt5               code                matplotlib_inline   smmap\n",
      "__future__          codecs              mccabe              smtplib\n",
      "__hello__           codeop              mdit_py_plugins     sndhdr\n",
      "__phello__          collections         mdurl               sniffio\n",
      "_abc                colorama            menuinst            snowballstemmer\n",
      "_aix_support        colorcet            mimetypes           socket\n",
      "_argon2_cffi_bindings colorsys            mistune             socketserver\n",
      "_ast                comm                mkl                 socks\n",
      "_asyncio            commctrl            mkl_fft             sockshandler\n",
      "_bisect             compileall          mkl_random          sortedcontainers\n",
      "_black_version      concurrent          mmap                soupsieve\n",
      "_blake2             conda               mmapfile            sphinx\n",
      "_brotli             conda_build         mmsystem            spyder\n",
      "_bz2                conda_content_trust modulefinder        spyder_kernels\n",
      "_cffi_backend       conda_env           more_itertools      sqlalchemy\n",
      "_codecs             conda_index         mpmath              sqlite3\n",
      "_codecs_cn          conda_libmamba_solver msgpack             sre_compile\n",
      "_codecs_hk          conda_pack          msilib              sre_constants\n",
      "_codecs_iso2022     conda_package_handling msvcrt              sre_parse\n",
      "_codecs_jp          conda_package_streaming multidict           ssl\n",
      "_codecs_kr          conda_token         multipledispatch    sspi\n",
      "_codecs_tw          configparser        multiprocessing     sspicon\n",
      "_collections        constantly          mypy                stack_data\n",
      "_collections_abc    contextlib          mypy_extensions     stat\n",
      "_compat_pickle      contextvars         mypyc               statistics\n",
      "_compression        contourpy           nacl                statsmodels\n",
      "_contextvars        cookiecutter        navigator_updater   streamlit\n",
      "_csv                copy                nb_conda_kernels    string\n",
      "_ctypes             copyreg             nbclient            stringprep\n",
      "_ctypes_test        cpuinfo             nbconvert           struct\n",
      "_datetime           crypt               nbformat            subprocess\n",
      "_decimal            cryptography        nest_asyncio        sunau\n",
      "_distutils_hack     cssselect           netbios             sympy\n",
      "_elementtree        csv                 netrc               symtable\n",
      "_functools          ctypes              networkx            sys\n",
      "_hashlib            curl                nltk                sysconfig\n",
      "_heapq              curses              nntplib             tables\n",
      "_imp                cwp                 notebook            tabnanny\n",
      "_io                 cycler              notebook_shim       tabulate\n",
      "_json               cytoolz             nt                  tarfile\n",
      "_locale             dask                ntpath              tblib\n",
      "_lsprof             dask_expr           ntsecuritycon       telnetlib\n",
      "_lzma               dataclasses         nturl2path          tempfile\n",
      "_markupbase         datashader          numba               tenacity\n",
      "_md5                datetime            numbergen           terminado\n",
      "_msi                dateutil            numbers             test\n",
      "_multibytecodec     dbi                 numexpr             test_pycosat\n",
      "_multiprocessing    dbm                 numpy               text_unidecode\n",
      "_nsis               dde                 numpydoc            textdistance\n",
      "_opcode             debugpy             odbc                textwrap\n",
      "_operator           decimal             opcode              this\n",
      "_osx_support        decorator           openpyxl            threading\n",
      "_overlapped         defusedxml          operator            threadpoolctl\n",
      "_pickle             diff_match_patch    optparse            three_merge\n",
      "_plotly_future_     difflib             os                  tifffile\n",
      "_plotly_utils       dill                overrides           time\n",
      "_py_abc             dis                 packaging           timeit\n",
      "_pydatetime         distributed         pandas              timer\n",
      "_pydecimal          distro              pandocfilters       tinycss2\n",
      "_pyio               docstring_to_markdown panel               tkinter\n",
      "_pylong             doctest             param               tldextract\n",
      "_pytest             docutils            paramiko            tlz\n",
      "_queue              dotenv              parsel              token\n",
      "_random             email               parso               tokenize\n",
      "_ruamel_yaml        encodings           partd               toml\n",
      "_sha1               ensurepip           pathlib             tomli\n",
      "_sha2               enum                pathspec            tomlkit\n",
      "_sha3               erfa                patsy               tomllib\n",
      "_signal             errno               pdb                 toolz\n",
      "_sitebuiltins       et_xmlfile          perfmon             tornado\n",
      "_socket             executing           pexpect             tqdm\n",
      "_sqlite3            fastjsonschema      pickle              trace\n",
      "_sre                faulthandler        pickleshare         traceback\n",
      "_ssl                filecmp             pickletools         tracemalloc\n",
      "_stat               fileinput           pip                 traitlets\n",
      "_statistics         filelock            pipes               truststore\n",
      "_string             flake8              pkce                tty\n",
      "_strptime           flask               pkg_resources       turtle\n",
      "_struct             fnmatch             pkginfo             turtledemo\n",
      "_symtable           fontTools           pkgutil             twisted\n",
      "_system_path        fractions           platform            typeguard\n",
      "_testbuffer         frozendict          platformdirs        typer\n",
      "_testcapi           frozenlist          plistlib            types\n",
      "_testclinic         fsspec              plotly              typing\n",
      "_testconsole        ftplib              pluggy              typing_extensions\n",
      "_testimportmultiple functools           ply                 tzdata\n",
      "_testinternalcapi   gc                  poplib              uc_micro\n",
      "_testmultiphase     genericpath         posixpath           ujson\n",
      "_testsinglephase    gensim              pprint              unicodedata\n",
      "_thread             getopt              profile             unicodedata2\n",
      "_threading_local    getpass             prometheus_client   unidecode\n",
      "_tkinter            gettext             prompt_toolkit      unittest\n",
      "_tokenize           git                 protego             urllib\n",
      "_tracemalloc        gitdb               pstats              urllib3\n",
      "_typing             glob                psutil              uu\n",
      "_uuid               graphlib            pty                 uuid\n",
      "_warnings           greenlet            ptyprocess          venv\n",
      "_weakref            gzip                pure_eval           w3lib\n",
      "_weakrefset         h11                 py                  warnings\n",
      "_win32sysloader     h5py                py_compile          watchdog\n",
      "_winapi             hashlib             pyarrow             wave\n",
      "_winxptheme         heapdict            pyasn1              wcwidth\n",
      "_wmi                heapq               pyasn1_modules      weakref\n",
      "_xxinterpchannels   hmac                pyclbr              webbrowser\n",
      "_xxsubinterpreters  holoviews           pycodestyle         webencodings\n",
      "_yaml               html                pycosat             websocket\n",
      "_zoneinfo           http                pycparser           werkzeug\n",
      "abc                 httpcore            pyct                whatthepatch\n",
      "adodbapi            httpx               pycurl              wheel\n",
      "aext_assistant      hvplot              pydantic            widgetsnbextension\n",
      "aext_assistant_server hyperlink           pydantic_core       win2kras\n",
      "aext_core           idlelib             pydantic_settings   win32api\n",
      "aext_core_server    idna                pydeck              win32clipboard\n",
      "aext_panels         imagecodecs         pydispatch          win32com\n",
      "aext_panels_server  imageio             pydoc               win32con\n",
      "aext_project_filebrowser_server imagesize           pydoc_data          win32console\n",
      "aext_share_notebook imaplib             pydocstyle          win32cred\n",
      "aext_share_notebook_server imblearn            pyexpat             win32crypt\n",
      "aext_shared         imghdr              pyflakes            win32cryptcon\n",
      "aext_toolbox        importlib           pygments            win32ctypes\n",
      "afxres              importlib_metadata  pylab               win32event\n",
      "aifc                importlib_resources pylint              win32evtlog\n",
      "aiobotocore         incremental         pylint_venv         win32evtlogutil\n",
      "aiohappyeyeballs    inflect             pyls_spyder         win32file\n",
      "aiohttp             inflection          pylsp               win32gui\n",
      "aioitertools        iniconfig           pylsp_black         win32gui_struct\n",
      "aiosignal           inspect             pylsp_jsonrpc       win32help\n",
      "alabaster           intake              pyodbc              win32inet\n",
      "alembic             intervaltree        pyparsing           win32inetcon\n",
      "altair              io                  pytest              win32job\n",
      "anaconda_anon_usage ipaddress           pythoncom           win32lz\n",
      "anaconda_catalogs   ipykernel           pythonjsonlogger    win32net\n",
      "anaconda_cli_base   ipykernel_launcher  pytoolconfig        win32netcon\n",
      "anaconda_cloud_auth ipython_genutils    pytz                win32pdh\n",
      "anaconda_navigator  ipywidgets          pyviz_comms         win32pdhquery\n",
      "anaconda_project    isapi               pywin               win32pdhutil\n",
      "annotated_types     isort               pywin32_bootstrap   win32pipe\n",
      "antigravity         isympy              pywin32_testutil    win32print\n",
      "anyio               itemadapter         pywintypes          win32process\n",
      "appdirs             itemloaders         pywt                win32profile\n",
      "archspec            itertools           qdarkstyle          win32ras\n",
      "argon2              itsdangerous        qstylizer           win32rcparser\n",
      "argparse            jedi                qtawesome           win32security\n",
      "array               jellyfish           qtconsole           win32service\n",
      "arrow               jinja2              qtpy                win32serviceutil\n",
      "ast                 jmespath            queue               win32timezone\n",
      "astroid             joblib              queuelib            win32trace\n",
      "astropy             json                quopri              win32traceutil\n",
      "astropy_iers_data   json5               random              win32transaction\n",
      "asttokens           jsonpatch           rasutil             win32ts\n",
      "async_lru           jsonpointer         re                  win32ui\n",
      "asyncio             jsonschema          readchar            win32uiole\n",
      "atexit              jsonschema_specifications referencing         win32verstamp\n",
      "atomicwrites        jupyter             regcheck            win32wnet\n",
      "attr                jupyter_client      regex               win_inet_pton\n",
      "attrs               jupyter_console     regutil             winerror\n",
      "audioop             jupyter_core        repo_cli            winioctlcon\n",
      "autocommand         jupyter_events      reprlib             winnt\n",
      "automat             jupyter_lsp         requests            winperf\n",
      "autopep8            jupyter_server      requests_file       winpty\n",
      "babel               jupyter_server_terminals requests_toolbelt   winreg\n",
      "backports           jupyterlab          rfc3339_validator   winsound\n",
      "base64              jupyterlab_plotly   rfc3986_validator   winxpgui\n",
      "bcrypt              jupyterlab_pygments rich                winxptheme\n",
      "bdb                 jupyterlab_server   rlcompleter         wrapt\n",
      "binaryornot         jupyterlab_widgets  rope                wsgiref\n",
      "binascii            jwt                 rpds                xarray\n",
      "binstar_client      keyring             rtree               xdrlib\n",
      "bisect              keyword             ruamel_yaml         xlwings\n",
      "black               kiwisolver          runpy               xlwingsjs\n",
      "blackd              lazy_loader         s3fs                xml\n",
      "bleach              lazy_object_proxy   sched               xmlrpc\n",
      "blib2to3            lckr_jupyterlab_variableinspector scipy               xxlimited\n",
      "blinker             lib2to3             scrapy              xxlimited_35\n",
      "bokeh               libarchive          seaborn             xxsubtype\n",
      "boltons             libmambapy          secrets             xyzservices\n",
      "botocore            lief                select              yaml\n",
      "bottleneck          linecache           selectors           yapf\n",
      "brotli              linkify_it          semver              yapf_third_party\n",
      "bs4                 llvmlite            send2trash          yapftests\n",
      "builtins            lmdb                sentry_sdk          yarl\n",
      "bz2                 locale              service_identity    zict\n",
      "cProfile            locket              servicemanager      zipapp\n",
      "cachetools          logging             setuptools          zipfile\n",
      "calendar            lxml                shellingham         zipimport\n",
      "certifi             lz4                 shelve              zipp\n",
      "cffi                lzma                shlex               zlib\n",
      "cgi                 mailbox             shutil              zmq\n",
      "cgitb               mailcap             signal              zoneinfo\n",
      "chardet             mako                sipbuild            zope\n",
      "charset_normalizer  markdown            site                zstandard\n",
      "chunk               markdown_it         six                 \n",
      "\n",
      "Enter any module name to get more help.  Or, type \"modules spam\" to search\n",
      "for modules whose name or summary contain the string \"spam\".\n",
      "\n"
     ]
    }
   ],
   "source": [
    "help (\"modules\")"
   ]
  },
  {
   "cell_type": "code",
   "execution_count": 26,
   "id": "a21502ec-39a3-4c79-b442-745d2370e5d2",
   "metadata": {},
   "outputs": [
    {
     "name": "stdout",
     "output_type": "stream",
     "text": [
      "['False', 'None', 'True', 'and', 'as', 'assert', 'async', 'await', 'break', 'class', 'continue', 'def', 'del', 'elif', 'else', 'except', 'finally', 'for', 'from', 'global', 'if', 'import', 'in', 'is', 'lambda', 'nonlocal', 'not', 'or', 'pass', 'raise', 'return', 'try', 'while', 'with', 'yield']\n"
     ]
    }
   ],
   "source": [
    "import keyword\n",
    "print(keyword.kwlist) "
   ]
  },
  {
   "cell_type": "markdown",
   "id": "2eab51a8-11b4-47b5-852d-785efed1c45c",
   "metadata": {},
   "source": [
    "Math Module"
   ]
  },
  {
   "cell_type": "code",
   "execution_count": 29,
   "id": "6b137f52-33ce-4029-8f89-61d344dae7cd",
   "metadata": {},
   "outputs": [],
   "source": [
    "import math"
   ]
  },
  {
   "cell_type": "code",
   "execution_count": 31,
   "id": "d98e9071-85df-4cdc-b337-c4baea88fcfa",
   "metadata": {},
   "outputs": [
    {
     "data": {
      "text/plain": [
       "3.141592653589793"
      ]
     },
     "execution_count": 31,
     "metadata": {},
     "output_type": "execute_result"
    }
   ],
   "source": [
    "math.pi"
   ]
  },
  {
   "cell_type": "code",
   "execution_count": 33,
   "id": "12b318fa-ab6b-4c84-a6d0-55eb2cffebd3",
   "metadata": {},
   "outputs": [
    {
     "data": {
      "text/plain": [
       "2.718281828459045"
      ]
     },
     "execution_count": 33,
     "metadata": {},
     "output_type": "execute_result"
    }
   ],
   "source": [
    "math.e"
   ]
  },
  {
   "cell_type": "code",
   "execution_count": 39,
   "id": "b0103c0f-1b23-402f-b142-3104986da06f",
   "metadata": {},
   "outputs": [
    {
     "data": {
      "text/plain": [
       "120"
      ]
     },
     "execution_count": 39,
     "metadata": {},
     "output_type": "execute_result"
    }
   ],
   "source": [
    "math.factorial(5)#5#4#3#2#1"
   ]
  },
  {
   "cell_type": "code",
   "execution_count": 27,
   "id": "eb96125d-a8ad-4517-8009-a1d0e20297e7",
   "metadata": {},
   "outputs": [
    {
     "data": {
      "text/plain": [
       "83"
      ]
     },
     "execution_count": 27,
     "metadata": {},
     "output_type": "execute_result"
    }
   ],
   "source": [
    "random.randint (1, 100)\n"
   ]
  },
  {
   "cell_type": "code",
   "execution_count": 23,
   "id": "e640e706-2bc6-4c83-afb6-7d654985ff36",
   "metadata": {},
   "outputs": [],
   "source": [
    "import random"
   ]
  },
  {
   "cell_type": "code",
   "execution_count": 25,
   "id": "85cdcc86-c426-48a9-b9d4-565433421ba8",
   "metadata": {},
   "outputs": [
    {
     "data": {
      "text/plain": [
       "3"
      ]
     },
     "execution_count": 25,
     "metadata": {},
     "output_type": "execute_result"
    }
   ],
   "source": [
    "random.randint (1, 10)"
   ]
  },
  {
   "cell_type": "code",
   "execution_count": 31,
   "id": "66223691-ac9f-4aa1-8731-3b82aa12f89b",
   "metadata": {},
   "outputs": [
    {
     "data": {
      "text/plain": [
       "139"
      ]
     },
     "execution_count": 31,
     "metadata": {},
     "output_type": "execute_result"
    }
   ],
   "source": [
    "random.randint (1, 200)"
   ]
  },
  {
   "cell_type": "code",
   "execution_count": 33,
   "id": "e63eca22-91df-429f-9775-432ae7c666c4",
   "metadata": {},
   "outputs": [
    {
     "data": {
      "text/plain": [
       "59"
      ]
     },
     "execution_count": 33,
     "metadata": {},
     "output_type": "execute_result"
    }
   ],
   "source": [
    "random.randint (1,300)"
   ]
  },
  {
   "cell_type": "code",
   "execution_count": 41,
   "id": "008de592-d792-4202-823a-f0f42e42c63b",
   "metadata": {},
   "outputs": [
    {
     "data": {
      "text/plain": [
       "[5, 4, 3, 2, 1]"
      ]
     },
     "execution_count": 41,
     "metadata": {},
     "output_type": "execute_result"
    }
   ],
   "source": [
    "a = [1,2,3,4,5]\n",
    "random.shuffle(a)\n",
    "a"
   ]
  },
  {
   "cell_type": "code",
   "execution_count": 43,
   "id": "78d6c970-feef-47aa-9268-8a4ca0b5e316",
   "metadata": {},
   "outputs": [
    {
     "data": {
      "text/plain": [
       "[1, 5, 3, 2, 4]"
      ]
     },
     "execution_count": 43,
     "metadata": {},
     "output_type": "execute_result"
    }
   ],
   "source": [
    "b = [21,22,23,24,25]\n",
    "random.shuffle(a)\n",
    "a"
   ]
  },
  {
   "cell_type": "code",
   "execution_count": 50,
   "id": "79a03b6f-c1b6-4540-92d0-cebabce01c9c",
   "metadata": {},
   "outputs": [
    {
     "data": {
      "text/plain": [
       "[35, 33, 32, 34, 31]"
      ]
     },
     "execution_count": 50,
     "metadata": {},
     "output_type": "execute_result"
    }
   ],
   "source": [
    "a = [31,32,33,34,35]\n",
    "random.shuffle(a)\n",
    "a"
   ]
  },
  {
   "cell_type": "markdown",
   "id": "d6c5dfbb-83ae-4765-948e-5ddebcb83b7c",
   "metadata": {},
   "source": [
    "Time Modules"
   ]
  },
  {
   "cell_type": "code",
   "execution_count": 53,
   "id": "55927277-0a88-4214-842b-fd906ab352e6",
   "metadata": {},
   "outputs": [],
   "source": [
    "import time"
   ]
  },
  {
   "cell_type": "code",
   "execution_count": 55,
   "id": "5d70c1e1-cb90-4771-8ec6-39ec68ec457b",
   "metadata": {},
   "outputs": [
    {
     "data": {
      "text/plain": [
       "<function time.time>"
      ]
     },
     "execution_count": 55,
     "metadata": {},
     "output_type": "execute_result"
    }
   ],
   "source": [
    "time.time "
   ]
  },
  {
   "cell_type": "code",
   "execution_count": 61,
   "id": "049d905e-21b1-41b7-b3c4-c77e0ada3fe2",
   "metadata": {},
   "outputs": [
    {
     "data": {
      "text/plain": [
       "'Wed Mar  5 03:35:24 2025'"
      ]
     },
     "execution_count": 61,
     "metadata": {},
     "output_type": "execute_result"
    }
   ],
   "source": [
    "time.ctime()"
   ]
  },
  {
   "cell_type": "code",
   "execution_count": 82,
   "id": "a504b3ce-ca5a-46ad-a137-5ef6ec160161",
   "metadata": {},
   "outputs": [
    {
     "name": "stdout",
     "output_type": "stream",
     "text": [
      "Hello\n",
      "World\n"
     ]
    }
   ],
   "source": [
    "print(\"Hello\")\n",
    "time.sleep(1) # Delay for 20 seconds\n",
    "print(\"World\")"
   ]
  },
  {
   "cell_type": "code",
   "execution_count": 84,
   "id": "dc241dfb-1229-4343-9738-71ced64581d6",
   "metadata": {},
   "outputs": [
    {
     "name": "stdout",
     "output_type": "stream",
     "text": [
      "vishesh\n",
      "sangwan\n"
     ]
    }
   ],
   "source": [
    "print(\"vishesh\")\n",
    "time.sleep(1) # Delay for 5 seconds\n",
    "print(\"sangwan\")"
   ]
  },
  {
   "cell_type": "code",
   "execution_count": 90,
   "id": "1f2d571a-9d08-4cff-b56b-da68a40d74f5",
   "metadata": {},
   "outputs": [
    {
     "name": "stdout",
     "output_type": "stream",
     "text": [
      "iphone\n",
      "samsung\n"
     ]
    }
   ],
   "source": [
    "print(\"iphone\")\n",
    "time.sleep(1) # delay for 10 seconds\n",
    "print(\"samsung\")"
   ]
  },
  {
   "cell_type": "markdown",
   "id": "e3e09a9f-c983-4f72-945a-0ac21d199681",
   "metadata": {},
   "source": [
    "Daytime Modules"
   ]
  },
  {
   "cell_type": "code",
   "execution_count": 101,
   "id": "25c725ee-f336-4ce9-855b-d2f8218b81aa",
   "metadata": {},
   "outputs": [
    {
     "name": "stdout",
     "output_type": "stream",
     "text": [
      "2025-03-05 03:41:12.517167\n"
     ]
    }
   ],
   "source": [
    "import datetime\n",
    "print(datetime.datetime.now()) # Current date/time"
   ]
  },
  {
   "cell_type": "markdown",
   "id": "9271cc4d-d21c-4190-b15d-c889ee57a7c0",
   "metadata": {},
   "source": [
    "OS Modules"
   ]
  },
  {
   "cell_type": "code",
   "execution_count": 104,
   "id": "5843b731-79cd-494c-a583-6399bf9e224d",
   "metadata": {},
   "outputs": [],
   "source": [
    "import os"
   ]
  },
  {
   "cell_type": "code",
   "execution_count": 106,
   "id": "358ea26c-d29c-43f0-b745-44fbe3a295c5",
   "metadata": {},
   "outputs": [
    {
     "data": {
      "text/plain": [
       "'C:\\\\Users\\\\LENOVO\\\\Desktop\\\\vishesh data scientist'"
      ]
     },
     "execution_count": 106,
     "metadata": {},
     "output_type": "execute_result"
    }
   ],
   "source": [
    "os.getcwd() # Current working dir"
   ]
  },
  {
   "cell_type": "code",
   "execution_count": 108,
   "id": "bfb35c8c-b4c0-4f57-a219-6c894fb02af0",
   "metadata": {},
   "outputs": [
    {
     "data": {
      "text/plain": [
       "['.ipynb_checkpoints',\n",
       " 'anaconda_projects',\n",
       " 'break_continue.ipynb',\n",
       " 'Built in Function.ipynb',\n",
       " 'Built in Modules.ipynb',\n",
       " 'control system.ipynb',\n",
       " 'data type.ipynb',\n",
       " 'keywords.ipynb',\n",
       " 'Logical operator.ipynb',\n",
       " 'loop syntax.ipynb',\n",
       " 'operator.ipynb',\n",
       " 'print_function.ipynb',\n",
       " 'revission.ipynb',\n",
       " 'Salary_Data.csv',\n",
       " 'Untitled.ipynb',\n",
       " 'Untitled1.ipynb',\n",
       " 'Untitled2.ipynb',\n",
       " 'user_input.ipynb',\n",
       " 'variables.ipynb']"
      ]
     },
     "execution_count": 108,
     "metadata": {},
     "output_type": "execute_result"
    }
   ],
   "source": [
    "os.listdir() # Files in dir"
   ]
  },
  {
   "cell_type": "code",
   "execution_count": null,
   "id": "91648002-b167-491b-aed1-ffb4a9830ed9",
   "metadata": {},
   "outputs": [],
   "source": []
  }
 ],
 "metadata": {
  "kernelspec": {
   "display_name": "Python [conda env:base] *",
   "language": "python",
   "name": "conda-base-py"
  },
  "language_info": {
   "codemirror_mode": {
    "name": "ipython",
    "version": 3
   },
   "file_extension": ".py",
   "mimetype": "text/x-python",
   "name": "python",
   "nbconvert_exporter": "python",
   "pygments_lexer": "ipython3",
   "version": "3.12.7"
  }
 },
 "nbformat": 4,
 "nbformat_minor": 5
}
