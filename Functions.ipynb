{
 "cells": [
  {
   "cell_type": "markdown",
   "id": "60484c88-4f68-455f-b41d-9bee4e5589f0",
   "metadata": {},
   "source": [
    "## FUNCTIONS\n"
   ]
  },
  {
   "cell_type": "code",
   "execution_count": 14,
   "id": "704709fe-9e26-44bc-9c21-c170940a5dc7",
   "metadata": {},
   "outputs": [
    {
     "data": {
      "text/plain": [
       "615.44"
      ]
     },
     "execution_count": 14,
     "metadata": {},
     "output_type": "execute_result"
    }
   ],
   "source": [
    "def area_circle(x,y):\n",
    "    return x*(y**2)\n",
    "\n",
    "area_circle(3.14,14)"
   ]
  },
  {
   "cell_type": "code",
   "execution_count": 32,
   "id": "6ff5323b-5c7c-4570-b006-3b4324528458",
   "metadata": {},
   "outputs": [
    {
     "data": {
      "text/plain": [
       "106"
      ]
     },
     "execution_count": 32,
     "metadata": {},
     "output_type": "execute_result"
    }
   ],
   "source": [
    "def area_parameter_of_rectangle(l,b):\n",
    "    return 2*(l+b)\n",
    "\n",
    "area_parameter_of_rectangle(21,32)"
   ]
  },
  {
   "cell_type": "code",
   "execution_count": 54,
   "id": "7c9b7160-0121-447c-8fe1-28ee74dfb049",
   "metadata": {},
   "outputs": [
    {
     "ename": "NameError",
     "evalue": "name 'number' is not defined",
     "output_type": "error",
     "traceback": [
      "\u001b[1;31m---------------------------------------------------------------------------\u001b[0m",
      "\u001b[1;31mNameError\u001b[0m                                 Traceback (most recent call last)",
      "Cell \u001b[1;32mIn[54], line 1\u001b[0m\n\u001b[1;32m----> 1\u001b[0m \u001b[38;5;28;01mif\u001b[39;00m number \u001b[38;5;241m%\u001b[39m\u001b[38;5;241m2\u001b[39m \u001b[38;5;241m==\u001b[39m \u001b[38;5;241m0\u001b[39m:\n\u001b[0;32m      2\u001b[0m     number (\u001b[38;5;241m7\u001b[39m,\u001b[38;5;241m2\u001b[39m)\n\u001b[0;32m      3\u001b[0m     \u001b[38;5;28mprint\u001b[39m(\u001b[38;5;124m\"\u001b[39m\u001b[38;5;124meven\u001b[39m\u001b[38;5;124m\"\u001b[39m)\n",
      "\u001b[1;31mNameError\u001b[0m: name 'number' is not defined"
     ]
    }
   ],
   "source": [
    "if number %2 == 0:\n",
    "    number (7,2)\n",
    "    print(\"even\")\n",
    "    print(\"odd\")"
   ]
  },
  {
   "cell_type": "code",
   "execution_count": 58,
   "id": "629ad7dd-893f-4506-b63f-d8d11aae704f",
   "metadata": {},
   "outputs": [
    {
     "name": "stdout",
     "output_type": "stream",
     "text": [
      "odd\n"
     ]
    }
   ],
   "source": [
    "num=79\n",
    "if num % 2==0:\n",
    "    print(\"even\")\n",
    "else:\n",
    "    print(\"odd\")"
   ]
  },
  {
   "cell_type": "code",
   "execution_count": null,
   "id": "ffdc010b-c088-4daf-a474-4b2b4a812b1f",
   "metadata": {},
   "outputs": [],
   "source": []
  }
 ],
 "metadata": {
  "kernelspec": {
   "display_name": "Python [conda env:base] *",
   "language": "python",
   "name": "conda-base-py"
  },
  "language_info": {
   "codemirror_mode": {
    "name": "ipython",
    "version": 3
   },
   "file_extension": ".py",
   "mimetype": "text/x-python",
   "name": "python",
   "nbconvert_exporter": "python",
   "pygments_lexer": "ipython3",
   "version": "3.12.7"
  }
 },
 "nbformat": 4,
 "nbformat_minor": 5
}
