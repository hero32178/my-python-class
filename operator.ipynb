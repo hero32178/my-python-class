{
 "cells": [
  {
   "cell_type": "markdown",
   "id": "5041caa5-79dd-4920-bf9b-f825039658da",
   "metadata": {},
   "source": [
    "Operator\n"
   ]
  },
  {
   "cell_type": "markdown",
   "id": "a18a5680-aa76-4270-bd92-7f09c0b4f73e",
   "metadata": {},
   "source": [
    "Arithmetic: +, -, *, /, %, **, //"
   ]
  },
  {
   "cell_type": "code",
   "execution_count": 3,
   "id": "6b22bfe7-eae6-47ae-bb8c-8d0c55a3154e",
   "metadata": {},
   "outputs": [],
   "source": [
    "x= 7\n",
    "y= 3"
   ]
  },
  {
   "cell_type": "code",
   "execution_count": 5,
   "id": "44d5d58f-eab8-4e76-a594-aba37df56a04",
   "metadata": {},
   "outputs": [
    {
     "name": "stdout",
     "output_type": "stream",
     "text": [
      "10\n"
     ]
    }
   ],
   "source": [
    "print(x+y)"
   ]
  },
  {
   "cell_type": "code",
   "execution_count": 7,
   "id": "b8c50764-1f9e-444d-bbd3-d39339fa14d2",
   "metadata": {},
   "outputs": [
    {
     "name": "stdout",
     "output_type": "stream",
     "text": [
      "4\n"
     ]
    }
   ],
   "source": [
    "print(x-y)"
   ]
  },
  {
   "cell_type": "code",
   "execution_count": 9,
   "id": "3aee5e91-58f9-4421-9762-0db2e72fd524",
   "metadata": {},
   "outputs": [
    {
     "name": "stdout",
     "output_type": "stream",
     "text": [
      "21\n"
     ]
    }
   ],
   "source": [
    "print(x*y)"
   ]
  },
  {
   "cell_type": "code",
   "execution_count": 11,
   "id": "54de6fc5-35ab-4404-b955-c4216daf8a26",
   "metadata": {},
   "outputs": [
    {
     "name": "stdout",
     "output_type": "stream",
     "text": [
      "2.3333333333333335\n"
     ]
    }
   ],
   "source": [
    "print(x/y)"
   ]
  },
  {
   "cell_type": "code",
   "execution_count": 13,
   "id": "f5ddd6a4-344d-4cf6-bc8d-8ef6488d041e",
   "metadata": {},
   "outputs": [
    {
     "name": "stdout",
     "output_type": "stream",
     "text": [
      "1\n"
     ]
    }
   ],
   "source": [
    "print(x%y)"
   ]
  },
  {
   "cell_type": "code",
   "execution_count": 15,
   "id": "5c6d9c18-3062-4d0a-b95d-7bdb79917907",
   "metadata": {},
   "outputs": [
    {
     "name": "stdout",
     "output_type": "stream",
     "text": [
      "343\n"
     ]
    }
   ],
   "source": [
    "print(x**y)"
   ]
  },
  {
   "cell_type": "code",
   "execution_count": 19,
   "id": "9bc4e590-e22b-485b-85cd-50edb4a6e73f",
   "metadata": {},
   "outputs": [
    {
     "name": "stdout",
     "output_type": "stream",
     "text": [
      "2\n"
     ]
    }
   ],
   "source": [
    "print(x//y)"
   ]
  },
  {
   "cell_type": "code",
   "execution_count": 21,
   "id": "ca93e016-58ce-4154-82e2-6c252ef4c998",
   "metadata": {},
   "outputs": [],
   "source": [
    "x=200\n",
    "y=200"
   ]
  },
  {
   "cell_type": "code",
   "execution_count": 23,
   "id": "180e2d5f-4d85-4dcb-bbfa-0364c1ebf49e",
   "metadata": {},
   "outputs": [
    {
     "name": "stdout",
     "output_type": "stream",
     "text": [
      "400\n"
     ]
    }
   ],
   "source": [
    "print(x+y)"
   ]
  },
  {
   "cell_type": "code",
   "execution_count": 25,
   "id": "5068e7f4-0103-4871-ae1d-9ad33785fb5a",
   "metadata": {},
   "outputs": [
    {
     "name": "stdout",
     "output_type": "stream",
     "text": [
      "0\n"
     ]
    }
   ],
   "source": [
    "print(x-y)"
   ]
  },
  {
   "cell_type": "code",
   "execution_count": 27,
   "id": "1201b8ac-18cc-405f-9e4b-4449c4c218fc",
   "metadata": {},
   "outputs": [
    {
     "name": "stdout",
     "output_type": "stream",
     "text": [
      "40000\n"
     ]
    }
   ],
   "source": [
    "print(x*y)"
   ]
  },
  {
   "cell_type": "code",
   "execution_count": 29,
   "id": "f68c6170-2f70-4182-b574-bf00c12c8b31",
   "metadata": {},
   "outputs": [
    {
     "name": "stdout",
     "output_type": "stream",
     "text": [
      "1.0\n"
     ]
    }
   ],
   "source": [
    "print(x/y)"
   ]
  },
  {
   "cell_type": "code",
   "execution_count": 33,
   "id": "e0feb3b2-f351-4970-a94e-4c6ec738206e",
   "metadata": {},
   "outputs": [
    {
     "name": "stdout",
     "output_type": "stream",
     "text": [
      "0\n"
     ]
    }
   ],
   "source": [
    "print(x%y)"
   ]
  },
  {
   "cell_type": "markdown",
   "id": "e63f38c1-2eee-4f4d-84e0-ad737410bea4",
   "metadata": {},
   "source": [
    "Comparison: ==, !=, >, <, >=, <="
   ]
  },
  {
   "cell_type": "code",
   "execution_count": 36,
   "id": "d846b686-e706-4b34-ba84-ec4cb7fca8fe",
   "metadata": {},
   "outputs": [],
   "source": [
    "x= 5\n",
    "y= 2"
   ]
  },
  {
   "cell_type": "code",
   "execution_count": 38,
   "id": "65ca887d-2b24-4e9f-bd1c-7c4e60351b9c",
   "metadata": {},
   "outputs": [
    {
     "data": {
      "text/plain": [
       "True"
      ]
     },
     "execution_count": 38,
     "metadata": {},
     "output_type": "execute_result"
    }
   ],
   "source": [
    "x>y"
   ]
  },
  {
   "cell_type": "code",
   "execution_count": 40,
   "id": "5ea29cd3-5345-49eb-ab57-38f620bab007",
   "metadata": {},
   "outputs": [
    {
     "data": {
      "text/plain": [
       "False"
      ]
     },
     "execution_count": 40,
     "metadata": {},
     "output_type": "execute_result"
    }
   ],
   "source": [
    "x<y"
   ]
  },
  {
   "cell_type": "code",
   "execution_count": 44,
   "id": "e439f33b-8606-4fbe-a6ec-e5f1d6ddb588",
   "metadata": {},
   "outputs": [
    {
     "data": {
      "text/plain": [
       "True"
      ]
     },
     "execution_count": 44,
     "metadata": {},
     "output_type": "execute_result"
    }
   ],
   "source": [
    "x!=y"
   ]
  },
  {
   "cell_type": "code",
   "execution_count": 46,
   "id": "14b0549b-8b28-43b1-86e9-bce398de9704",
   "metadata": {},
   "outputs": [
    {
     "data": {
      "text/plain": [
       "True"
      ]
     },
     "execution_count": 46,
     "metadata": {},
     "output_type": "execute_result"
    }
   ],
   "source": [
    "y!=x"
   ]
  },
  {
   "cell_type": "code",
   "execution_count": 48,
   "id": "4c58f572-9549-4f04-b443-f49a9a09afe7",
   "metadata": {},
   "outputs": [
    {
     "data": {
      "text/plain": [
       "True"
      ]
     },
     "execution_count": 48,
     "metadata": {},
     "output_type": "execute_result"
    }
   ],
   "source": [
    "x>=y"
   ]
  },
  {
   "cell_type": "code",
   "execution_count": 52,
   "id": "c6f479a7-2333-4692-8c49-33308f11f574",
   "metadata": {},
   "outputs": [
    {
     "data": {
      "text/plain": [
       "False"
      ]
     },
     "execution_count": 52,
     "metadata": {},
     "output_type": "execute_result"
    }
   ],
   "source": [
    "y>=x"
   ]
  },
  {
   "cell_type": "code",
   "execution_count": 54,
   "id": "b52412ad-f537-438d-9312-ad270a2e5725",
   "metadata": {},
   "outputs": [
    {
     "data": {
      "text/plain": [
       "False"
      ]
     },
     "execution_count": 54,
     "metadata": {},
     "output_type": "execute_result"
    }
   ],
   "source": [
    "x<=y"
   ]
  },
  {
   "cell_type": "code",
   "execution_count": 56,
   "id": "ab5d950c-a190-48fc-a957-c8d550ba9a82",
   "metadata": {},
   "outputs": [
    {
     "data": {
      "text/plain": [
       "True"
      ]
     },
     "execution_count": 56,
     "metadata": {},
     "output_type": "execute_result"
    }
   ],
   "source": [
    "y<=x"
   ]
  },
  {
   "cell_type": "code",
   "execution_count": 58,
   "id": "42191f9f-62d7-482b-ac24-0e7d40df169e",
   "metadata": {},
   "outputs": [
    {
     "data": {
      "text/plain": [
       "True"
      ]
     },
     "execution_count": 58,
     "metadata": {},
     "output_type": "execute_result"
    }
   ],
   "source": [
    "y>=y"
   ]
  },
  {
   "cell_type": "code",
   "execution_count": 62,
   "id": "a05a299c-b096-46ac-8768-2506fbed55ae",
   "metadata": {},
   "outputs": [
    {
     "data": {
      "text/plain": [
       "True"
      ]
     },
     "execution_count": 62,
     "metadata": {},
     "output_type": "execute_result"
    }
   ],
   "source": [
    "x>=x"
   ]
  },
  {
   "cell_type": "code",
   "execution_count": 70,
   "id": "23a82c71-f850-4ebd-b5d8-31771e0ef60f",
   "metadata": {},
   "outputs": [
    {
     "data": {
      "text/plain": [
       "False"
      ]
     },
     "execution_count": 70,
     "metadata": {},
     "output_type": "execute_result"
    }
   ],
   "source": [
    "y>=x"
   ]
  },
  {
   "cell_type": "code",
   "execution_count": 72,
   "id": "d6764947-d88f-4df0-addf-657749ba3464",
   "metadata": {},
   "outputs": [
    {
     "data": {
      "text/plain": [
       "False"
      ]
     },
     "execution_count": 72,
     "metadata": {},
     "output_type": "execute_result"
    }
   ],
   "source": [
    "x==y"
   ]
  },
  {
   "cell_type": "code",
   "execution_count": 74,
   "id": "5fcf69f0-f869-4f05-bcda-d0bd1b90e03d",
   "metadata": {},
   "outputs": [
    {
     "data": {
      "text/plain": [
       "False"
      ]
     },
     "execution_count": 74,
     "metadata": {},
     "output_type": "execute_result"
    }
   ],
   "source": [
    "y==x"
   ]
  },
  {
   "cell_type": "markdown",
   "id": "c6083c91-26e9-47a8-9913-90b6a0ab608c",
   "metadata": {},
   "source": [
    "Assigment Operator"
   ]
  },
  {
   "cell_type": "markdown",
   "id": "7cd843e3-165e-42fb-92c9-a25ac63d55a1",
   "metadata": {},
   "source": [
    "Assignment: =, +=, -=, *=, /=, %=, **=, //="
   ]
  },
  {
   "cell_type": "code",
   "execution_count": 11,
   "id": "be42639f-70ce-433c-85e6-40a1145cf0d0",
   "metadata": {},
   "outputs": [],
   "source": [
    "a = 4\n"
   ]
  },
  {
   "cell_type": "code",
   "execution_count": 7,
   "id": "1bf09ab0-5c0a-4d78-a9ce-043b15456249",
   "metadata": {},
   "outputs": [],
   "source": [
    "a +=3"
   ]
  },
  {
   "cell_type": "code",
   "execution_count": 9,
   "id": "19c477f1-adf1-40f2-a3d3-296d5ac6187e",
   "metadata": {},
   "outputs": [
    {
     "data": {
      "text/plain": [
       "6"
      ]
     },
     "execution_count": 9,
     "metadata": {},
     "output_type": "execute_result"
    }
   ],
   "source": [
    "a"
   ]
  },
  {
   "cell_type": "code",
   "execution_count": 13,
   "id": "608ed119-bc3f-4a6c-8e8f-80815f8fab79",
   "metadata": {},
   "outputs": [],
   "source": [
    "a = a+3"
   ]
  },
  {
   "cell_type": "code",
   "execution_count": 15,
   "id": "17be651c-3e36-4e94-9a74-1627df0aed0b",
   "metadata": {},
   "outputs": [],
   "source": [
    "b=5\n",
    "b-=2"
   ]
  },
  {
   "cell_type": "code",
   "execution_count": 17,
   "id": "da32e4d4-d0b0-497c-a3d5-bc4f7b2b0363",
   "metadata": {},
   "outputs": [
    {
     "data": {
      "text/plain": [
       "3"
      ]
     },
     "execution_count": 17,
     "metadata": {},
     "output_type": "execute_result"
    }
   ],
   "source": [
    "b"
   ]
  },
  {
   "cell_type": "code",
   "execution_count": 19,
   "id": "6ce8e7e5-9170-43b0-b569-e95d1ad86d5c",
   "metadata": {},
   "outputs": [],
   "source": [
    "b = b-3"
   ]
  },
  {
   "cell_type": "code",
   "execution_count": 21,
   "id": "9c66fb19-be55-435b-bacc-d861cca0ee81",
   "metadata": {},
   "outputs": [],
   "source": [
    "c = 4\n",
    "c*=2"
   ]
  },
  {
   "cell_type": "code",
   "execution_count": 23,
   "id": "dbb82a8e-849c-4300-b2ca-8aee7f124783",
   "metadata": {},
   "outputs": [
    {
     "data": {
      "text/plain": [
       "8"
      ]
     },
     "execution_count": 23,
     "metadata": {},
     "output_type": "execute_result"
    }
   ],
   "source": [
    "c"
   ]
  },
  {
   "cell_type": "code",
   "execution_count": 25,
   "id": "4df39171-3a39-46ce-bb1c-64899276b064",
   "metadata": {},
   "outputs": [],
   "source": [
    "c = c*2"
   ]
  },
  {
   "cell_type": "code",
   "execution_count": 27,
   "id": "a6a5d1ff-0d80-42ce-8243-3df64f5ef397",
   "metadata": {},
   "outputs": [],
   "source": [
    "d = 10"
   ]
  },
  {
   "cell_type": "code",
   "execution_count": 29,
   "id": "d749bab5-cbcf-478c-99db-b72b44cd5124",
   "metadata": {},
   "outputs": [],
   "source": [
    "d/=2"
   ]
  },
  {
   "cell_type": "code",
   "execution_count": 31,
   "id": "603a8c03-7931-47e0-80da-7928986ef07c",
   "metadata": {},
   "outputs": [
    {
     "data": {
      "text/plain": [
       "5.0"
      ]
     },
     "execution_count": 31,
     "metadata": {},
     "output_type": "execute_result"
    }
   ],
   "source": [
    "d"
   ]
  },
  {
   "cell_type": "code",
   "execution_count": 33,
   "id": "d43cdb85-26d8-43fd-b49f-9be2c7475ad7",
   "metadata": {},
   "outputs": [],
   "source": [
    "d = d/2"
   ]
  },
  {
   "cell_type": "code",
   "execution_count": 35,
   "id": "479db395-7f67-426d-a21b-e6d2075d04ab",
   "metadata": {},
   "outputs": [],
   "source": [
    "e = 5\n"
   ]
  },
  {
   "cell_type": "code",
   "execution_count": 37,
   "id": "c232e015-a6bd-4928-97a3-a69f7b6560b1",
   "metadata": {},
   "outputs": [],
   "source": [
    "e%=2#remainder"
   ]
  },
  {
   "cell_type": "code",
   "execution_count": 39,
   "id": "0d9c3be3-8346-45d7-ac05-304a80049ec9",
   "metadata": {},
   "outputs": [
    {
     "data": {
      "text/plain": [
       "1"
      ]
     },
     "execution_count": 39,
     "metadata": {},
     "output_type": "execute_result"
    }
   ],
   "source": [
    "e"
   ]
  },
  {
   "cell_type": "code",
   "execution_count": 41,
   "id": "5442f578-7007-4203-ad64-6e53dd6d9f9b",
   "metadata": {},
   "outputs": [],
   "source": [
    "f = 2"
   ]
  },
  {
   "cell_type": "code",
   "execution_count": 43,
   "id": "f8002bd2-a783-47b8-87d1-a1a803c94727",
   "metadata": {},
   "outputs": [],
   "source": [
    "f**=3"
   ]
  },
  {
   "cell_type": "code",
   "execution_count": 45,
   "id": "db9c8c36-e9f7-463d-965d-c662b033aee5",
   "metadata": {},
   "outputs": [
    {
     "data": {
      "text/plain": [
       "8"
      ]
     },
     "execution_count": 45,
     "metadata": {},
     "output_type": "execute_result"
    }
   ],
   "source": [
    "f"
   ]
  },
  {
   "cell_type": "code",
   "execution_count": 47,
   "id": "75bb760a-f17d-4218-b0fd-1ad83ff766b2",
   "metadata": {},
   "outputs": [],
   "source": [
    "g= 5\n"
   ]
  },
  {
   "cell_type": "code",
   "execution_count": 49,
   "id": "d34d855b-ba49-4a02-8950-77d0cc224d23",
   "metadata": {},
   "outputs": [],
   "source": [
    "g//=2#devident"
   ]
  },
  {
   "cell_type": "code",
   "execution_count": 51,
   "id": "7700757f-ba53-4863-8350-538efcb312d9",
   "metadata": {},
   "outputs": [
    {
     "data": {
      "text/plain": [
       "2"
      ]
     },
     "execution_count": 51,
     "metadata": {},
     "output_type": "execute_result"
    }
   ],
   "source": [
    "g"
   ]
  },
  {
   "cell_type": "code",
   "execution_count": 53,
   "id": "d0e7da42-7995-4718-a6e6-6b05e284d6de",
   "metadata": {},
   "outputs": [],
   "source": [
    "a= 9"
   ]
  },
  {
   "cell_type": "code",
   "execution_count": 57,
   "id": "0a062cf5-6567-427c-bcdc-7513509dd7ab",
   "metadata": {},
   "outputs": [],
   "source": [
    "a +=9"
   ]
  },
  {
   "cell_type": "code",
   "execution_count": 59,
   "id": "a29ba619-4938-4110-a369-1bccbd3c537d",
   "metadata": {},
   "outputs": [
    {
     "data": {
      "text/plain": [
       "18"
      ]
     },
     "execution_count": 59,
     "metadata": {},
     "output_type": "execute_result"
    }
   ],
   "source": [
    "a"
   ]
  },
  {
   "cell_type": "code",
   "execution_count": 61,
   "id": "4ceae42f-129a-4550-95fb-0d9d6e289d90",
   "metadata": {},
   "outputs": [],
   "source": [
    "a =a+9"
   ]
  },
  {
   "cell_type": "code",
   "execution_count": 63,
   "id": "8adfaac3-3a83-4c06-8173-6a9daf39fb33",
   "metadata": {},
   "outputs": [],
   "source": [
    "c= 9\n",
    "d -=5"
   ]
  },
  {
   "cell_type": "code",
   "execution_count": 65,
   "id": "56a58740-a2ac-4347-98b9-190f2a17ab6a",
   "metadata": {},
   "outputs": [
    {
     "data": {
      "text/plain": [
       "-2.5"
      ]
     },
     "execution_count": 65,
     "metadata": {},
     "output_type": "execute_result"
    }
   ],
   "source": [
    "d"
   ]
  },
  {
   "cell_type": "code",
   "execution_count": 67,
   "id": "aff0ed73-f05a-4114-a76a-7032fe353c1d",
   "metadata": {},
   "outputs": [],
   "source": [
    " d =d-4"
   ]
  },
  {
   "cell_type": "code",
   "execution_count": 69,
   "id": "1346d7c0-50ec-4a38-ab42-df1621c17a06",
   "metadata": {},
   "outputs": [],
   "source": [
    "c= 9\n",
    "d= 4"
   ]
  },
  {
   "cell_type": "code",
   "execution_count": 71,
   "id": "7d58c9cb-8c4a-4e15-8dae-1ab9d5325c49",
   "metadata": {},
   "outputs": [],
   "source": [
    "d=  6\n",
    "f=  6"
   ]
  },
  {
   "cell_type": "code",
   "execution_count": 75,
   "id": "96d581a0-b30a-4597-a36b-6028787e5f2b",
   "metadata": {},
   "outputs": [],
   "source": [
    "f %=6"
   ]
  },
  {
   "cell_type": "code",
   "execution_count": 77,
   "id": "40d285f7-c0a1-44ca-befe-31a14e0715f4",
   "metadata": {},
   "outputs": [
    {
     "data": {
      "text/plain": [
       "0"
      ]
     },
     "execution_count": 77,
     "metadata": {},
     "output_type": "execute_result"
    }
   ],
   "source": [
    "f"
   ]
  },
  {
   "cell_type": "code",
   "execution_count": 85,
   "id": "7276cbd8-4265-4662-92d1-b0d4ea6a2679",
   "metadata": {},
   "outputs": [],
   "source": [
    "r =44\n",
    "f =99"
   ]
  },
  {
   "cell_type": "code",
   "execution_count": 89,
   "id": "d39ed4fc-91a7-4b67-965b-f3102deee456",
   "metadata": {},
   "outputs": [],
   "source": [
    "f %=r"
   ]
  },
  {
   "cell_type": "code",
   "execution_count": 91,
   "id": "b4d539eb-cd61-4a1d-a7c2-61f6d329e1ca",
   "metadata": {},
   "outputs": [
    {
     "data": {
      "text/plain": [
       "11"
      ]
     },
     "execution_count": 91,
     "metadata": {},
     "output_type": "execute_result"
    }
   ],
   "source": [
    "f"
   ]
  },
  {
   "cell_type": "code",
   "execution_count": 93,
   "id": "7eae8978-ebc5-45c4-ba23-270302e74c22",
   "metadata": {},
   "outputs": [
    {
     "data": {
      "text/plain": [
       "11"
      ]
     },
     "execution_count": 93,
     "metadata": {},
     "output_type": "execute_result"
    }
   ],
   "source": [
    "99%44"
   ]
  },
  {
   "cell_type": "code",
   "execution_count": 95,
   "id": "697f333c-a0a1-4088-a291-326de11c6be2",
   "metadata": {},
   "outputs": [
    {
     "data": {
      "text/plain": [
       "1"
      ]
     },
     "execution_count": 95,
     "metadata": {},
     "output_type": "execute_result"
    }
   ],
   "source": [
    "9%4"
   ]
  },
  {
   "cell_type": "code",
   "execution_count": 97,
   "id": "e54bf028-be84-49af-aeea-a894815205ea",
   "metadata": {},
   "outputs": [
    {
     "data": {
      "text/plain": [
       "1"
      ]
     },
     "execution_count": 97,
     "metadata": {},
     "output_type": "execute_result"
    }
   ],
   "source": [
    "5%4"
   ]
  },
  {
   "cell_type": "markdown",
   "id": "8a912a5f-489d-48b6-9ce2-b33edb7c503a",
   "metadata": {},
   "source": [
    "Membership Operator"
   ]
  },
  {
   "cell_type": "markdown",
   "id": "a34ddd7c-64e6-4a0c-a10a-ed4aef63c967",
   "metadata": {},
   "source": [
    "(in & not in)"
   ]
  },
  {
   "cell_type": "code",
   "execution_count": 106,
   "id": "20735955-34ef-45e9-885a-4331f09a2900",
   "metadata": {},
   "outputs": [
    {
     "name": "stdout",
     "output_type": "stream",
     "text": [
      "True\n",
      "False\n"
     ]
    }
   ],
   "source": [
    "x = \"faridabad\"\n",
    "print(\"f\" in x)\n",
    "print(\"f\" not in x)"
   ]
  },
  {
   "cell_type": "code",
   "execution_count": 114,
   "id": "4cf5553d-7c8b-4e03-9b50-03f400edd17a",
   "metadata": {},
   "outputs": [
    {
     "name": "stdout",
     "output_type": "stream",
     "text": [
      "True\n",
      "True\n",
      "True\n",
      "False\n"
     ]
    }
   ],
   "source": [
    "x = [0, 6, 9,]\n",
    "print(0 in x)\n",
    "print(6 in x)\n",
    "print(9 in x)\n",
    "print(4 in x)"
   ]
  },
  {
   "cell_type": "code",
   "execution_count": 116,
   "id": "1ea37ab5-0b57-4f77-9e81-c1c62be56465",
   "metadata": {},
   "outputs": [
    {
     "name": "stdout",
     "output_type": "stream",
     "text": [
      "True\n"
     ]
    }
   ],
   "source": [
    "x = (1, 6, 6)\n",
    "print(1 in x)\n"
   ]
  },
  {
   "cell_type": "code",
   "execution_count": 118,
   "id": "0951b9d5-9165-456a-8b5f-fc96f620368d",
   "metadata": {},
   "outputs": [
    {
     "name": "stdout",
     "output_type": "stream",
     "text": [
      "True\n"
     ]
    }
   ],
   "source": [
    "x = (1, 6, 6)\n",
    "print(6 in x)\n"
   ]
  },
  {
   "cell_type": "code",
   "execution_count": 132,
   "id": "8792669d-6383-4610-a69d-b0c946359f52",
   "metadata": {},
   "outputs": [
    {
     "name": "stdout",
     "output_type": "stream",
     "text": [
      "True\n",
      "True\n",
      "True\n",
      "True\n",
      "True\n",
      "False\n",
      "False\n",
      "False\n",
      "False\n",
      "False\n"
     ]
    }
   ],
   "source": [
    "v = {22,44,55,66,77}\n",
    "print(22 in v)\n",
    "print(44 in v)\n",
    "print(55 in v)\n",
    "print(66 in v)\n",
    "print(77 in v)\n",
    "print(20 in x)\n",
    "print(30 in x)\n",
    "print(40 in x)\n",
    "print(50 in x)\n",
    "print(60 in x)"
   ]
  },
  {
   "cell_type": "code",
   "execution_count": null,
   "id": "32e4af72-82b6-427c-a258-6447e7dfee42",
   "metadata": {},
   "outputs": [],
   "source": []
  },
  {
   "cell_type": "code",
   "execution_count": null,
   "id": "d91a8aea-8284-4fba-ad86-d132308339f3",
   "metadata": {},
   "outputs": [],
   "source": []
  },
  {
   "cell_type": "code",
   "execution_count": null,
   "id": "c7028005-6c2b-4f01-b8fc-c9c1ccdd20de",
   "metadata": {},
   "outputs": [],
   "source": []
  },
  {
   "cell_type": "code",
   "execution_count": null,
   "id": "db76abe5-25f6-4c65-8167-ea90d67668c7",
   "metadata": {},
   "outputs": [],
   "source": []
  },
  {
   "cell_type": "code",
   "execution_count": null,
   "id": "4c62ccea-8c3f-4c28-97b2-7e6018392794",
   "metadata": {},
   "outputs": [],
   "source": []
  },
  {
   "cell_type": "code",
   "execution_count": null,
   "id": "3bdce88c-162a-4cec-9073-8f1b820a220d",
   "metadata": {},
   "outputs": [],
   "source": []
  }
 ],
 "metadata": {
  "kernelspec": {
   "display_name": "Python [conda env:base] *",
   "language": "python",
   "name": "conda-base-py"
  },
  "language_info": {
   "codemirror_mode": {
    "name": "ipython",
    "version": 3
   },
   "file_extension": ".py",
   "mimetype": "text/x-python",
   "name": "python",
   "nbconvert_exporter": "python",
   "pygments_lexer": "ipython3",
   "version": "3.12.7"
  }
 },
 "nbformat": 4,
 "nbformat_minor": 5
}
