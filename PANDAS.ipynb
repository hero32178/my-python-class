{
 "cells": [
  {
   "cell_type": "markdown",
   "id": "1c529d92-5aaa-4c55-9879-ffe822be4bf6",
   "metadata": {},
   "source": [
    "# Pandas"
   ]
  },
  {
   "cell_type": "markdown",
   "id": "35e15c90-0317-4290-bc5c-6ba7d5853717",
   "metadata": {},
   "source": [
    ".Pandas is a python library using work with data set "
   ]
  },
  {
   "cell_type": "markdown",
   "id": "0d017557-84ab-452d-852a-94e6bc66f53f",
   "metadata": {},
   "source": [
    ".It has function for analyzing cleaning exploring and manipulating data"
   ]
  },
  {
   "cell_type": "markdown",
   "id": "6894c09d-63fd-4398-96a9-de7eda45f5ad",
   "metadata": {},
   "source": [
    ".Read and write data structure and different formare: csv,json,zip"
   ]
  },
  {
   "cell_type": "markdown",
   "id": "94f49cc2-d2d3-499a-a8ba-4ebca210f81f",
   "metadata": {},
   "source": [
    "## Important of python"
   ]
  },
  {
   "cell_type": "markdown",
   "id": "44bc5564-182b-4664-bdce-09579847cb75",
   "metadata": {},
   "source": [
    ".pandas allows use to analyse big data and make calculation based on statisticals theory"
   ]
  },
  {
   "cell_type": "markdown",
   "id": "3b76eefa-7b12-4483-b07e-2f8c497afac2",
   "metadata": {},
   "source": [
    ".pandas can clean messy data set and make them redable relevant"
   ]
  },
  {
   "cell_type": "markdown",
   "id": "937867e7-293e-4e4f-b2a2-82582924c7da",
   "metadata": {},
   "source": [
    ".eassy handling of missing data"
   ]
  },
  {
   "cell_type": "markdown",
   "id": "33f2fc07-8a43-4197-8697-0085a36eea85",
   "metadata": {},
   "source": [
    ".Data set merging and joining.flexible reshaping and pivoting time series functionality"
   ]
  },
  {
   "cell_type": "markdown",
   "id": "780a9cbe-4a55-4fe5-9c0b-a0c1a049b39e",
   "metadata": {},
   "source": [
    "## Data structure in pandas"
   ]
  },
  {
   "cell_type": "markdown",
   "id": "f016ffd0-9e55-41bb-aa55-68cf58953ee3",
   "metadata": {},
   "source": [
    "1:- Series it is deffined as one dimensional array that is cappable for storing various data type"
   ]
  },
  {
   "cell_type": "markdown",
   "id": "906ad427-47a7-4690-8aeb-12c59add76ae",
   "metadata": {},
   "source": [
    "2:-Data frame it is deffined as two dimemsional array that is labeled data structure in the python pandas library"
   ]
  },
  {
   "cell_type": "markdown",
   "id": "8333dad8-e09e-44e0-80f8-30dffdf0acf4",
   "metadata": {},
   "source": [
    "## Series"
   ]
  },
  {
   "cell_type": "code",
   "execution_count": 14,
   "id": "7fb81373-3456-45cc-8ec3-d10e244ba71a",
   "metadata": {},
   "outputs": [],
   "source": [
    "import pandas as pd"
   ]
  },
  {
   "cell_type": "code",
   "execution_count": 18,
   "id": "b7d0b628-c8c6-4444-9cea-ae8203a1ed0f",
   "metadata": {},
   "outputs": [
    {
     "name": "stdout",
     "output_type": "stream",
     "text": [
      "0    1\n",
      "1    2\n",
      "2    3\n",
      "3    4\n",
      "dtype: int64\n"
     ]
    }
   ],
   "source": [
    "a = pd.Series([1,2,3,4])\n",
    "print(a)"
   ]
  },
  {
   "cell_type": "code",
   "execution_count": 22,
   "id": "7dd38127-a572-426a-8e64-a539e46d4b46",
   "metadata": {},
   "outputs": [
    {
     "data": {
      "text/plain": [
       "0    vishesh\n",
       "1    sangwan\n",
       "dtype: object"
      ]
     },
     "execution_count": 22,
     "metadata": {},
     "output_type": "execute_result"
    }
   ],
   "source": [
    "# string\n",
    "a = ['vishesh','sangwan']\n",
    "pd.Series(a)"
   ]
  },
  {
   "cell_type": "code",
   "execution_count": 42,
   "id": "3971c629-8e1b-4cba-94ad-e7963a591abc",
   "metadata": {},
   "outputs": [
    {
     "data": {
      "text/plain": [
       "english    50\n",
       "hindi      60\n",
       "maths      70\n",
       "english    80\n",
       "Name: vishesh, dtype: int64"
      ]
     },
     "execution_count": 42,
     "metadata": {},
     "output_type": "execute_result"
    }
   ],
   "source": [
    "# string \n",
    "marks = [50,60,70,80]\n",
    "subject = ['english','hindi','maths','english']\n",
    "pd.Series(marks,index=subject,name='vishesh')"
   ]
  },
  {
   "cell_type": "code",
   "execution_count": 82,
   "id": "6a64797a-0a48-4e09-9c76-dfa48ad26f5f",
   "metadata": {},
   "outputs": [
    {
     "data": {
      "text/plain": [
       "volvo        50\n",
       "bmw          60\n",
       "mahindra     20\n",
       "suzuki       33\n",
       "maruti       21\n",
       "hyundai     100\n",
       "Name: vishesh, dtype: int64"
      ]
     },
     "execution_count": 82,
     "metadata": {},
     "output_type": "execute_result"
    }
   ],
   "source": [
    "models = {'volvo':50,'bmw':60,'mahindra':20,'suzuki':33,'maruti' :21, 'hyundai' :100}\n",
    "models_1=pd.Series(models,name='vishesh')\n",
    "models_1"
   ]
  },
  {
   "cell_type": "code",
   "execution_count": 78,
   "id": "19ee1a31-865e-4d3e-8a6f-7fb5e18b7094",
   "metadata": {},
   "outputs": [
    {
     "data": {
      "text/plain": [
       "6"
      ]
     },
     "execution_count": 78,
     "metadata": {},
     "output_type": "execute_result"
    }
   ],
   "source": [
    "models_1.size"
   ]
  },
  {
   "cell_type": "code",
   "execution_count": 76,
   "id": "2a1c5224-c641-4235-b5ba-8823e723a1e3",
   "metadata": {},
   "outputs": [
    {
     "data": {
      "text/plain": [
       "dtype('int64')"
      ]
     },
     "execution_count": 76,
     "metadata": {},
     "output_type": "execute_result"
    }
   ],
   "source": [
    "models_1.dtype"
   ]
  },
  {
   "cell_type": "code",
   "execution_count": 64,
   "id": "601fa999-a1a6-4dcb-b66c-812de84758df",
   "metadata": {},
   "outputs": [
    {
     "data": {
      "text/plain": [
       "'vishesh'"
      ]
     },
     "execution_count": 64,
     "metadata": {},
     "output_type": "execute_result"
    }
   ],
   "source": [
    "models_1.name"
   ]
  },
  {
   "cell_type": "code",
   "execution_count": 80,
   "id": "714295c6-dc73-4c0d-aff4-a6ace90fe46c",
   "metadata": {},
   "outputs": [
    {
     "data": {
      "text/plain": [
       "Index(['volvo', 'bmw', 'mahindra', 'suzuki', 'maruti', 'hyundai'], dtype='object')"
      ]
     },
     "execution_count": 80,
     "metadata": {},
     "output_type": "execute_result"
    }
   ],
   "source": [
    "models_1.index"
   ]
  },
  {
   "cell_type": "code",
   "execution_count": 88,
   "id": "c019f766-bbc9-4b02-a326-13066e227bb8",
   "metadata": {},
   "outputs": [
    {
     "data": {
      "text/plain": [
       "True"
      ]
     },
     "execution_count": 88,
     "metadata": {},
     "output_type": "execute_result"
    }
   ],
   "source": [
    "models_1.is_unique"
   ]
  },
  {
   "cell_type": "code",
   "execution_count": null,
   "id": "5b6248e3-ce25-4a7a-8d2d-baf3809afa16",
   "metadata": {},
   "outputs": [],
   "source": []
  }
 ],
 "metadata": {
  "kernelspec": {
   "display_name": "Python [conda env:base] *",
   "language": "python",
   "name": "conda-base-py"
  },
  "language_info": {
   "codemirror_mode": {
    "name": "ipython",
    "version": 3
   },
   "file_extension": ".py",
   "mimetype": "text/x-python",
   "name": "python",
   "nbconvert_exporter": "python",
   "pygments_lexer": "ipython3",
   "version": "3.12.7"
  }
 },
 "nbformat": 4,
 "nbformat_minor": 5
}
