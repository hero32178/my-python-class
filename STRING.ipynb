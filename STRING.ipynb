{
 "cells": [
  {
   "cell_type": "markdown",
   "id": "5eaa8bd6-c07c-4f22-a01c-6f9fcfc7ffab",
   "metadata": {},
   "source": [
    "STRINGS\n",
    "\n",
    "Seq. of Chars\n",
    "\n",
    "In Python: Unicode Chars\n",
    "\n",
    "Ops:\n",
    "\n",
    "Create\n",
    "Access\n",
    "Add Chars\n",
    "Edit\n",
    "Delete\n",
    "Ops on Strings\n",
    "String Functions"
   ]
  },
  {
   "cell_type": "markdown",
   "id": "d6942e1d-8bf3-4231-a9ce-9cbb52cca899",
   "metadata": {},
   "source": [
    "CREATE"
   ]
  },
  {
   "cell_type": "code",
   "execution_count": 3,
   "id": "46b258ee-731b-41a5-ab6e-6ae8b5a58250",
   "metadata": {},
   "outputs": [
    {
     "name": "stdout",
     "output_type": "stream",
     "text": [
      "Hello vishesh\n"
     ]
    }
   ],
   "source": [
    "c = 'Hello vishesh'\n",
    "print(c)"
   ]
  },
  {
   "cell_type": "code",
   "execution_count": 5,
   "id": "41dbbe26-d2c3-49af-a22c-34796e9b0fb1",
   "metadata": {},
   "outputs": [
    {
     "name": "stdout",
     "output_type": "stream",
     "text": [
      "Hello vishesh\n"
     ]
    }
   ],
   "source": [
    "c = \"Hello vishesh\"\n",
    "print(c)"
   ]
  },
  {
   "cell_type": "code",
   "execution_count": 11,
   "id": "2ee20701-5199-4dcd-877c-ea81d423201f",
   "metadata": {},
   "outputs": [
    {
     "data": {
      "text/plain": [
       "\"it's a very hot today\""
      ]
     },
     "execution_count": 11,
     "metadata": {},
     "output_type": "execute_result"
    }
   ],
   "source": [
    "\"it's a very hot today\""
   ]
  },
  {
   "cell_type": "code",
   "execution_count": 13,
   "id": "6a401527-8e4b-4808-a1ac-c179faff8c53",
   "metadata": {},
   "outputs": [
    {
     "data": {
      "text/plain": [
       "'today is my chest day in gym'"
      ]
     },
     "execution_count": 13,
     "metadata": {},
     "output_type": "execute_result"
    }
   ],
   "source": [
    "\"today is my chest day in gym\""
   ]
  },
  {
   "cell_type": "code",
   "execution_count": 17,
   "id": "76c3abb6-bfa3-45af-ab7e-26c13d73567f",
   "metadata": {},
   "outputs": [
    {
     "data": {
      "text/plain": [
       "'we all have to go to the gym everyday to make our body fit and healthy'"
      ]
     },
     "execution_count": 17,
     "metadata": {},
     "output_type": "execute_result"
    }
   ],
   "source": [
    "\"we all have to go to the gym everyday to make our body fit and healthy\""
   ]
  },
  {
   "cell_type": "code",
   "execution_count": 19,
   "id": "00fea4b9-d7a6-48dc-888a-73fc9bc933b7",
   "metadata": {},
   "outputs": [
    {
     "name": "stdout",
     "output_type": "stream",
     "text": [
      "hello vishesh\n"
     ]
    }
   ],
   "source": [
    "c = \"\"\"hello vishesh\"\"\"\n",
    "print(c)"
   ]
  },
  {
   "cell_type": "code",
   "execution_count": 31,
   "id": "1be6dcba-aca2-4fa4-bd66-ddc774d5717e",
   "metadata": {},
   "outputs": [
    {
     "name": "stdout",
     "output_type": "stream",
     "text": [
      "vishesh sangwan\n"
     ]
    }
   ],
   "source": [
    "c = \"\"\"vishesh sangwan\"\"\"\n",
    "print(c)"
   ]
  },
  {
   "cell_type": "code",
   "execution_count": 39,
   "id": "4e0dc67a-2e79-4c57-b4b0-77237decba9a",
   "metadata": {},
   "outputs": [
    {
     "name": "stdout",
     "output_type": "stream",
     "text": [
      "hello world\n"
     ]
    }
   ],
   "source": [
    "c = str(\"hello world\")\n",
    "print (c)"
   ]
  },
  {
   "cell_type": "code",
   "execution_count": 41,
   "id": "5cde8295-99fe-44ea-9f61-8b4a38648270",
   "metadata": {},
   "outputs": [
    {
     "data": {
      "text/plain": [
       "'hello world'"
      ]
     },
     "execution_count": 41,
     "metadata": {},
     "output_type": "execute_result"
    }
   ],
   "source": [
    "c = str(\"hello world\")\n",
    "c"
   ]
  },
  {
   "cell_type": "code",
   "execution_count": 55,
   "id": "094b3ff9-c78d-4b6a-b93f-786927193ba4",
   "metadata": {},
   "outputs": [
    {
     "data": {
      "text/plain": [
       "'vishesh sangwan'"
      ]
     },
     "execution_count": 55,
     "metadata": {},
     "output_type": "execute_result"
    }
   ],
   "source": [
    "c = str(\"vishesh sangwan\")\n",
    "c"
   ]
  },
  {
   "cell_type": "code",
   "execution_count": 57,
   "id": "ffaebbd0-341c-4385-aa62-868b5c11b57e",
   "metadata": {},
   "outputs": [
    {
     "name": "stdout",
     "output_type": "stream",
     "text": [
      "vishesh sangwan\n"
     ]
    }
   ],
   "source": [
    "c = str(\"vishesh sangwan\")\n",
    "print(c)"
   ]
  },
  {
   "cell_type": "markdown",
   "id": "d24100f8-f7ab-46ac-8e4c-a567587b0120",
   "metadata": {},
   "source": [
    "2. ACCESS\n",
    "Accessing Substrings from a String"
   ]
  },
  {
   "cell_type": "code",
   "execution_count": 63,
   "id": "2bd9eef5-2a12-4b36-88bb-0f0c15342c3f",
   "metadata": {},
   "outputs": [
    {
     "name": "stdout",
     "output_type": "stream",
     "text": [
      "hello\n"
     ]
    }
   ],
   "source": [
    "# Concept of Indexing\n",
    "c = \"hello\"\n",
    "print(c)"
   ]
  },
  {
   "cell_type": "code",
   "execution_count": 65,
   "id": "5ea3f8d3-619d-4ff3-9ce4-299b55202315",
   "metadata": {},
   "outputs": [
    {
     "data": {
      "text/plain": [
       "'l'"
      ]
     },
     "execution_count": 65,
     "metadata": {},
     "output_type": "execute_result"
    }
   ],
   "source": [
    "c[2]"
   ]
  },
  {
   "cell_type": "code",
   "execution_count": 76,
   "id": "7a57b35a-a5ce-4f95-ad3f-0e4fd8f56e59",
   "metadata": {},
   "outputs": [
    {
     "name": "stdout",
     "output_type": "stream",
     "text": [
      "o\n"
     ]
    }
   ],
   "source": [
    "print(c[4])"
   ]
  },
  {
   "cell_type": "markdown",
   "id": "5558323d-34b2-486c-81c6-22593742c30d",
   "metadata": {},
   "source": [
    "Indexing Types:\n",
    "\n",
    "Positive\n",
    "Negative"
   ]
  },
  {
   "cell_type": "code",
   "execution_count": 79,
   "id": "fb3e0bad-0853-4c02-826c-bc3da8f226df",
   "metadata": {},
   "outputs": [
    {
     "data": {
      "text/plain": [
       "'hello'"
      ]
     },
     "execution_count": 79,
     "metadata": {},
     "output_type": "execute_result"
    }
   ],
   "source": [
    "c"
   ]
  },
  {
   "cell_type": "code",
   "execution_count": 81,
   "id": "6a9eabc0-390f-4519-8fc6-63b4d4a7fe92",
   "metadata": {},
   "outputs": [
    {
     "name": "stdout",
     "output_type": "stream",
     "text": [
      "o\n"
     ]
    }
   ],
   "source": [
    "print(c[-1])"
   ]
  },
  {
   "cell_type": "code",
   "execution_count": 83,
   "id": "7ad6828a-e1b8-4cb3-87cf-c33d65818136",
   "metadata": {},
   "outputs": [
    {
     "name": "stdout",
     "output_type": "stream",
     "text": [
      "Hello World\n"
     ]
    }
   ],
   "source": [
    "c = \"Hello World\"\n",
    "print(c)"
   ]
  },
  {
   "cell_type": "code",
   "execution_count": 85,
   "id": "294186ba-d92b-4a91-b3e9-464e5ef1a8c0",
   "metadata": {},
   "outputs": [
    {
     "name": "stdout",
     "output_type": "stream",
     "text": [
      "Hello \n"
     ]
    }
   ],
   "source": [
    "print(c[0:6])"
   ]
  },
  {
   "cell_type": "code",
   "execution_count": 87,
   "id": "8bb71ac2-ce3e-4cfa-b3c3-ea51083b8cd5",
   "metadata": {},
   "outputs": [
    {
     "name": "stdout",
     "output_type": "stream",
     "text": [
      "llo World\n"
     ]
    }
   ],
   "source": [
    "print(c[2:])"
   ]
  },
  {
   "cell_type": "code",
   "execution_count": 89,
   "id": "ae1059ad-175d-4eb7-89df-9971a47cd0ef",
   "metadata": {},
   "outputs": [
    {
     "name": "stdout",
     "output_type": "stream",
     "text": [
      "Hell\n"
     ]
    }
   ],
   "source": [
    "print(c[:4])"
   ]
  },
  {
   "cell_type": "code",
   "execution_count": 91,
   "id": "8b219146-4245-4fee-b90e-3a9b6a147449",
   "metadata": {},
   "outputs": [
    {
     "name": "stdout",
     "output_type": "stream",
     "text": [
      "Hello World\n"
     ]
    }
   ],
   "source": [
    "print(c[:])"
   ]
  },
  {
   "cell_type": "code",
   "execution_count": 96,
   "id": "c6e345ab-c215-415d-ad66-7d7f9ff57050",
   "metadata": {},
   "outputs": [
    {
     "name": "stdout",
     "output_type": "stream",
     "text": [
      "lo\n"
     ]
    }
   ],
   "source": [
    "print(c[2:6:2])"
   ]
  },
  {
   "cell_type": "code",
   "execution_count": 98,
   "id": "effede8e-bf92-4150-a181-623591161929",
   "metadata": {},
   "outputs": [
    {
     "name": "stdout",
     "output_type": "stream",
     "text": [
      "HlW\n"
     ]
    }
   ],
   "source": [
    "print(c[0:8:3])"
   ]
  },
  {
   "cell_type": "code",
   "execution_count": 115,
   "id": "1a35317c-d3f5-408a-aebf-c93a6b276711",
   "metadata": {},
   "outputs": [
    {
     "name": "stdout",
     "output_type": "stream",
     "text": [
      "l\n"
     ]
    }
   ],
   "source": [
    "print(c[2:3:1])"
   ]
  },
  {
   "cell_type": "code",
   "execution_count": 117,
   "id": "05fdfb9e-e360-4338-be84-51c658972eaa",
   "metadata": {},
   "outputs": [
    {
     "name": "stdout",
     "output_type": "stream",
     "text": [
      "Wr\n"
     ]
    }
   ],
   "source": [
    "print (c[-5:-1:2])"
   ]
  },
  {
   "cell_type": "code",
   "execution_count": 119,
   "id": "2f65e5e6-5983-4ddf-b2b7-cacd8e87aeb1",
   "metadata": {},
   "outputs": [
    {
     "name": "stdout",
     "output_type": "stream",
     "text": [
      "dlroW olleH\n"
     ]
    }
   ],
   "source": [
    "print(c[::-1])"
   ]
  },
  {
   "cell_type": "code",
   "execution_count": 123,
   "id": "5d0f0492-59d6-471b-87d2-3d375bce1ff7",
   "metadata": {},
   "outputs": [
    {
     "name": "stdout",
     "output_type": "stream",
     "text": [
      "dlro\n"
     ]
    }
   ],
   "source": [
    "print(c[-1:-5:-1])"
   ]
  },
  {
   "cell_type": "code",
   "execution_count": 127,
   "id": "5622acd4-eed8-493f-a02c-c33b29c5135f",
   "metadata": {},
   "outputs": [],
   "source": [
    "a = \"vishesh sangwan\""
   ]
  },
  {
   "cell_type": "code",
   "execution_count": 129,
   "id": "43f16d01-5b0e-4db5-b57d-1626dc9f2bcc",
   "metadata": {},
   "outputs": [
    {
     "data": {
      "text/plain": [
       "'i'"
      ]
     },
     "execution_count": 129,
     "metadata": {},
     "output_type": "execute_result"
    }
   ],
   "source": [
    "a[1]"
   ]
  },
  {
   "cell_type": "code",
   "execution_count": 131,
   "id": "8dba41c8-1f74-47f6-984e-671db2f758f5",
   "metadata": {},
   "outputs": [
    {
     "data": {
      "text/plain": [
       "'n'"
      ]
     },
     "execution_count": 131,
     "metadata": {},
     "output_type": "execute_result"
    }
   ],
   "source": [
    "a[-1]"
   ]
  },
  {
   "cell_type": "code",
   "execution_count": 151,
   "id": "87a4f038-065c-4f59-914b-7c1170079f14",
   "metadata": {},
   "outputs": [],
   "source": [
    "a =[2.4]#slicing"
   ]
  },
  {
   "cell_type": "code",
   "execution_count": 157,
   "id": "d25c8e88-d525-4587-83c0-81b7ab5ce218",
   "metadata": {},
   "outputs": [
    {
     "data": {
      "text/plain": [
       "[2.4]"
      ]
     },
     "execution_count": 157,
     "metadata": {},
     "output_type": "execute_result"
    }
   ],
   "source": [
    "a[:2]"
   ]
  },
  {
   "cell_type": "code",
   "execution_count": null,
   "id": "56cce451-ed68-4a01-b4d4-ac4044cc8009",
   "metadata": {},
   "outputs": [],
   "source": []
  }
 ],
 "metadata": {
  "kernelspec": {
   "display_name": "Python [conda env:base] *",
   "language": "python",
   "name": "conda-base-py"
  },
  "language_info": {
   "codemirror_mode": {
    "name": "ipython",
    "version": 3
   },
   "file_extension": ".py",
   "mimetype": "text/x-python",
   "name": "python",
   "nbconvert_exporter": "python",
   "pygments_lexer": "ipython3",
   "version": "3.12.7"
  }
 },
 "nbformat": 4,
 "nbformat_minor": 5
}
