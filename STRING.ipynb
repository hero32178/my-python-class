{
 "cells": [
  {
   "cell_type": "markdown",
   "id": "5eaa8bd6-c07c-4f22-a01c-6f9fcfc7ffab",
   "metadata": {},
   "source": [
    "STRINGS\n",
    "\n",
    "Seq. of Chars\n",
    "\n",
    "In Python: Unicode Chars\n",
    "\n",
    "Ops:\n",
    "\n",
    "Create\n",
    "Access\n",
    "Add Chars\n",
    "Edit\n",
    "Delete\n",
    "Ops on Strings\n",
    "String Functions"
   ]
  },
  {
   "cell_type": "markdown",
   "id": "d6942e1d-8bf3-4231-a9ce-9cbb52cca899",
   "metadata": {},
   "source": [
    "1. CREATE\n",
    "--"
   ]
  },
  {
   "cell_type": "code",
   "execution_count": 3,
   "id": "46b258ee-731b-41a5-ab6e-6ae8b5a58250",
   "metadata": {},
   "outputs": [
    {
     "name": "stdout",
     "output_type": "stream",
     "text": [
      "Hello vishesh\n"
     ]
    }
   ],
   "source": [
    "c = 'Hello vishesh'\n",
    "print(c)"
   ]
  },
  {
   "cell_type": "code",
   "execution_count": 5,
   "id": "41dbbe26-d2c3-49af-a22c-34796e9b0fb1",
   "metadata": {},
   "outputs": [
    {
     "name": "stdout",
     "output_type": "stream",
     "text": [
      "Hello vishesh\n"
     ]
    }
   ],
   "source": [
    "c = \"Hello vishesh\"\n",
    "print(c)"
   ]
  },
  {
   "cell_type": "code",
   "execution_count": 11,
   "id": "2ee20701-5199-4dcd-877c-ea81d423201f",
   "metadata": {},
   "outputs": [
    {
     "data": {
      "text/plain": [
       "\"it's a very hot today\""
      ]
     },
     "execution_count": 11,
     "metadata": {},
     "output_type": "execute_result"
    }
   ],
   "source": [
    "\"it's a very hot today\""
   ]
  },
  {
   "cell_type": "code",
   "execution_count": 13,
   "id": "6a401527-8e4b-4808-a1ac-c179faff8c53",
   "metadata": {},
   "outputs": [
    {
     "data": {
      "text/plain": [
       "'today is my chest day in gym'"
      ]
     },
     "execution_count": 13,
     "metadata": {},
     "output_type": "execute_result"
    }
   ],
   "source": [
    "\"today is my chest day in gym\""
   ]
  },
  {
   "cell_type": "code",
   "execution_count": 17,
   "id": "76c3abb6-bfa3-45af-ab7e-26c13d73567f",
   "metadata": {},
   "outputs": [
    {
     "data": {
      "text/plain": [
       "'we all have to go to the gym everyday to make our body fit and healthy'"
      ]
     },
     "execution_count": 17,
     "metadata": {},
     "output_type": "execute_result"
    }
   ],
   "source": [
    "\"we all have to go to the gym everyday to make our body fit and healthy\""
   ]
  },
  {
   "cell_type": "code",
   "execution_count": 19,
   "id": "00fea4b9-d7a6-48dc-888a-73fc9bc933b7",
   "metadata": {},
   "outputs": [
    {
     "name": "stdout",
     "output_type": "stream",
     "text": [
      "hello vishesh\n"
     ]
    }
   ],
   "source": [
    "c = \"\"\"hello vishesh\"\"\"\n",
    "print(c)"
   ]
  },
  {
   "cell_type": "code",
   "execution_count": 31,
   "id": "1be6dcba-aca2-4fa4-bd66-ddc774d5717e",
   "metadata": {},
   "outputs": [
    {
     "name": "stdout",
     "output_type": "stream",
     "text": [
      "vishesh sangwan\n"
     ]
    }
   ],
   "source": [
    "c = \"\"\"vishesh sangwan\"\"\"\n",
    "print(c)"
   ]
  },
  {
   "cell_type": "code",
   "execution_count": 39,
   "id": "4e0dc67a-2e79-4c57-b4b0-77237decba9a",
   "metadata": {},
   "outputs": [
    {
     "name": "stdout",
     "output_type": "stream",
     "text": [
      "hello world\n"
     ]
    }
   ],
   "source": [
    "c = str(\"hello world\")\n",
    "print (c)"
   ]
  },
  {
   "cell_type": "code",
   "execution_count": 41,
   "id": "5cde8295-99fe-44ea-9f61-8b4a38648270",
   "metadata": {},
   "outputs": [
    {
     "data": {
      "text/plain": [
       "'hello world'"
      ]
     },
     "execution_count": 41,
     "metadata": {},
     "output_type": "execute_result"
    }
   ],
   "source": [
    "c = str(\"hello world\")\n",
    "c"
   ]
  },
  {
   "cell_type": "code",
   "execution_count": 55,
   "id": "094b3ff9-c78d-4b6a-b93f-786927193ba4",
   "metadata": {},
   "outputs": [
    {
     "data": {
      "text/plain": [
       "'vishesh sangwan'"
      ]
     },
     "execution_count": 55,
     "metadata": {},
     "output_type": "execute_result"
    }
   ],
   "source": [
    "c = str(\"vishesh sangwan\")\n",
    "c"
   ]
  },
  {
   "cell_type": "code",
   "execution_count": 57,
   "id": "ffaebbd0-341c-4385-aa62-868b5c11b57e",
   "metadata": {},
   "outputs": [
    {
     "name": "stdout",
     "output_type": "stream",
     "text": [
      "vishesh sangwan\n"
     ]
    }
   ],
   "source": [
    "c = str(\"vishesh sangwan\")\n",
    "print(c)"
   ]
  },
  {
   "cell_type": "markdown",
   "id": "d24100f8-f7ab-46ac-8e4c-a567587b0120",
   "metadata": {},
   "source": [
    "2. ACCESS\n",
    "   --\n",
    "Accessing Substrings from a String\n",
    "--"
   ]
  },
  {
   "cell_type": "code",
   "execution_count": 63,
   "id": "2bd9eef5-2a12-4b36-88bb-0f0c15342c3f",
   "metadata": {},
   "outputs": [
    {
     "name": "stdout",
     "output_type": "stream",
     "text": [
      "hello\n"
     ]
    }
   ],
   "source": [
    "# Concept of Indexing\n",
    "c = \"hello\"\n",
    "print(c)"
   ]
  },
  {
   "cell_type": "code",
   "execution_count": 65,
   "id": "5ea3f8d3-619d-4ff3-9ce4-299b55202315",
   "metadata": {},
   "outputs": [
    {
     "data": {
      "text/plain": [
       "'l'"
      ]
     },
     "execution_count": 65,
     "metadata": {},
     "output_type": "execute_result"
    }
   ],
   "source": [
    "c[2]"
   ]
  },
  {
   "cell_type": "code",
   "execution_count": 76,
   "id": "7a57b35a-a5ce-4f95-ad3f-0e4fd8f56e59",
   "metadata": {},
   "outputs": [
    {
     "name": "stdout",
     "output_type": "stream",
     "text": [
      "o\n"
     ]
    }
   ],
   "source": [
    "print(c[4])"
   ]
  },
  {
   "cell_type": "markdown",
   "id": "5558323d-34b2-486c-81c6-22593742c30d",
   "metadata": {},
   "source": [
    "2. Indexing Types:\n",
    "   --\n",
    "\n",
    "PositivE\n",
    "--\n",
    "Negative\n",
    "--"
   ]
  },
  {
   "cell_type": "code",
   "execution_count": 79,
   "id": "fb3e0bad-0853-4c02-826c-bc3da8f226df",
   "metadata": {},
   "outputs": [
    {
     "data": {
      "text/plain": [
       "'hello'"
      ]
     },
     "execution_count": 79,
     "metadata": {},
     "output_type": "execute_result"
    }
   ],
   "source": [
    "c"
   ]
  },
  {
   "cell_type": "code",
   "execution_count": 81,
   "id": "6a9eabc0-390f-4519-8fc6-63b4d4a7fe92",
   "metadata": {},
   "outputs": [
    {
     "name": "stdout",
     "output_type": "stream",
     "text": [
      "o\n"
     ]
    }
   ],
   "source": [
    "print(c[-1])"
   ]
  },
  {
   "cell_type": "code",
   "execution_count": 83,
   "id": "7ad6828a-e1b8-4cb3-87cf-c33d65818136",
   "metadata": {},
   "outputs": [
    {
     "name": "stdout",
     "output_type": "stream",
     "text": [
      "Hello World\n"
     ]
    }
   ],
   "source": [
    "c = \"Hello World\"\n",
    "print(c)"
   ]
  },
  {
   "cell_type": "code",
   "execution_count": 85,
   "id": "294186ba-d92b-4a91-b3e9-464e5ef1a8c0",
   "metadata": {},
   "outputs": [
    {
     "name": "stdout",
     "output_type": "stream",
     "text": [
      "Hello \n"
     ]
    }
   ],
   "source": [
    "print(c[0:6])"
   ]
  },
  {
   "cell_type": "code",
   "execution_count": 87,
   "id": "8bb71ac2-ce3e-4cfa-b3c3-ea51083b8cd5",
   "metadata": {},
   "outputs": [
    {
     "name": "stdout",
     "output_type": "stream",
     "text": [
      "llo World\n"
     ]
    }
   ],
   "source": [
    "print(c[2:])"
   ]
  },
  {
   "cell_type": "code",
   "execution_count": 89,
   "id": "ae1059ad-175d-4eb7-89df-9971a47cd0ef",
   "metadata": {},
   "outputs": [
    {
     "name": "stdout",
     "output_type": "stream",
     "text": [
      "Hell\n"
     ]
    }
   ],
   "source": [
    "print(c[:4])"
   ]
  },
  {
   "cell_type": "code",
   "execution_count": 91,
   "id": "8b219146-4245-4fee-b90e-3a9b6a147449",
   "metadata": {},
   "outputs": [
    {
     "name": "stdout",
     "output_type": "stream",
     "text": [
      "Hello World\n"
     ]
    }
   ],
   "source": [
    "print(c[:])"
   ]
  },
  {
   "cell_type": "code",
   "execution_count": 96,
   "id": "c6e345ab-c215-415d-ad66-7d7f9ff57050",
   "metadata": {},
   "outputs": [
    {
     "name": "stdout",
     "output_type": "stream",
     "text": [
      "lo\n"
     ]
    }
   ],
   "source": [
    "print(c[2:6:2])"
   ]
  },
  {
   "cell_type": "code",
   "execution_count": 98,
   "id": "effede8e-bf92-4150-a181-623591161929",
   "metadata": {},
   "outputs": [
    {
     "name": "stdout",
     "output_type": "stream",
     "text": [
      "HlW\n"
     ]
    }
   ],
   "source": [
    "print(c[0:8:3])"
   ]
  },
  {
   "cell_type": "code",
   "execution_count": 115,
   "id": "1a35317c-d3f5-408a-aebf-c93a6b276711",
   "metadata": {},
   "outputs": [
    {
     "name": "stdout",
     "output_type": "stream",
     "text": [
      "l\n"
     ]
    }
   ],
   "source": [
    "print(c[2:3:1])"
   ]
  },
  {
   "cell_type": "code",
   "execution_count": 117,
   "id": "05fdfb9e-e360-4338-be84-51c658972eaa",
   "metadata": {},
   "outputs": [
    {
     "name": "stdout",
     "output_type": "stream",
     "text": [
      "Wr\n"
     ]
    }
   ],
   "source": [
    "print (c[-5:-1:2])"
   ]
  },
  {
   "cell_type": "code",
   "execution_count": 119,
   "id": "2f65e5e6-5983-4ddf-b2b7-cacd8e87aeb1",
   "metadata": {},
   "outputs": [
    {
     "name": "stdout",
     "output_type": "stream",
     "text": [
      "dlroW olleH\n"
     ]
    }
   ],
   "source": [
    "print(c[::-1])"
   ]
  },
  {
   "cell_type": "code",
   "execution_count": 123,
   "id": "5d0f0492-59d6-471b-87d2-3d375bce1ff7",
   "metadata": {},
   "outputs": [
    {
     "name": "stdout",
     "output_type": "stream",
     "text": [
      "dlro\n"
     ]
    }
   ],
   "source": [
    "print(c[-1:-5:-1])"
   ]
  },
  {
   "cell_type": "code",
   "execution_count": 127,
   "id": "5622acd4-eed8-493f-a02c-c33b29c5135f",
   "metadata": {},
   "outputs": [],
   "source": [
    "a = \"vishesh sangwan\""
   ]
  },
  {
   "cell_type": "code",
   "execution_count": 129,
   "id": "43f16d01-5b0e-4db5-b57d-1626dc9f2bcc",
   "metadata": {},
   "outputs": [
    {
     "data": {
      "text/plain": [
       "'i'"
      ]
     },
     "execution_count": 129,
     "metadata": {},
     "output_type": "execute_result"
    }
   ],
   "source": [
    "a[1]"
   ]
  },
  {
   "cell_type": "code",
   "execution_count": 131,
   "id": "8dba41c8-1f74-47f6-984e-671db2f758f5",
   "metadata": {},
   "outputs": [
    {
     "data": {
      "text/plain": [
       "'n'"
      ]
     },
     "execution_count": 131,
     "metadata": {},
     "output_type": "execute_result"
    }
   ],
   "source": [
    "a[-1]"
   ]
  },
  {
   "cell_type": "code",
   "execution_count": 151,
   "id": "87a4f038-065c-4f59-914b-7c1170079f14",
   "metadata": {},
   "outputs": [],
   "source": [
    "a =[2.4]#slicing"
   ]
  },
  {
   "cell_type": "code",
   "execution_count": 157,
   "id": "d25c8e88-d525-4587-83c0-81b7ab5ce218",
   "metadata": {},
   "outputs": [
    {
     "data": {
      "text/plain": [
       "[2.4]"
      ]
     },
     "execution_count": 157,
     "metadata": {},
     "output_type": "execute_result"
    }
   ],
   "source": [
    "a[:2]"
   ]
  },
  {
   "cell_type": "markdown",
   "id": "a82f476c-5f15-4047-a350-d0ad4797c11d",
   "metadata": {},
   "source": [
    "3. ADD CHARS\n",
    "   --"
   ]
  },
  {
   "cell_type": "code",
   "execution_count": 6,
   "id": "8177498e-790c-48c9-8ac9-d011ae2b7fde",
   "metadata": {},
   "outputs": [],
   "source": [
    "string1 = \"vishesh\"\n",
    "string2 = 'sangwan'"
   ]
  },
  {
   "cell_type": "code",
   "execution_count": 8,
   "id": "bc110ad3-4043-4269-a56b-24adf9dc73db",
   "metadata": {},
   "outputs": [
    {
     "data": {
      "text/plain": [
       "'vishesh sangwan'"
      ]
     },
     "execution_count": 8,
     "metadata": {},
     "output_type": "execute_result"
    }
   ],
   "source": [
    "new_string = string1 + \" \" + string2\n",
    "new_string"
   ]
  },
  {
   "cell_type": "code",
   "execution_count": 10,
   "id": "78703990-1d13-406a-9f4f-e99ea5948b60",
   "metadata": {},
   "outputs": [
    {
     "data": {
      "text/plain": [
       "'vishesh sangwan'"
      ]
     },
     "execution_count": 10,
     "metadata": {},
     "output_type": "execute_result"
    }
   ],
   "source": [
    "new_string = string1 + \" \" + string2\n",
    "new_string"
   ]
  },
  {
   "cell_type": "code",
   "execution_count": 12,
   "id": "ac905cc9-c898-4b1f-96e6-0e3b3df39079",
   "metadata": {},
   "outputs": [],
   "source": [
    "string1 = \"hello\"\n",
    "string2 = \"world\""
   ]
  },
  {
   "cell_type": "code",
   "execution_count": 14,
   "id": "8147468a-05d4-4427-9d85-e99609fd0c96",
   "metadata": {},
   "outputs": [
    {
     "data": {
      "text/plain": [
       "'hello world'"
      ]
     },
     "execution_count": 14,
     "metadata": {},
     "output_type": "execute_result"
    }
   ],
   "source": [
    "new_string = string1 + \" \" + string2\n",
    "new_string"
   ]
  },
  {
   "cell_type": "code",
   "execution_count": 16,
   "id": "ce3bd09c-ef74-4f45-9c70-41da9a423ca7",
   "metadata": {},
   "outputs": [
    {
     "data": {
      "text/plain": [
       "'hello world'"
      ]
     },
     "execution_count": 16,
     "metadata": {},
     "output_type": "execute_result"
    }
   ],
   "source": [
    "new_string = string1 + \" \" + string2\n",
    "new_string"
   ]
  },
  {
   "cell_type": "markdown",
   "id": "eb28d350-63ca-4d3a-bb4d-a1fbc8403cbf",
   "metadata": {},
   "source": [
    "4. EDIT & 5. DELETE\n",
    "   --"
   ]
  },
  {
   "cell_type": "code",
   "execution_count": 20,
   "id": "4eb3436c-c0a0-43f2-b946-0d8eebffa5e9",
   "metadata": {},
   "outputs": [
    {
     "name": "stdout",
     "output_type": "stream",
     "text": [
      "vishesh\n"
     ]
    }
   ],
   "source": [
    "c = \"vishesh\"\n",
    "print(c)"
   ]
  },
  {
   "cell_type": "code",
   "execution_count": 29,
   "id": "11c7956e-8564-404c-8c72-d41fd7ded154",
   "metadata": {},
   "outputs": [
    {
     "name": "stdout",
     "output_type": "stream",
     "text": [
      "sangwan\n"
     ]
    }
   ],
   "source": [
    "c = \"sangwan\"\n",
    "print(c)"
   ]
  },
  {
   "cell_type": "code",
   "execution_count": 31,
   "id": "ad098347-2603-4042-b758-836907686717",
   "metadata": {},
   "outputs": [
    {
     "data": {
      "text/plain": [
       "'sangwan'"
      ]
     },
     "execution_count": 31,
     "metadata": {},
     "output_type": "execute_result"
    }
   ],
   "source": [
    "# Deletion\n",
    "c"
   ]
  },
  {
   "cell_type": "code",
   "execution_count": 33,
   "id": "31fc524f-f5a1-4f1c-8b97-26e421dcaf82",
   "metadata": {},
   "outputs": [],
   "source": [
    "del c"
   ]
  },
  {
   "cell_type": "code",
   "execution_count": 42,
   "id": "f13e7477-38f4-454c-b146-3edb9eaf3007",
   "metadata": {},
   "outputs": [],
   "source": [
    "c = \"hello\""
   ]
  },
  {
   "cell_type": "code",
   "execution_count": 44,
   "id": "dfade3f0-698c-4552-ade9-5e8608e54b88",
   "metadata": {},
   "outputs": [
    {
     "name": "stdout",
     "output_type": "stream",
     "text": [
      "hello\n"
     ]
    }
   ],
   "source": [
    "print(c)"
   ]
  },
  {
   "cell_type": "markdown",
   "id": "41a22f9b-12d8-4718-bed5-b27db87eed8f",
   "metadata": {},
   "source": [
    "6. Ops on String\n",
    "   ---\n",
    " Arithmetic: Concatenation (+), Repetition (*)\n",
    "---\n",
    "\n",
    "Relational: Equality (==), Inequality (!=), Comparison (<, >, <=, >=)\n",
    "Logical: and, or, not\n",
    "---\n",
    "Loops: for loop, while loop\n",
    "--\n",
    "Membership: in, not in\n",
    "--"
   ]
  },
  {
   "cell_type": "code",
   "execution_count": 55,
   "id": "27cf8d8e-00c6-44c1-8754-6c234cc05446",
   "metadata": {},
   "outputs": [
    {
     "data": {
      "text/plain": [
       "'vishesh-sangwan'"
      ]
     },
     "execution_count": 55,
     "metadata": {},
     "output_type": "execute_result"
    }
   ],
   "source": [
    "# Arithmetic\n",
    "\"vishesh\" + \"-\" + \"sangwan\""
   ]
  },
  {
   "cell_type": "code",
   "execution_count": 59,
   "id": "b745dcf5-f4dd-42df-83c1-cc58117ab62b",
   "metadata": {},
   "outputs": [
    {
     "name": "stdout",
     "output_type": "stream",
     "text": [
      "********************************************************************************\n"
     ]
    }
   ],
   "source": [
    "print(\"*\"*80)"
   ]
  },
  {
   "cell_type": "code",
   "execution_count": 65,
   "id": "d4eed825-9b15-419d-8657-59192a66a889",
   "metadata": {},
   "outputs": [
    {
     "name": "stdout",
     "output_type": "stream",
     "text": [
      "visheshvisheshvisheshvisheshvisheshvisheshvisheshvisheshvisheshvishesh\n"
     ]
    }
   ],
   "source": [
    "print(\"vishesh\"*10)"
   ]
  },
  {
   "cell_type": "code",
   "execution_count": 63,
   "id": "99a29c66-4d65-4831-972e-8a0c7aa7ea2c",
   "metadata": {},
   "outputs": [
    {
     "data": {
      "text/plain": [
       "False"
      ]
     },
     "execution_count": 63,
     "metadata": {},
     "output_type": "execute_result"
    }
   ],
   "source": [
    "# Relational\n",
    "\"Hello\" == \"World\""
   ]
  },
  {
   "cell_type": "code",
   "execution_count": 69,
   "id": "1bd35d93-974e-4fe3-bbd7-baccaf3d2cb6",
   "metadata": {},
   "outputs": [
    {
     "data": {
      "text/plain": [
       "True"
      ]
     },
     "execution_count": 69,
     "metadata": {},
     "output_type": "execute_result"
    }
   ],
   "source": [
    "\"Hello\" != \"World\""
   ]
  },
  {
   "cell_type": "code",
   "execution_count": 71,
   "id": "e6e95044-d84e-46f2-8ce4-81ea22c288f8",
   "metadata": {},
   "outputs": [
    {
     "data": {
      "text/plain": [
       "False"
      ]
     },
     "execution_count": 71,
     "metadata": {},
     "output_type": "execute_result"
    }
   ],
   "source": [
    "\"Mumbai\" > \"Pune\" # Lexiographically"
   ]
  },
  {
   "cell_type": "code",
   "execution_count": 73,
   "id": "cd09bc7f-1aa5-4609-9fb5-10ffa4836502",
   "metadata": {},
   "outputs": [
    {
     "data": {
      "text/plain": [
       "False"
      ]
     },
     "execution_count": 73,
     "metadata": {},
     "output_type": "execute_result"
    }
   ],
   "source": [
    "\"Goa\" > \"Kolkata\""
   ]
  },
  {
   "cell_type": "code",
   "execution_count": 75,
   "id": "8d8c707f-c63c-4a22-98cb-ce758bfd9129",
   "metadata": {},
   "outputs": [
    {
     "data": {
      "text/plain": [
       "False"
      ]
     },
     "execution_count": 75,
     "metadata": {},
     "output_type": "execute_result"
    }
   ],
   "source": [
    "\"kol\" < \"Kol\""
   ]
  },
  {
   "cell_type": "code",
   "execution_count": 77,
   "id": "d69318b1-3c0c-4508-9289-21e01c84fd8a",
   "metadata": {},
   "outputs": [
    {
     "data": {
      "text/plain": [
       "'World'"
      ]
     },
     "execution_count": 77,
     "metadata": {},
     "output_type": "execute_result"
    }
   ],
   "source": [
    "# Logical\n",
    "\"Hello\" and \"World\""
   ]
  },
  {
   "cell_type": "code",
   "execution_count": 85,
   "id": "1d4c9117-3c10-4e49-8832-617471467e61",
   "metadata": {},
   "outputs": [
    {
     "data": {
      "text/plain": [
       "''"
      ]
     },
     "execution_count": 85,
     "metadata": {},
     "output_type": "execute_result"
    }
   ],
   "source": [
    "\"\" and \"Hello\""
   ]
  },
  {
   "cell_type": "code",
   "execution_count": 87,
   "id": "628acdbd-77e7-4013-9c6b-ca4d948dcdef",
   "metadata": {},
   "outputs": [
    {
     "data": {
      "text/plain": [
       "'World'"
      ]
     },
     "execution_count": 87,
     "metadata": {},
     "output_type": "execute_result"
    }
   ],
   "source": [
    "\"\" or \"World\""
   ]
  },
  {
   "cell_type": "code",
   "execution_count": 89,
   "id": "e7a08cc1-08c8-468c-9148-942e671ea56a",
   "metadata": {},
   "outputs": [
    {
     "data": {
      "text/plain": [
       "'Hello'"
      ]
     },
     "execution_count": 89,
     "metadata": {},
     "output_type": "execute_result"
    }
   ],
   "source": [
    "\"Hello\" or \"World\""
   ]
  },
  {
   "cell_type": "code",
   "execution_count": 91,
   "id": "0ae00176-a8e9-4e4a-b329-0bf38cfe0a96",
   "metadata": {},
   "outputs": [
    {
     "data": {
      "text/plain": [
       "'World'"
      ]
     },
     "execution_count": 91,
     "metadata": {},
     "output_type": "execute_result"
    }
   ],
   "source": [
    "\"Hello\" and \"World\""
   ]
  },
  {
   "cell_type": "code",
   "execution_count": 99,
   "id": "fd96b1db-4e1f-4989-a65e-1b5ba019cfaa",
   "metadata": {},
   "outputs": [
    {
     "name": "stdout",
     "output_type": "stream",
     "text": [
      "v\n",
      "i\n",
      "s\n",
      "h\n",
      "e\n",
      "s\n",
      "h\n",
      " \n",
      "s\n",
      "a\n",
      "n\n",
      "g\n",
      "w\n",
      "a\n",
      "n\n"
     ]
    }
   ],
   "source": [
    "# Loops on Strings\n",
    "c = \"vishesh sangwan\"\n",
    "for i in c:\n",
    "    print(i)"
   ]
  },
  {
   "cell_type": "code",
   "execution_count": 101,
   "id": "4ee2a6ad-ba53-4013-9a03-cc82d9f3a898",
   "metadata": {},
   "outputs": [
    {
     "name": "stdout",
     "output_type": "stream",
     "text": [
      "s\n",
      "h\n",
      "e\n",
      "s\n",
      "h\n"
     ]
    }
   ],
   "source": [
    "for i in c[2:7]:\n",
    "    print(i)"
   ]
  },
  {
   "cell_type": "code",
   "execution_count": 103,
   "id": "77b596a6-26aa-47bc-9c27-033d4a18b7f4",
   "metadata": {},
   "outputs": [
    {
     "name": "stdout",
     "output_type": "stream",
     "text": [
      "s\n",
      "e\n",
      "h\n"
     ]
    }
   ],
   "source": [
    "for i in c[2:7:2]:\n",
    "    print(i)"
   ]
  },
  {
   "cell_type": "code",
   "execution_count": 105,
   "id": "339f808a-2e01-4ec4-92b7-442cde1db3ab",
   "metadata": {},
   "outputs": [
    {
     "name": "stdout",
     "output_type": "stream",
     "text": [
      "s\n",
      "e\n",
      "h\n"
     ]
    }
   ],
   "source": [
    "for i in c[2:7:2]:\n",
    "    print(i)"
   ]
  },
  {
   "cell_type": "code",
   "execution_count": 107,
   "id": "27183946-70b4-49a6-8e81-a8c4ead81b3a",
   "metadata": {},
   "outputs": [
    {
     "name": "stdout",
     "output_type": "stream",
     "text": [
      "n\n",
      "a\n",
      "w\n",
      "g\n",
      "n\n",
      "a\n",
      "s\n",
      " \n",
      "h\n",
      "s\n",
      "e\n",
      "h\n",
      "s\n",
      "i\n",
      "v\n"
     ]
    }
   ],
   "source": [
    "for i in c[::-1]:\n",
    "    print(i)"
   ]
  },
  {
   "cell_type": "markdown",
   "id": "ca92119a-5906-40a9-a65b-fdf8e1ff5781",
   "metadata": {},
   "source": [
    "7. String Functions\n",
    "   --\n",
    " Common Functions\n",
    "   --\n",
    "len()\n",
    "--\n",
    "max()\n",
    "--\n",
    "min()\n",
    "--\n",
    "sorted()\n",
    "--"
   ]
  },
  {
   "cell_type": "code",
   "execution_count": 115,
   "id": "8e3aab55-9459-4663-9c2a-c7a2c26f3bd5",
   "metadata": {},
   "outputs": [
    {
     "data": {
      "text/plain": [
       "7"
      ]
     },
     "execution_count": 115,
     "metadata": {},
     "output_type": "execute_result"
    }
   ],
   "source": [
    "c = 'kolkata'\n",
    "len(c)"
   ]
  },
  {
   "cell_type": "code",
   "execution_count": 117,
   "id": "ea1b4242-50c3-48cc-bbb8-b22f53c9f059",
   "metadata": {},
   "outputs": [
    {
     "data": {
      "text/plain": [
       "'t'"
      ]
     },
     "execution_count": 117,
     "metadata": {},
     "output_type": "execute_result"
    }
   ],
   "source": [
    "max(c)"
   ]
  },
  {
   "cell_type": "code",
   "execution_count": 119,
   "id": "fe7815ff-1b20-44d3-84ff-cb5faccb5225",
   "metadata": {},
   "outputs": [
    {
     "data": {
      "text/plain": [
       "'a'"
      ]
     },
     "execution_count": 119,
     "metadata": {},
     "output_type": "execute_result"
    }
   ],
   "source": [
    "min(c)"
   ]
  },
  {
   "cell_type": "code",
   "execution_count": 121,
   "id": "1f79c781-d9a4-4e70-89af-178deced56a5",
   "metadata": {},
   "outputs": [
    {
     "data": {
      "text/plain": [
       "['a', 'a', 'k', 'k', 'l', 'o', 't']"
      ]
     },
     "execution_count": 121,
     "metadata": {},
     "output_type": "execute_result"
    }
   ],
   "source": [
    "sorted(c)"
   ]
  },
  {
   "cell_type": "code",
   "execution_count": 123,
   "id": "b1a2ecc7-9509-4cd6-959d-f1fa83e895cc",
   "metadata": {},
   "outputs": [
    {
     "data": {
      "text/plain": [
       "['t', 'o', 'l', 'k', 'k', 'a', 'a']"
      ]
     },
     "execution_count": 123,
     "metadata": {},
     "output_type": "execute_result"
    }
   ],
   "source": [
    "sorted(c, reverse=True)"
   ]
  },
  {
   "cell_type": "markdown",
   "id": "0a0d969e-4f33-4692-b80a-f441b2e56706",
   "metadata": {},
   "source": [
    "2. Capitalize/Title/Upper/Lower/Swapcase\n",
    "   --"
   ]
  },
  {
   "cell_type": "code",
   "execution_count": 126,
   "id": "0a358d86-f029-44e7-ae5f-3327f5a64d9c",
   "metadata": {},
   "outputs": [
    {
     "data": {
      "text/plain": [
       "'Kolkata'"
      ]
     },
     "execution_count": 126,
     "metadata": {},
     "output_type": "execute_result"
    }
   ],
   "source": [
    "c.capitalize()"
   ]
  },
  {
   "cell_type": "code",
   "execution_count": 128,
   "id": "5b0a8c2b-f7eb-4caf-a593-9a3aea633501",
   "metadata": {},
   "outputs": [
    {
     "data": {
      "text/plain": [
       "'kolkata'"
      ]
     },
     "execution_count": 128,
     "metadata": {},
     "output_type": "execute_result"
    }
   ],
   "source": [
    "c"
   ]
  },
  {
   "cell_type": "code",
   "execution_count": 130,
   "id": "6f710a92-8a73-4302-9851-2aabaa1cb440",
   "metadata": {},
   "outputs": [
    {
     "data": {
      "text/plain": [
       "'It is raining today'"
      ]
     },
     "execution_count": 130,
     "metadata": {},
     "output_type": "execute_result"
    }
   ],
   "source": [
    "'it is raining today'.capitalize()"
   ]
  },
  {
   "cell_type": "code",
   "execution_count": 132,
   "id": "770f73b1-25d5-407f-8e4a-9e4ef54044d8",
   "metadata": {},
   "outputs": [
    {
     "data": {
      "text/plain": [
       "'It Is Raining Today'"
      ]
     },
     "execution_count": 132,
     "metadata": {},
     "output_type": "execute_result"
    }
   ],
   "source": [
    "'it is raining today'.title()"
   ]
  },
  {
   "cell_type": "code",
   "execution_count": 134,
   "id": "652af4cc-1810-43d5-84ea-845943523b83",
   "metadata": {},
   "outputs": [
    {
     "data": {
      "text/plain": [
       "'kolkata'"
      ]
     },
     "execution_count": 134,
     "metadata": {},
     "output_type": "execute_result"
    }
   ],
   "source": [
    "c.upper().lower()"
   ]
  },
  {
   "cell_type": "code",
   "execution_count": 136,
   "id": "0321dacc-83b0-42cc-9cd2-3f36834eac5f",
   "metadata": {},
   "outputs": [
    {
     "data": {
      "text/plain": [
       "'kOlKaTa'"
      ]
     },
     "execution_count": 136,
     "metadata": {},
     "output_type": "execute_result"
    }
   ],
   "source": [
    "\"KoLkAtA\".swapcase()"
   ]
  },
  {
   "cell_type": "markdown",
   "id": "a20157b0-14cf-4630-9574-e012f37cbd09",
   "metadata": {},
   "source": [
    "3. COUNT\n",
    "   --"
   ]
  },
  {
   "cell_type": "code",
   "execution_count": 139,
   "id": "1df4b1cf-f77d-4ab8-8241-8b976881516f",
   "metadata": {},
   "outputs": [
    {
     "data": {
      "text/plain": [
       "4"
      ]
     },
     "execution_count": 139,
     "metadata": {},
     "output_type": "execute_result"
    }
   ],
   "source": [
    "\"it is raining\".count(\"i\")"
   ]
  },
  {
   "cell_type": "code",
   "execution_count": 141,
   "id": "1b5fa96b-450a-4d33-8a68-bf9582fbe870",
   "metadata": {},
   "outputs": [
    {
     "data": {
      "text/plain": [
       "1"
      ]
     },
     "execution_count": 141,
     "metadata": {},
     "output_type": "execute_result"
    }
   ],
   "source": [
    "\"it is raining\".count(\"ing\")"
   ]
  },
  {
   "cell_type": "code",
   "execution_count": 143,
   "id": "3e2aef06-5c53-4631-b7f7-05839ddaefcc",
   "metadata": {},
   "outputs": [
    {
     "data": {
      "text/plain": [
       "0"
      ]
     },
     "execution_count": 143,
     "metadata": {},
     "output_type": "execute_result"
    }
   ],
   "source": [
    "\"it is raining\".count(\"x\")"
   ]
  },
  {
   "cell_type": "markdown",
   "id": "489990bb-5e50-4041-a91e-056dd9a0cf34",
   "metadata": {},
   "source": [
    "4. Find/Index\n",
    "   --"
   ]
  },
  {
   "cell_type": "code",
   "execution_count": 146,
   "id": "bd47c65c-29e5-4a8b-96f3-ec5c0760d8ab",
   "metadata": {},
   "outputs": [
    {
     "data": {
      "text/plain": [
       "0"
      ]
     },
     "execution_count": 146,
     "metadata": {},
     "output_type": "execute_result"
    }
   ],
   "source": [
    "\"it is raining\".find(\"i\")"
   ]
  },
  {
   "cell_type": "code",
   "execution_count": 151,
   "id": "8952754f-a97c-4b8b-a35d-bffa068c0d22",
   "metadata": {},
   "outputs": [
    {
     "data": {
      "text/plain": [
       "12"
      ]
     },
     "execution_count": 151,
     "metadata": {},
     "output_type": "execute_result"
    }
   ],
   "source": [
    "\"it is raining\".find(\"g\")"
   ]
  },
  {
   "cell_type": "code",
   "execution_count": 153,
   "id": "d12c613f-079a-46a8-8ba1-499622d513b1",
   "metadata": {},
   "outputs": [
    {
     "data": {
      "text/plain": [
       "6"
      ]
     },
     "execution_count": 153,
     "metadata": {},
     "output_type": "execute_result"
    }
   ],
   "source": [
    "\"it is raining\".find(\"raining\")"
   ]
  },
  {
   "cell_type": "code",
   "execution_count": 155,
   "id": "b9b7c602-494c-4f0f-a7fa-023db9974ac8",
   "metadata": {},
   "outputs": [
    {
     "data": {
      "text/plain": [
       "-1"
      ]
     },
     "execution_count": 155,
     "metadata": {},
     "output_type": "execute_result"
    }
   ],
   "source": [
    "\"it is raining\".find(\"x\")"
   ]
  },
  {
   "cell_type": "code",
   "execution_count": 157,
   "id": "10cfc21c-1664-4305-90fb-67c5707b6ae4",
   "metadata": {},
   "outputs": [
    {
     "data": {
      "text/plain": [
       "6"
      ]
     },
     "execution_count": 157,
     "metadata": {},
     "output_type": "execute_result"
    }
   ],
   "source": [
    "\"it is raining\".index(\"raining\")"
   ]
  },
  {
   "cell_type": "code",
   "execution_count": 1,
   "id": "fd952234-a91c-4142-bdae-973f4075ad82",
   "metadata": {},
   "outputs": [
    {
     "data": {
      "text/plain": [
       "6"
      ]
     },
     "execution_count": 1,
     "metadata": {},
     "output_type": "execute_result"
    }
   ],
   "source": [
    "\"it is raining\".index(\"r\")"
   ]
  },
  {
   "cell_type": "markdown",
   "id": "6b64f2fe-a643-4a44-9f0c-923b6f499e38",
   "metadata": {},
   "source": [
    "## 5. ENDSWITH\\STARTSWITH"
   ]
  },
  {
   "cell_type": "code",
   "execution_count": 10,
   "id": "86f339f3-ac50-4ed2-b0e3-3e1355446767",
   "metadata": {},
   "outputs": [
    {
     "data": {
      "text/plain": [
       "True"
      ]
     },
     "execution_count": 10,
     "metadata": {},
     "output_type": "execute_result"
    }
   ],
   "source": [
    "\"it is raining\".endswith(\"ing\")"
   ]
  },
  {
   "cell_type": "code",
   "execution_count": 12,
   "id": "abda4a57-a345-4065-9e9c-c1907633919b",
   "metadata": {},
   "outputs": [
    {
     "data": {
      "text/plain": [
       "False"
      ]
     },
     "execution_count": 12,
     "metadata": {},
     "output_type": "execute_result"
    }
   ],
   "source": [
    "\"it is raining\".endswith(\"ingf\")"
   ]
  },
  {
   "cell_type": "code",
   "execution_count": 16,
   "id": "7fd9e654-4a96-45a2-b99c-46faaddfd574",
   "metadata": {},
   "outputs": [
    {
     "data": {
      "text/plain": [
       "True"
      ]
     },
     "execution_count": 16,
     "metadata": {},
     "output_type": "execute_result"
    }
   ],
   "source": [
    "\"it is raining\".startswith(\"it\")"
   ]
  },
  {
   "cell_type": "markdown",
   "id": "062543a3-eb27-47e1-9cee-166266c3080c",
   "metadata": {},
   "source": [
    "## 6. Format"
   ]
  },
  {
   "cell_type": "code",
   "execution_count": 20,
   "id": "3edcdc52-dc55-43cc-8dd5-06819d4e775a",
   "metadata": {},
   "outputs": [
    {
     "data": {
      "text/plain": [
       "'Hello my name is vishesh and I am 19'"
      ]
     },
     "execution_count": 20,
     "metadata": {},
     "output_type": "execute_result"
    }
   ],
   "source": [
    "\"Hello my name is {} and I am {}\".format(\"vishesh\", 19)"
   ]
  },
  {
   "cell_type": "code",
   "execution_count": 22,
   "id": "a46a002d-cf31-4a07-9e5e-0bad6d9291f6",
   "metadata": {},
   "outputs": [
    {
     "data": {
      "text/plain": [
       "'Hello my name is 22 and I am vishesh'"
      ]
     },
     "execution_count": 22,
     "metadata": {},
     "output_type": "execute_result"
    }
   ],
   "source": [
    "\"Hello my name is {1} and I am {0}\".format(\"vishesh\", 22)"
   ]
  },
  {
   "cell_type": "code",
   "execution_count": 24,
   "id": "b9cad73d-c27c-4d88-a2a3-0ff07bf797c7",
   "metadata": {},
   "outputs": [
    {
     "data": {
      "text/plain": [
       "'Hello my name is vishesh and I am 19'"
      ]
     },
     "execution_count": 24,
     "metadata": {},
     "output_type": "execute_result"
    }
   ],
   "source": [
    "\"Hello my name is {name} and I am {age}\".format(name = \"vishesh\", age = 19)"
   ]
  },
  {
   "cell_type": "code",
   "execution_count": 26,
   "id": "cf0befef-1ea7-446b-8f98-8f70cb23dfbc",
   "metadata": {},
   "outputs": [
    {
     "data": {
      "text/plain": [
       "'Hello my name is 19 and I am vishesh sangwam'"
      ]
     },
     "execution_count": 26,
     "metadata": {},
     "output_type": "execute_result"
    }
   ],
   "source": [
    "\"Hello my name is {age} and I am {name}\".format(name = \"vishesh sangwam\", age = 19)"
   ]
  },
  {
   "cell_type": "code",
   "execution_count": 30,
   "id": "abd04bae-b183-413e-97b7-afe5ebc584b2",
   "metadata": {},
   "outputs": [
    {
     "data": {
      "text/plain": [
       "'hello my name is 19 and i am vishesh'"
      ]
     },
     "execution_count": 30,
     "metadata": {},
     "output_type": "execute_result"
    }
   ],
   "source": [
    "\"hello my name is {age} and i am {name}\" .format(name = \"vishesh\", age = 19)"
   ]
  },
  {
   "cell_type": "code",
   "execution_count": 34,
   "id": "9d62ca05-b8ac-4bab-8819-cf12b1e4ec8e",
   "metadata": {},
   "outputs": [
    {
     "data": {
      "text/plain": [
       "'hello my name is vishesh and i am vishesh'"
      ]
     },
     "execution_count": 34,
     "metadata": {},
     "output_type": "execute_result"
    }
   ],
   "source": [
    "\"hello my name is {name} and i am {name}\" .format(name = \"vishesh\" ,age = 19, weight = 74)"
   ]
  },
  {
   "cell_type": "markdown",
   "id": "a84e318d-3c12-4394-9d59-ff67dec47e0f",
   "metadata": {},
   "source": [
    "## 7. isalnum/isalpha/isdecimal/isdigit/isidentifier"
   ]
  },
  {
   "cell_type": "code",
   "execution_count": 40,
   "id": "4a8c4305-e1d4-47ac-b53b-ddc4b470ef35",
   "metadata": {},
   "outputs": [
    {
     "data": {
      "text/plain": [
       "True"
      ]
     },
     "execution_count": 40,
     "metadata": {},
     "output_type": "execute_result"
    }
   ],
   "source": [
    "\"FLAT20\".isalnum()"
   ]
  },
  {
   "cell_type": "code",
   "execution_count": 42,
   "id": "01f4221c-8db3-4621-aaff-2c685862e693",
   "metadata": {},
   "outputs": [
    {
     "data": {
      "text/plain": [
       "False"
      ]
     },
     "execution_count": 42,
     "metadata": {},
     "output_type": "execute_result"
    }
   ],
   "source": [
    "\"FLAT20&\".isalnum()"
   ]
  },
  {
   "cell_type": "code",
   "execution_count": 44,
   "id": "507fbddb-2f54-4076-b461-e26e4ab6d6a1",
   "metadata": {},
   "outputs": [
    {
     "data": {
      "text/plain": [
       "True"
      ]
     },
     "execution_count": 44,
     "metadata": {},
     "output_type": "execute_result"
    }
   ],
   "source": [
    "\"FLAT\".isalpha() "
   ]
  },
  {
   "cell_type": "code",
   "execution_count": 46,
   "id": "f00a1d5b-5e75-470a-a85e-01d6e7f9e3b3",
   "metadata": {},
   "outputs": [
    {
     "data": {
      "text/plain": [
       "False"
      ]
     },
     "execution_count": 46,
     "metadata": {},
     "output_type": "execute_result"
    }
   ],
   "source": [
    "\"FLAT20\".isalpha()"
   ]
  },
  {
   "cell_type": "code",
   "execution_count": 50,
   "id": "5a9d9598-4b12-4d84-ad11-51c3d6c8e3d2",
   "metadata": {},
   "outputs": [
    {
     "data": {
      "text/plain": [
       "True"
      ]
     },
     "execution_count": 50,
     "metadata": {},
     "output_type": "execute_result"
    }
   ],
   "source": [
    "\"20\".isdigit()"
   ]
  },
  {
   "cell_type": "code",
   "execution_count": 52,
   "id": "299f8f55-b0f6-4100-bd45-a852e93cdd61",
   "metadata": {},
   "outputs": [
    {
     "data": {
      "text/plain": [
       "False"
      ]
     },
     "execution_count": 52,
     "metadata": {},
     "output_type": "execute_result"
    }
   ],
   "source": [
    "\"20A\".isdigit()"
   ]
  },
  {
   "cell_type": "code",
   "execution_count": 54,
   "id": "6cf2a8b5-7f9c-4ee4-a67f-944093d06c84",
   "metadata": {},
   "outputs": [
    {
     "data": {
      "text/plain": [
       "False"
      ]
     },
     "execution_count": 54,
     "metadata": {},
     "output_type": "execute_result"
    }
   ],
   "source": [
    "\"Hello World\".isidentifier()"
   ]
  },
  {
   "cell_type": "code",
   "execution_count": 56,
   "id": "c2f413f8-5da3-4da7-990d-de62142da402",
   "metadata": {},
   "outputs": [
    {
     "data": {
      "text/plain": [
       "True"
      ]
     },
     "execution_count": 56,
     "metadata": {},
     "output_type": "execute_result"
    }
   ],
   "source": [
    "\"Hello_World\".isidentifier()"
   ]
  },
  {
   "cell_type": "markdown",
   "id": "54abf5be-fb09-4612-a1d3-13084b7d1348",
   "metadata": {},
   "source": [
    "## 8. Split"
   ]
  },
  {
   "cell_type": "code",
   "execution_count": 59,
   "id": "85479b81-bd35-46e5-83f3-152fdd4a9198",
   "metadata": {},
   "outputs": [
    {
     "data": {
      "text/plain": [
       "['who', 'is', 'the', 'pm', 'of', 'india']"
      ]
     },
     "execution_count": 59,
     "metadata": {},
     "output_type": "execute_result"
    }
   ],
   "source": [
    "\"who is the pm of india\".split()"
   ]
  },
  {
   "cell_type": "code",
   "execution_count": 61,
   "id": "dcbe13e1-5557-4a9e-b48b-f1a0fe013355",
   "metadata": {},
   "outputs": [
    {
     "data": {
      "text/plain": [
       "['who is the ', ' of india']"
      ]
     },
     "execution_count": 61,
     "metadata": {},
     "output_type": "execute_result"
    }
   ],
   "source": [
    "\"who is the pm of india\".split(\"pm\")"
   ]
  },
  {
   "cell_type": "code",
   "execution_count": 63,
   "id": "fe2af549-92e4-470e-b046-98e1a19f1158",
   "metadata": {},
   "outputs": [
    {
     "data": {
      "text/plain": [
       "['who ', 's the pm of ', 'nd', 'a']"
      ]
     },
     "execution_count": 63,
     "metadata": {},
     "output_type": "execute_result"
    }
   ],
   "source": [
    "\"who is the pm of india\".split(\"i\")"
   ]
  },
  {
   "cell_type": "code",
   "execution_count": 65,
   "id": "a54d317b-98b8-4844-8f23-0ef37707ad12",
   "metadata": {},
   "outputs": [
    {
     "data": {
      "text/plain": [
       "['who is the pm of india']"
      ]
     },
     "execution_count": 65,
     "metadata": {},
     "output_type": "execute_result"
    }
   ],
   "source": [
    "\"who is the pm of india\".split(\"x\")"
   ]
  },
  {
   "cell_type": "markdown",
   "id": "20cb112a-343e-4cf2-af80-968e15af3959",
   "metadata": {},
   "source": [
    "## 9. Join"
   ]
  },
  {
   "cell_type": "code",
   "execution_count": 70,
   "id": "11eed62f-b24a-4133-b94f-bb9fdf7e9bee",
   "metadata": {},
   "outputs": [
    {
     "data": {
      "text/plain": [
       "'who is the pm of india'"
      ]
     },
     "execution_count": 70,
     "metadata": {},
     "output_type": "execute_result"
    }
   ],
   "source": [
    "\" \".join(['who', 'is', 'the', 'pm', 'of', 'india'])"
   ]
  },
  {
   "cell_type": "code",
   "execution_count": 85,
   "id": "86ff4029-4a7d-4b50-8255-f0df701efb32",
   "metadata": {},
   "outputs": [
    {
     "data": {
      "text/plain": [
       "'who-is-the-pm-of-india'"
      ]
     },
     "execution_count": 85,
     "metadata": {},
     "output_type": "execute_result"
    }
   ],
   "source": [
    "\"-\".join(['who', 'is', 'the', 'pm', 'of', 'india'])"
   ]
  },
  {
   "cell_type": "code",
   "execution_count": 90,
   "id": "39527898-2933-4364-96f8-b39a66aa2b2e",
   "metadata": {},
   "outputs": [
    {
     "data": {
      "text/plain": [
       "'ronaldo-is-the-best-footballer-in-the-world'"
      ]
     },
     "execution_count": 90,
     "metadata": {},
     "output_type": "execute_result"
    }
   ],
   "source": [
    "\"-\".join([\"ronaldo\", \"is\", \"the\", \"best\", \"footballer\", \"in\", \"the\", \"world\"])"
   ]
  },
  {
   "cell_type": "markdown",
   "id": "9d229284-0f88-402f-b899-ffdbd3730a32",
   "metadata": {},
   "source": [
    "## 10. Replace"
   ]
  },
  {
   "cell_type": "code",
   "execution_count": 77,
   "id": "99511af8-cbc5-4504-a53b-b5f654d8cf8d",
   "metadata": {},
   "outputs": [
    {
     "data": {
      "text/plain": [
       "'Hi my name is vishesh'"
      ]
     },
     "execution_count": 77,
     "metadata": {},
     "output_type": "execute_result"
    }
   ],
   "source": [
    "\"Hi my name is Saurabh\".replace(\"Saurabh\", \"vishesh\")"
   ]
  },
  {
   "cell_type": "code",
   "execution_count": 79,
   "id": "3fc0f7c1-9b82-45fa-ac25-602c270f3fb0",
   "metadata": {},
   "outputs": [
    {
     "data": {
      "text/plain": [
       "'hi my name is kushal'"
      ]
     },
     "execution_count": 79,
     "metadata": {},
     "output_type": "execute_result"
    }
   ],
   "source": [
    "\"hi my name is kunal\" .replace(\"kunal\", \"kushal\")"
   ]
  },
  {
   "cell_type": "code",
   "execution_count": 81,
   "id": "5f2975d5-38c6-492e-b883-43b179b0e617",
   "metadata": {},
   "outputs": [
    {
     "data": {
      "text/plain": [
       "'hi my name is vaibhav'"
      ]
     },
     "execution_count": 81,
     "metadata": {},
     "output_type": "execute_result"
    }
   ],
   "source": [
    "\"hi my name is varun\" .replace(\"varun\", \"vaibhav\")"
   ]
  },
  {
   "cell_type": "code",
   "execution_count": 83,
   "id": "a8afa8aa-7d0e-411b-8699-5d722c061084",
   "metadata": {},
   "outputs": [
    {
     "data": {
      "text/plain": [
       "'hi my name is vishesh'"
      ]
     },
     "execution_count": 83,
     "metadata": {},
     "output_type": "execute_result"
    }
   ],
   "source": [
    "\"hi my name is vishal\" .replace(\"vishal\", \"vishesh\")"
   ]
  },
  {
   "cell_type": "markdown",
   "id": "1536975f-e67f-46a0-92e2-9b1600263848",
   "metadata": {},
   "source": [
    "## 11. Strip"
   ]
  },
  {
   "cell_type": "code",
   "execution_count": 93,
   "id": "7d988180-ddbd-442a-af67-bef5d6e67ab5",
   "metadata": {},
   "outputs": [
    {
     "data": {
      "text/plain": [
       "'          vishesh           '"
      ]
     },
     "execution_count": 93,
     "metadata": {},
     "output_type": "execute_result"
    }
   ],
   "source": [
    "name = \"          vishesh           \"\n",
    "name"
   ]
  },
  {
   "cell_type": "code",
   "execution_count": 95,
   "id": "680a484b-0c0d-4d5a-adaf-c67f54d8816c",
   "metadata": {},
   "outputs": [
    {
     "data": {
      "text/plain": [
       "'          vishesh sangwan           '"
      ]
     },
     "execution_count": 95,
     "metadata": {},
     "output_type": "execute_result"
    }
   ],
   "source": [
    "name = \"          vishesh sangwan           \"\n",
    "name"
   ]
  },
  {
   "cell_type": "code",
   "execution_count": 97,
   "id": "fcbf88c6-1615-4bfa-a55e-201a7102dd63",
   "metadata": {},
   "outputs": [
    {
     "data": {
      "text/plain": [
       "'Hi          vishesh sangwan           '"
      ]
     },
     "execution_count": 97,
     "metadata": {},
     "output_type": "execute_result"
    }
   ],
   "source": [
    "\"Hi\" + name"
   ]
  },
  {
   "cell_type": "code",
   "execution_count": 99,
   "id": "9f218467-ffc8-45c7-9db2-f88ef780df31",
   "metadata": {},
   "outputs": [
    {
     "data": {
      "text/plain": [
       "'vishesh sangwan'"
      ]
     },
     "execution_count": 99,
     "metadata": {},
     "output_type": "execute_result"
    }
   ],
   "source": [
    "name.strip()"
   ]
  },
  {
   "cell_type": "code",
   "execution_count": null,
   "id": "9a265aec-abb9-49ab-a7e0-79aa44865433",
   "metadata": {},
   "outputs": [],
   "source": []
  }
 ],
 "metadata": {
  "kernelspec": {
   "display_name": "Python [conda env:base] *",
   "language": "python",
   "name": "conda-base-py"
  },
  "language_info": {
   "codemirror_mode": {
    "name": "ipython",
    "version": 3
   },
   "file_extension": ".py",
   "mimetype": "text/x-python",
   "name": "python",
   "nbconvert_exporter": "python",
   "pygments_lexer": "ipython3",
   "version": "3.12.7"
  }
 },
 "nbformat": 4,
 "nbformat_minor": 5
}
