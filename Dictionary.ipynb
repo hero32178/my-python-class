{
 "cells": [
  {
   "cell_type": "markdown",
   "id": "d42ac937-ddad-4e2f-af01-eb322d7a8bf2",
   "metadata": {},
   "source": [
    "## DICTIONARY"
   ]
  },
  {
   "cell_type": "code",
   "execution_count": 8,
   "id": "6691ef31-bec5-45c6-8921-b24196d84781",
   "metadata": {},
   "outputs": [
    {
     "data": {
      "text/plain": [
       "{'Vishesh': 12, 'aman': 13, 'rahul': 51}"
      ]
     },
     "execution_count": 8,
     "metadata": {},
     "output_type": "execute_result"
    }
   ],
   "source": [
    "X = {\"Vishesh\": 12, \"aman\": 13, \"rahul\" : 51} \n",
    "X"
   ]
  },
  {
   "cell_type": "code",
   "execution_count": 16,
   "id": "2ce73b2a-46ee-4582-aecb-7fb17b19ed34",
   "metadata": {},
   "outputs": [
    {
     "data": {
      "text/plain": [
       "12"
      ]
     },
     "execution_count": 16,
     "metadata": {},
     "output_type": "execute_result"
    }
   ],
   "source": [
    "X[\"Vishesh\"]"
   ]
  },
  {
   "cell_type": "code",
   "execution_count": 18,
   "id": "e6b95f23-9430-474e-ba2d-70b152c03d58",
   "metadata": {},
   "outputs": [
    {
     "data": {
      "text/plain": [
       "13"
      ]
     },
     "execution_count": 18,
     "metadata": {},
     "output_type": "execute_result"
    }
   ],
   "source": [
    "X [\"aman\"]"
   ]
  },
  {
   "cell_type": "code",
   "execution_count": 20,
   "id": "5761521f-2108-41b5-872d-11e3f07c70b0",
   "metadata": {},
   "outputs": [
    {
     "data": {
      "text/plain": [
       "51"
      ]
     },
     "execution_count": 20,
     "metadata": {},
     "output_type": "execute_result"
    }
   ],
   "source": [
    "X [\"rahul\"]"
   ]
  },
  {
   "cell_type": "code",
   "execution_count": 22,
   "id": "0a69487e-9b47-4b02-830f-7367a1636e5e",
   "metadata": {},
   "outputs": [
    {
     "data": {
      "text/plain": [
       "dict_items([('Vishesh', 12), ('aman', 13), ('rahul', 51)])"
      ]
     },
     "execution_count": 22,
     "metadata": {},
     "output_type": "execute_result"
    }
   ],
   "source": [
    "X.items()"
   ]
  },
  {
   "cell_type": "code",
   "execution_count": 24,
   "id": "e823b1e1-fd44-4afa-a062-40ae53fa1d84",
   "metadata": {},
   "outputs": [
    {
     "data": {
      "text/plain": [
       "dict_keys(['Vishesh', 'aman', 'rahul'])"
      ]
     },
     "execution_count": 24,
     "metadata": {},
     "output_type": "execute_result"
    }
   ],
   "source": [
    "X.keys()"
   ]
  },
  {
   "cell_type": "code",
   "execution_count": 47,
   "id": "0e92e7b8-d117-4f4e-a781-eb58bf8073fb",
   "metadata": {},
   "outputs": [
    {
     "data": {
      "text/plain": [
       "dict_values([12, 13, 51])"
      ]
     },
     "execution_count": 47,
     "metadata": {},
     "output_type": "execute_result"
    }
   ],
   "source": [
    "X.values()"
   ]
  },
  {
   "cell_type": "code",
   "execution_count": 45,
   "id": "54399a40-d76b-4c66-a214-55a2f8ae9e4c",
   "metadata": {},
   "outputs": [
    {
     "name": "stdout",
     "output_type": "stream",
     "text": [
      "12 13 51 "
     ]
    }
   ],
   "source": [
    "for y in X.values():\n",
    "    print(y,end=\" \")"
   ]
  },
  {
   "cell_type": "markdown",
   "id": "fb4e8b36-f180-47d1-ab28-59ff51dd6485",
   "metadata": {},
   "source": [
    "## DICTIONARY OPERATOR"
   ]
  },
  {
   "cell_type": "code",
   "execution_count": 51,
   "id": "cc3dd80f-d040-44b9-b1c9-924590185b3b",
   "metadata": {},
   "outputs": [
    {
     "name": "stdout",
     "output_type": "stream",
     "text": [
      "name vishesh\n",
      "gender male\n",
      "age 19\n"
     ]
    }
   ],
   "source": [
    "d = {'name':'vishesh','gender':'male','age':19}\n",
    "\n",
    "for i in d:\n",
    "  print(i,d[i])"
   ]
  },
  {
   "cell_type": "code",
   "execution_count": 60,
   "id": "886e52a4-24a4-4de6-b586-06b3587e34a0",
   "metadata": {},
   "outputs": [
    {
     "data": {
      "text/plain": [
       "list[{12: 'Vishesh', 13: 'aman', 51: 'rahul'}]"
      ]
     },
     "execution_count": 60,
     "metadata": {},
     "output_type": "execute_result"
    }
   ],
   "source": [
    "X = list[{12: \"Vishesh\",13: \"aman\",51: \"rahul\"}] \n",
    "X"
   ]
  },
  {
   "cell_type": "code",
   "execution_count": 62,
   "id": "e910f150-097f-4a96-b595-a2ed04ba801b",
   "metadata": {},
   "outputs": [
    {
     "data": {
      "text/plain": [
       "list[{'Vishesh': 12, 'aman': 13, 'rahul': 51}]"
      ]
     },
     "execution_count": 62,
     "metadata": {},
     "output_type": "execute_result"
    }
   ],
   "source": [
    "X =list[{\"Vishesh\": 12, \"aman\": 13, \"rahul\" : 51}] \n",
    "X"
   ]
  },
  {
   "cell_type": "code",
   "execution_count": 68,
   "id": "de87dc9f-2ccc-4af1-97f0-cabf76287c6a",
   "metadata": {},
   "outputs": [
    {
     "data": {
      "text/plain": [
       "{'hello': 22, 'world': 21, 'pyhton': 50}"
      ]
     },
     "execution_count": 68,
     "metadata": {},
     "output_type": "execute_result"
    }
   ],
   "source": [
    "v = {\"hello\": 22, \"world\": 21, \"pyhton\" : 50}\n",
    "v"
   ]
  },
  {
   "cell_type": "code",
   "execution_count": 70,
   "id": "f9b3cb9e-60ea-4b04-88ef-b736278c1ec6",
   "metadata": {},
   "outputs": [
    {
     "name": "stdout",
     "output_type": "stream",
     "text": [
      "22 21 50 "
     ]
    }
   ],
   "source": [
    "for y in v.values():\n",
    "    print(y,end=\" \")"
   ]
  },
  {
   "cell_type": "code",
   "execution_count": 95,
   "id": "a13f2676-26eb-489d-b650-6ce2c624ce06",
   "metadata": {},
   "outputs": [
    {
     "data": {
      "text/plain": [
       "{'open': 31, 'yellow': 33, 'red': 44}"
      ]
     },
     "execution_count": 95,
     "metadata": {},
     "output_type": "execute_result"
    }
   ],
   "source": [
    "f = {\"open\": 31, \"yellow\": 33, \"red\": 44}\n",
    "f"
   ]
  },
  {
   "cell_type": "code",
   "execution_count": 97,
   "id": "980ad53f-a129-4479-bf58-94e0d793bc67",
   "metadata": {},
   "outputs": [
    {
     "name": "stdout",
     "output_type": "stream",
     "text": [
      "31 33 44 "
     ]
    }
   ],
   "source": [
    "for y in f.values():\n",
    "    print(y,end=\" \")"
   ]
  },
  {
   "cell_type": "code",
   "execution_count": null,
   "id": "62abc480-9347-4d93-9af4-8b3d2d9a81e1",
   "metadata": {},
   "outputs": [],
   "source": []
  }
 ],
 "metadata": {
  "kernelspec": {
   "display_name": "Python [conda env:base] *",
   "language": "python",
   "name": "conda-base-py"
  },
  "language_info": {
   "codemirror_mode": {
    "name": "ipython",
    "version": 3
   },
   "file_extension": ".py",
   "mimetype": "text/x-python",
   "name": "python",
   "nbconvert_exporter": "python",
   "pygments_lexer": "ipython3",
   "version": "3.12.7"
  }
 },
 "nbformat": 4,
 "nbformat_minor": 5
}
