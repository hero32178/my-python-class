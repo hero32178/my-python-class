{
 "cells": [
  {
   "cell_type": "markdown",
   "id": "089a396f-fb63-4903-8bba-e0c9737ef445",
   "metadata": {},
   "source": [
    "# lambda"
   ]
  },
  {
   "cell_type": "code",
   "execution_count": 20,
   "id": "c8a44d3e-d005-4b8e-ae88-229c8b31c1b7",
   "metadata": {},
   "outputs": [
    {
     "data": {
      "text/plain": [
       "16"
      ]
     },
     "execution_count": 20,
     "metadata": {},
     "output_type": "execute_result"
    }
   ],
   "source": [
    "a=lambda b:b**2\n",
    "a(4)"
   ]
  },
  {
   "cell_type": "code",
   "execution_count": 44,
   "id": "f3e68e53-103e-4511-b419-e6f0a148d91a",
   "metadata": {},
   "outputs": [
    {
     "data": {
      "text/plain": [
       "False"
      ]
     },
     "execution_count": 44,
     "metadata": {},
     "output_type": "execute_result"
    }
   ],
   "source": [
    "a=lambda b:'f' in b\n",
    "a('rohit')"
   ]
  },
  {
   "cell_type": "code",
   "execution_count": 50,
   "id": "7aa6e347-7f21-4616-bca7-8f92a2d958a0",
   "metadata": {},
   "outputs": [
    {
     "data": {
      "text/plain": [
       "'even'"
      ]
     },
     "execution_count": 50,
     "metadata": {},
     "output_type": "execute_result"
    }
   ],
   "source": [
    "x= lambda s:\"even\" if s%2==0 else \"odd\"\n",
    "x(2)"
   ]
  },
  {
   "cell_type": "code",
   "execution_count": 52,
   "id": "57ea74bd-b453-4bb3-aee9-1f6df43fea4d",
   "metadata": {},
   "outputs": [
    {
     "data": {
      "text/plain": [
       "'positive'"
      ]
     },
     "execution_count": 52,
     "metadata": {},
     "output_type": "execute_result"
    }
   ],
   "source": [
    "y=lambda s:\"positive\" if s>0 else \"negative\"\n",
    "y(5)"
   ]
  },
  {
   "cell_type": "code",
   "execution_count": 54,
   "id": "6bccbd03-a79f-42fd-97c6-ab3cb0ef6be3",
   "metadata": {},
   "outputs": [
    {
     "data": {
      "text/plain": [
       "'negative'"
      ]
     },
     "execution_count": 54,
     "metadata": {},
     "output_type": "execute_result"
    }
   ],
   "source": [
    "y=lambda s:\"positive\" if s>0 else \"negative\"\n",
    "y(-3)"
   ]
  },
  {
   "cell_type": "code",
   "execution_count": 58,
   "id": "faf5c5d6-5769-416a-bf26-134198de81c3",
   "metadata": {},
   "outputs": [
    {
     "data": {
      "text/plain": [
       "'positive'"
      ]
     },
     "execution_count": 58,
     "metadata": {},
     "output_type": "execute_result"
    }
   ],
   "source": [
    "y=lambda s:\"positive\" if s>=0 else \"negative\"\n",
    "y(0)"
   ]
  },
  {
   "cell_type": "code",
   "execution_count": 82,
   "id": "9ecfcd84-53e6-4c45-877d-7e96c854d1f8",
   "metadata": {},
   "outputs": [
    {
     "data": {
      "text/plain": [
       "'True'"
      ]
     },
     "execution_count": 82,
     "metadata": {},
     "output_type": "execute_result"
    }
   ],
   "source": [
    "a= (\"technoglobe\")\n",
    "z=lambda x: \"True\" if x in a else \"false\" \n",
    "z(\"h\")"
   ]
  },
  {
   "cell_type": "code",
   "execution_count": null,
   "id": "b07eee64-2e9d-42a0-a8a5-4da2101f446e",
   "metadata": {},
   "outputs": [],
   "source": []
  }
 ],
 "metadata": {
  "kernelspec": {
   "display_name": "Python [conda env:base] *",
   "language": "python",
   "name": "conda-base-py"
  },
  "language_info": {
   "codemirror_mode": {
    "name": "ipython",
    "version": 3
   },
   "file_extension": ".py",
   "mimetype": "text/x-python",
   "name": "python",
   "nbconvert_exporter": "python",
   "pygments_lexer": "ipython3",
   "version": "3.12.7"
  }
 },
 "nbformat": 4,
 "nbformat_minor": 5
}
