{
 "cells": [
  {
   "cell_type": "markdown",
   "id": "a1e7ee11-9384-407e-a280-929ed2f05034",
   "metadata": {},
   "source": [
    "Logical Operator"
   ]
  },
  {
   "cell_type": "code",
   "execution_count": 3,
   "id": "09b3ec29-1e4e-415a-b070-b4c6eb4f7ce6",
   "metadata": {},
   "outputs": [],
   "source": [
    "x =5\n",
    "y =5\n",
    "z =6"
   ]
  },
  {
   "cell_type": "code",
   "execution_count": 5,
   "id": "a463ba55-62c3-48aa-85a0-07f62e50bad9",
   "metadata": {},
   "outputs": [
    {
     "data": {
      "text/plain": [
       "False"
      ]
     },
     "execution_count": 5,
     "metadata": {},
     "output_type": "execute_result"
    }
   ],
   "source": [
    "x==y and x==z"
   ]
  },
  {
   "cell_type": "code",
   "execution_count": 7,
   "id": "654f74d8-cdcd-4abe-a44f-573bfd45b1e2",
   "metadata": {},
   "outputs": [
    {
     "data": {
      "text/plain": [
       "False"
      ]
     },
     "execution_count": 7,
     "metadata": {},
     "output_type": "execute_result"
    }
   ],
   "source": [
    "y==z and y==x"
   ]
  },
  {
   "cell_type": "code",
   "execution_count": 9,
   "id": "7457123b-c7e9-4156-b9fd-7a15596e0e35",
   "metadata": {},
   "outputs": [
    {
     "data": {
      "text/plain": [
       "False"
      ]
     },
     "execution_count": 9,
     "metadata": {},
     "output_type": "execute_result"
    }
   ],
   "source": [
    "x==x and y==z\n",
    " "
   ]
  },
  {
   "cell_type": "code",
   "execution_count": 11,
   "id": "7bff266f-ee04-4730-8a9c-62a1e879aeba",
   "metadata": {},
   "outputs": [],
   "source": [
    "x=100\n",
    "y=200\n",
    "z=300"
   ]
  },
  {
   "cell_type": "code",
   "execution_count": 13,
   "id": "e263c1f9-1039-4585-8701-0c9a9bd3841f",
   "metadata": {},
   "outputs": [
    {
     "data": {
      "text/plain": [
       "False"
      ]
     },
     "execution_count": 13,
     "metadata": {},
     "output_type": "execute_result"
    }
   ],
   "source": [
    "x==y or x==z"
   ]
  },
  {
   "cell_type": "code",
   "execution_count": 15,
   "id": "38d0bf3c-0bc2-4730-917a-c889b17e1f9f",
   "metadata": {},
   "outputs": [
    {
     "data": {
      "text/plain": [
       "False"
      ]
     },
     "execution_count": 15,
     "metadata": {},
     "output_type": "execute_result"
    }
   ],
   "source": [
    "y==x or x==y"
   ]
  },
  {
   "cell_type": "code",
   "execution_count": 47,
   "id": "ea7d52ce-3454-4924-b2fc-68debf3a203d",
   "metadata": {},
   "outputs": [
    {
     "data": {
      "text/plain": [
       "False"
      ]
     },
     "execution_count": 47,
     "metadata": {},
     "output_type": "execute_result"
    }
   ],
   "source": [
    "x==y or y==x"
   ]
  },
  {
   "cell_type": "code",
   "execution_count": 49,
   "id": "6a4b8201-dcbb-4914-980d-edd4c6839d4f",
   "metadata": {},
   "outputs": [
    {
     "name": "stdout",
     "output_type": "stream",
     "text": [
      "False\n",
      "False\n"
     ]
    }
   ],
   "source": [
    "print(not z)\n",
    "print(not y)"
   ]
  },
  {
   "cell_type": "code",
   "execution_count": null,
   "id": "ad6be9c0-71f0-4315-8614-26be340f807c",
   "metadata": {},
   "outputs": [],
   "source": []
  }
 ],
 "metadata": {
  "kernelspec": {
   "display_name": "Python [conda env:base] *",
   "language": "python",
   "name": "conda-base-py"
  },
  "language_info": {
   "codemirror_mode": {
    "name": "ipython",
    "version": 3
   },
   "file_extension": ".py",
   "mimetype": "text/x-python",
   "name": "python",
   "nbconvert_exporter": "python",
   "pygments_lexer": "ipython3",
   "version": "3.12.7"
  }
 },
 "nbformat": 4,
 "nbformat_minor": 5
}
